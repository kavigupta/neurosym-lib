{
 "cells": [
  {
   "cell_type": "code",
   "execution_count": 2,
   "metadata": {},
   "outputs": [
    {
     "name": "stdout",
     "output_type": "stream",
     "text": [
      "/home/asehgal/neurosym-lib\n"
     ]
    },
    {
     "name": "stderr",
     "output_type": "stream",
     "text": [
      "/home/asehgal/neurosym-lib/.venv/lib/python3.10/site-packages/IPython/core/magics/osm.py:417: UserWarning: This is now an optional IPython functionality, setting dhist requires you to install the `pickleshare` library.\n",
      "  self.shell.db['dhist'] = compress_dhist(dhist)[-100:]\n"
     ]
    }
   ],
   "source": [
    "%cd /home/asehgal/neurosym-lib\n",
    "from pathlib import Path\n",
    "import numpy as np"
   ]
  },
  {
   "cell_type": "markdown",
   "metadata": {},
   "source": [
    "### Fly-vs.-Fly dataset\n",
    "The Fly-vs.-Fly benchmark [14] tracks a pair of fruit flies and the actions they perform while interacting across multiple contexts.\n",
    "Each timestep is encoded as a 53-dimensional feature vector that combines 17 pose/orientation attributes with 36 position-invariant descriptors such as linear and angular velocities.\n",
    "For the NEAR experiments we focus on bout-level classification over the Aggression and Boy-meets-Boy subsets, predicting one of seven aggressive, threatening, or neutral behaviors per trajectory.\n",
    "Trajectories are capped at 300 timesteps, and any sequence longer than this limit is split into multiple segments sharing the same action label to balance the data.\n",
    "The resulting splits contain 5339 training trajectories, 594 validation trajectories, and 1048 test trajectories with an average length of 42.06 timesteps.\n"
   ]
  },
  {
   "cell_type": "code",
   "execution_count": 3,
   "metadata": {},
   "outputs": [
    {
     "name": "stdout",
     "output_type": "stream",
     "text": [
      "train: data (5341, 300, 53) (dtype=float32), labels (5341, 1), n-unique labels 7\n",
      "val: data (629, 300, 53) (dtype=float32), labels (629, 1), n-unique labels 7\n",
      "test: data (1050, 300, 53) (dtype=float32), labels (1050, 1), n-unique labels 7\n"
     ]
    }
   ],
   "source": [
    "# Collate Fly-vs.-Fly sequences into fixed-length tensors and export train/val/test splits.\n",
    "fruitflies_folder = Path(\"./data/fruitflies_classification/fly_process/\")\n",
    "output_folder = fruitflies_folder.parent / \"flyvfly\"\n",
    "output_folder.mkdir(parents=True, exist_ok=True)\n",
    "\n",
    "MAX_LEN = 300\n",
    "FEATURE_DIM = 53\n",
    "\n",
    "def _ensure_2d(sequence):\n",
    "    sequence = np.asarray(sequence, dtype=np.float32)\n",
    "    if sequence.ndim != 2 or sequence.shape[1] != FEATURE_DIM:\n",
    "        raise ValueError(f\"Expected sequence with shape (T, {FEATURE_DIM}), got {sequence.shape}\")\n",
    "    return sequence\n",
    "\n",
    "def split_pad_sequence(sequence):\n",
    "    sequence = _ensure_2d(sequence)\n",
    "    segments = []\n",
    "    lengths = []\n",
    "    total_len = sequence.shape[0]\n",
    "    for start in range(0, total_len, MAX_LEN):\n",
    "        chunk = sequence[start : start + MAX_LEN]\n",
    "        actual_len = chunk.shape[0]\n",
    "        if actual_len == 0:\n",
    "            continue\n",
    "        if actual_len < MAX_LEN:\n",
    "            pad_frame = chunk[-1:, :]\n",
    "            padding = np.repeat(pad_frame, MAX_LEN - actual_len, axis=0)\n",
    "            chunk = np.concatenate([chunk, padding], axis=0)\n",
    "        segments.append(chunk.astype(np.float32, copy=False))\n",
    "        lengths.append(actual_len)\n",
    "    if not segments:\n",
    "        segments.append(np.zeros((MAX_LEN, FEATURE_DIM), dtype=np.float32))\n",
    "        lengths.append(0)\n",
    "    return segments, lengths\n",
    "\n",
    "for split in [\"train\", \"val\", \"test\"]:\n",
    "    raw_data = np.load(fruitflies_folder / f\"{split}_data.npy\", allow_pickle=True)\n",
    "    raw_labels = np.load(fruitflies_folder / f\"{split}_label.npy\", allow_pickle=True)\n",
    "    assert len(raw_data) == len(raw_labels)\n",
    "    collated_data = []\n",
    "    collated_labels = []\n",
    "    collated_lengths = []\n",
    "    for seq, label in zip(raw_data, raw_labels):\n",
    "        segments, lengths = split_pad_sequence(seq)\n",
    "        collated_data.extend(segments)\n",
    "        label_value = int(np.asarray(label).item())\n",
    "        collated_labels.extend([label_value] * len(segments))\n",
    "        collated_lengths.extend(lengths)\n",
    "\n",
    "    stacked = np.stack(collated_data, axis=0)\n",
    "    labels = np.asarray(collated_labels, dtype=np.int64).reshape(-1, 1)\n",
    "    lengths = np.asarray(collated_lengths, dtype=np.int32)\n",
    "\n",
    "    np.savez_compressed(output_folder / f\"{split}_flyvfly_data.npz\", stacked)\n",
    "    np.savez_compressed(output_folder / f\"{split}_flyvfly_labels.npz\", labels)\n",
    "    # np.savez_compressed(output_folder / f\"{split}_flyvfly_lengths.npz\", lengths)\n",
    "\n",
    "    print(f\"{split}: data {stacked.shape} (dtype={stacked.dtype}), labels {labels.shape}, n-unique labels {len(np.unique(labels))}\")\n"
   ]
  },
  {
   "cell_type": "code",
   "execution_count": 4,
   "metadata": {},
   "outputs": [
    {
     "name": "stdout",
     "output_type": "stream",
     "text": [
      "test_bball_data (2693, 25, 22) float32\n",
      "test_bball_labels (2693, 25, 1) 6 int64\n",
      "train_bball_data (18000, 25, 22) float32\n",
      "train_bball_labels (18000, 25, 1) 6 int64\n",
      "valid_bball_data (2801, 25, 22) float32\n",
      "valid_bball_labels (2801, 25, 1) 6 int64\n"
     ]
    }
   ],
   "source": [
    "# get the basketball data in the correct format.\n",
    "bball_folder = Path(\"./data/basketball_classification/bball_process/\")\n",
    "map_types = {\n",
    "    \"data\" : \"data\",\n",
    "    \"label\" : \"labels\",\n",
    "    \"labels\" : \"labels\",\n",
    "}\n",
    "\n",
    "for file_path in sorted(bball_folder.glob(\"*.npy\")):\n",
    "    split, typ = file_path.stem.replace(\"_basket\", \"\").split(\"_\")\n",
    "    typ = map_types[typ]\n",
    "    save_path = bball_folder.parent / \"bball\" / f\"{split}_bball_{typ}.npz\"\n",
    "    save_path.parent.mkdir(parents=True, exist_ok=True)\n",
    "    if typ == 'data':\n",
    "        data = np.load(file_path, allow_pickle=True).astype(np.float32)\n",
    "        print(save_path.stem, data.shape, data.dtype)\n",
    "        np.savez_compressed(save_path, data)\n",
    "    elif typ in \"labels\":\n",
    "        labels = np.load(file_path, allow_pickle=True).astype(np.int64)\n",
    "        print(save_path.stem, labels.shape, len(np.unique(labels)), labels.dtype)\n",
    "        np.savez_compressed(save_path, labels)\n"
   ]
  },
  {
   "cell_type": "code",
   "execution_count": 5,
   "metadata": {},
   "outputs": [
    {
     "data": {
      "text/plain": [
       "((5000, 13, 18), (5000, 1))"
      ]
     },
     "execution_count": 5,
     "metadata": {},
     "output_type": "execute_result"
    }
   ],
   "source": [
    "calms21 = Path(\"data\") / \"mice_classification\" / \"calms21_task1\"\n",
    "\n",
    "np.load(calms21 / \"train_data.npy\", allow_pickle=True).shape, np.load(calms21 / \"train_investigation_labels.npy\", allow_pickle=True).shape\n"
   ]
  },
  {
   "cell_type": "code",
   "execution_count": 7,
   "metadata": {},
   "outputs": [
    {
     "data": {
      "text/plain": [
       "((12404, 100, 19), (12404, 100))"
      ]
     },
     "execution_count": 7,
     "metadata": {},
     "output_type": "execute_result"
    }
   ],
   "source": [
    "crim13 = Path(\"data\") / \"mice_classification\" / \"crim13\"\n",
    "\n",
    "np.load(crim13 / \"train_crim13_data.npy\", allow_pickle=True).shape, np.load(crim13 / \"train_crim13_labels.npy\", allow_pickle=True).shape"
   ]
  },
  {
   "cell_type": "code",
   "execution_count": 13,
   "metadata": {},
   "outputs": [
    {
     "data": {
      "text/plain": [
       "((12404, 100, 19), (12404, 100))"
      ]
     },
     "execution_count": 13,
     "metadata": {},
     "output_type": "execute_result"
    }
   ],
   "source": [
    "np.load(crim13 / \"train_crim13_data.npy\", allow_pickle=True).shape, np.load(crim13 / \"train_crim13_labels_other.npy\", allow_pickle=True).shape"
   ]
  }
 ],
 "metadata": {
  "kernelspec": {
   "display_name": ".venv",
   "language": "python",
   "name": "python3"
  },
  "language_info": {
   "codemirror_mode": {
    "name": "ipython",
    "version": 3
   },
   "file_extension": ".py",
   "mimetype": "text/x-python",
   "name": "python",
   "nbconvert_exporter": "python",
   "pygments_lexer": "ipython3",
   "version": "3.10.12"
  }
 },
 "nbformat": 4,
 "nbformat_minor": 2
}
