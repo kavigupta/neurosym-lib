{
 "cells": [
  {
   "cell_type": "code",
   "execution_count": 1,
   "metadata": {},
   "outputs": [
    {
     "name": "stderr",
     "output_type": "stream",
     "text": [
      "/home/asehgal/env/miniconda3/envs/neurosym-lib/lib/python3.10/site-packages/IPython/core/magics/osm.py:417: UserWarning: using dhist requires you to install the `pickleshare` library.\n",
      "  self.shell.db['dhist'] = compress_dhist(dhist)[-100:]\n"
     ]
    },
    {
     "name": "stdout",
     "output_type": "stream",
     "text": [
      "/home/asehgal/neurosym-lib\n"
     ]
    }
   ],
   "source": [
    "%load_ext autoreload\n",
    "%autoreload 2\n",
    "%matplotlib inline\n",
    "%cd /home/asehgal/neurosym-lib\n",
    "\n",
    "import os\n",
    "import json\n",
    "import pickle\n",
    "import time\n",
    "from pathlib import Path\n",
    "import numpy as np\n",
    "import pandas as pd\n",
    "\n",
    "from sklearn.metrics import roc_curve\n",
    "\n",
    "import torch\n",
    "from sklearn.metrics import f1_score, hamming_loss\n",
    "\n",
    "import neurosym as ns\n",
    "from neurosym.examples import near\n",
    "\n",
    "LIST_LENGTH = 10"
   ]
  },
  {
   "cell_type": "code",
   "execution_count": 2,
   "metadata": {},
   "outputs": [],
   "source": [
    "def bce_loss(predictions: torch.Tensor, targets: torch.Tensor) -> torch.Tensor:\n",
    "    \"\"\"\n",
    "    Compute the binary cross entropy loss with class weights for the Tiny CalMS21 dataset.\n",
    "    This is the same loss function used in the base NEAR implementation.\n",
    "\n",
    "    Args:\n",
    "        predictions (torch.Tensor): Model predictions with shape (B, T, O).\n",
    "        targets (torch.Tensor): Ground truth labels with shape (B, T, 1).\n",
    "\n",
    "    Returns:\n",
    "        torch.Tensor: The computed binary cross-entropy loss.\n",
    "    \"\"\"\n",
    "    targets = targets.squeeze(-1)  # (B, T, 1) -> (B, T)\n",
    "    predictions = predictions.view(-1, predictions.shape[-1])\n",
    "    targets = targets.view_as(predictions)\n",
    "    # pylint: disable=not-callable\n",
    "    # targets_one_hot = torch.nn.functional.one_hot(targets, num_classes=2)\n",
    "    # pylint: enable=not-callable\n",
    "    return torch.nn.functional.binary_cross_entropy_with_logits(\n",
    "        predictions.float(),\n",
    "        targets.float(),\n",
    "        weight=torch.tensor([2.0], device=predictions.device),\n",
    "    )"
   ]
  },
  {
   "cell_type": "code",
   "execution_count": 3,
   "metadata": {},
   "outputs": [],
   "source": [
    "from sklearn.metrics import classification_report\n",
    "\n",
    "def compute_near_metrics(predictions, ground_truth):\n",
    "    try:\n",
    "        weighted_avg_f1 = f1_score(predictions, ground_truth, average=\"weighted\")\n",
    "        unweighted_avg_f1 = f1_score(predictions, ground_truth, average=\"macro\")\n",
    "        all_f1 = f1_score(predictions, ground_truth, average=None)\n",
    "    except Exception as e:\n",
    "        print(f\"Error computing F1 scores: {e}\")\n",
    "        weighted_avg_f1 = unweighted_avg_f1 = all_f1 = None\n",
    "\n",
    "    try:\n",
    "        hamming_accuracy = 1 - hamming_loss(ground_truth, predictions)\n",
    "    except Exception as e:\n",
    "        print(f\"Error computing Hamming accuracy: {e}\")\n",
    "        hamming_accuracy = None\n",
    "\n",
    "    try:\n",
    "        report = classification_report(\n",
    "            ground_truth,\n",
    "            predictions,\n",
    "            output_dict=True\n",
    "        )\n",
    "    except Exception as e:\n",
    "        print(f\"Error computing classification report: {e}\")\n",
    "        report = None\n",
    "\n",
    "    return dict(\n",
    "        f1_score=weighted_avg_f1,\n",
    "        unweighted_f1=unweighted_avg_f1,\n",
    "        all_f1s=all_f1,\n",
    "        hamming_accuracy=hamming_accuracy,\n",
    "        report=report\n",
    "    )"
   ]
  },
  {
   "cell_type": "code",
   "execution_count": 4,
   "metadata": {},
   "outputs": [],
   "source": [
    "from neurosym.examples.near import ValidationCost\n",
    "class DisjointValidationCost(ValidationCost):\n",
    "    @classmethod\n",
    "    def from_validation_cost(cls, validation_cost):\n",
    "        return cls(\n",
    "            trainer_cfg=validation_cost.trainer_cfg,\n",
    "            datamodule=validation_cost.datamodule,\n",
    "            progress_by_epoch=validation_cost.progress_by_epoch,\n",
    "            n_epochs=validation_cost.n_epochs,\n",
    "        )\n",
    "\n",
    "    def compute_cost(self, dsl, model, embedding):\n",
    "        # _ = super().compute_cost(dsl, model, embedding)\n",
    "        # compute the hamming loss\n",
    "        model = self.program_to_module(dsl, model, embedding)\n",
    "\n",
    "        labels = []\n",
    "        predictions = []\n",
    "        for batch in self.datamodule.val_dataloader():\n",
    "            batch = {k: v.to(self.trainer_cfg.accelerator) for k, v in batch.items()}\n",
    "            x, y = batch[\"inputs\"], batch[\"outputs\"]\n",
    "            pred_y = model(x, environment=())\n",
    "            predictions.append(pred_y)\n",
    "            labels.append(y)\n",
    "        \n",
    "        labels = torch.cat(labels, dim=0)\n",
    "        predictions = torch.cat(predictions, dim=0).detach()\n",
    "\n",
    "        fpr, tpr, thresholds = roc_curve(\n",
    "            labels.cpu().numpy().flatten(),\n",
    "            predictions.cpu().numpy().flatten(),\n",
    "        )\n",
    "        threshold = thresholds[np.argmax(tpr - fpr)]\n",
    "        predictions = (torch.sigmoid(predictions) < threshold).int()\n",
    "\n",
    "        # compute hamming loss\n",
    "        loss = 1 - hamming_loss(labels.cpu().numpy().flatten().int(), predictions.cpu().numpy().flatten())\n",
    "        return loss\n",
    "\n",
    "        "
   ]
  },
  {
   "cell_type": "code",
   "execution_count": 5,
   "metadata": {},
   "outputs": [],
   "source": [
    "def eval_program(module, feature_data, labels):\n",
    "    predictions = (\n",
    "        module(torch.tensor(feature_data), environment=())\n",
    "        .detach()\n",
    "        .numpy()\n",
    "        .flatten()\n",
    "    )\n",
    "    metrics = compute_near_metrics(predictions, labels)\n",
    "    return metrics, predictions\n",
    "\n",
    "def run_crim13_experiment(\n",
    "    output_path: str = \"outputs/compression_near_logs/crim13_results.pkl\",\n",
    "):\n",
    "    \"\"\"\n",
    "    Run the NEAR experiment on the CRIM13 dataset.\n",
    "\n",
    "    Args:\n",
    "        output_path (str): File path to save the resulting programs list as a pickle file.\n",
    "    \"\"\"\n",
    "\n",
    "    # Prepare data and DSL\n",
    "    hidden_dim = 1\n",
    "    datamodule = ns.datasets.crim13_data_example(train_seed=0, batch_size=1024)\n",
    "    # _, output_dim = datamodule.train.get_io_dims(is_regression=True)\n",
    "    output_dim = 1\n",
    "    original_dsl = near.simple_crim13_dsl(num_classes=output_dim, hidden_dim=hidden_dim)\n",
    "\n",
    "    # Trainer configuration\n",
    "    trainer_cfg = near.NEARTrainerConfig(\n",
    "        n_epochs=15,\n",
    "        lr=1e-3,\n",
    "        loss_callback=bce_loss,\n",
    "    )\n",
    "\n",
    "    neural_dsl = near.NeuralDSL.from_dsl(\n",
    "        dsl=original_dsl,\n",
    "        neural_hole_filler=near.GenericMLPRNNNeuralHoleFiller(hidden_size=hidden_dim),\n",
    "    )\n",
    "\n",
    "    cost = near.default_near_cost(\n",
    "        trainer_cfg=trainer_cfg,\n",
    "        datamodule=datamodule,\n",
    "        structural_cost_weight=0.005,\n",
    "    )\n",
    "    cost.validation_heuristic = DisjointValidationCost.from_validation_cost(cost.validation_heuristic)\n",
    "\n",
    "    # Create the NEAR graph\n",
    "    g = near.near_graph(\n",
    "        neural_dsl,\n",
    "        neural_dsl.valid_root_types[0],\n",
    "        is_goal=lambda _: True,\n",
    "        cost=cost,\n",
    "    )\n",
    "\n",
    "    # Search for programs with bounded A*\n",
    "    iterator = ns.search.bounded_astar(g, max_depth=15)\n",
    "\n",
    "    programs_list = []\n",
    "    start_time = time.time()\n",
    "\n",
    "    # Collect programs up to LIST_LENGTH\n",
    "    while True:\n",
    "        try:\n",
    "            program = next(iterator)\n",
    "        except StopIteration:\n",
    "            break\n",
    "\n",
    "        timer = time.time() - start_time\n",
    "        programs_list.append({\"program\": program, \"time\": timer})\n",
    "\n",
    "        if len(programs_list) >= LIST_LENGTH:\n",
    "            print(\"Programs list is too long\")\n",
    "            break\n",
    "\n",
    "    # Optional: Drop into an interactive shell (commented out for module usage)\n",
    "    # import IPython; IPython.embed()\n",
    "\n",
    "    # Evaluate each discovered program\n",
    "    for d in programs_list:\n",
    "        program = d[\"program\"]\n",
    "        initialized_program = neural_dsl.initialize(program)\n",
    "        _ = cost.validation_heuristic.with_n_epochs(40).compute_cost(\n",
    "            neural_dsl, initialized_program, cost.embedding\n",
    "        )\n",
    "\n",
    "        feature_data = datamodule.test.inputs\n",
    "        labels = datamodule.test.outputs.flatten()\n",
    "\n",
    "        module = ns.examples.near.TorchProgramModule(neural_dsl, initialized_program)\n",
    "        metrics, predictions = eval_program(\n",
    "            module,\n",
    "            feature_data,\n",
    "            labels\n",
    "        )\n",
    "        d[\"report\"] = metrics\n",
    "        d['true_vals'] = labels.tolist()\n",
    "        d['pred_vals'] = predictions.tolist()\n",
    "\n",
    "    # Save the programs_list to a pickle file\n",
    "    with open(output_path, \"wb\") as f:\n",
    "        pickle.dump(programs_list, f)\n"
   ]
  },
  {
   "cell_type": "code",
   "execution_count": 30,
   "metadata": {},
   "outputs": [
    {
     "name": "stderr",
     "output_type": "stream",
     "text": [
      "/home/asehgal/neurosym-lib/neurosym/dsl/dsl_factory.py:139: DeprecationWarning: The method parameterized is deprecated. Use production instead.\n",
      "  warnings.warn(\n",
      "/home/asehgal/neurosym-lib/neurosym/dsl/dsl_factory.py:123: DeprecationWarning: The method concrete is deprecated. Use production instead.\n",
      "  warnings.warn(\n"
     ]
    },
    {
     "name": "stdout",
     "output_type": "stream",
     "text": [
      "Training (mul (output (map (mul (affine_angle) (affine_bool_angle_change)))) (output (map (affine_bool_angle_change))))\n"
     ]
    },
    {
     "name": "stderr",
     "output_type": "stream",
     "text": [
      "/home/asehgal/env/miniconda3/envs/neurosym-lib/lib/python3.10/site-packages/sklearn/metrics/_classification.py:1531: UndefinedMetricWarning: Precision is ill-defined and being set to 0.0 in labels with no predicted samples. Use `zero_division` parameter to control this behavior.\n",
      "  _warn_prf(average, modifier, f\"{metric.capitalize()} is\", len(result))\n",
      "/home/asehgal/env/miniconda3/envs/neurosym-lib/lib/python3.10/site-packages/sklearn/metrics/_classification.py:1531: UndefinedMetricWarning: Precision is ill-defined and being set to 0.0 in labels with no predicted samples. Use `zero_division` parameter to control this behavior.\n",
      "  _warn_prf(average, modifier, f\"{metric.capitalize()} is\", len(result))\n",
      "/home/asehgal/env/miniconda3/envs/neurosym-lib/lib/python3.10/site-packages/sklearn/metrics/_classification.py:1531: UndefinedMetricWarning: Precision is ill-defined and being set to 0.0 in labels with no predicted samples. Use `zero_division` parameter to control this behavior.\n",
      "  _warn_prf(average, modifier, f\"{metric.capitalize()} is\", len(result))\n"
     ]
    },
    {
     "name": "stdout",
     "output_type": "stream",
     "text": [
      "Training (mul (output (map (mul (affine_angle) (affine_bool_angle_change)))) (output (map (add (affine_bool_angle_change) (affine_angle)))))\n"
     ]
    },
    {
     "name": "stderr",
     "output_type": "stream",
     "text": [
      "/home/asehgal/env/miniconda3/envs/neurosym-lib/lib/python3.10/site-packages/sklearn/metrics/_classification.py:1531: UndefinedMetricWarning: Precision is ill-defined and being set to 0.0 in labels with no predicted samples. Use `zero_division` parameter to control this behavior.\n",
      "  _warn_prf(average, modifier, f\"{metric.capitalize()} is\", len(result))\n",
      "/home/asehgal/env/miniconda3/envs/neurosym-lib/lib/python3.10/site-packages/sklearn/metrics/_classification.py:1531: UndefinedMetricWarning: Precision is ill-defined and being set to 0.0 in labels with no predicted samples. Use `zero_division` parameter to control this behavior.\n",
      "  _warn_prf(average, modifier, f\"{metric.capitalize()} is\", len(result))\n",
      "/home/asehgal/env/miniconda3/envs/neurosym-lib/lib/python3.10/site-packages/sklearn/metrics/_classification.py:1531: UndefinedMetricWarning: Precision is ill-defined and being set to 0.0 in labels with no predicted samples. Use `zero_division` parameter to control this behavior.\n",
      "  _warn_prf(average, modifier, f\"{metric.capitalize()} is\", len(result))\n"
     ]
    },
    {
     "name": "stdout",
     "output_type": "stream",
     "text": [
      "Training (mul (output (map (mul (affine_angle) (affine_bool_angle_change)))) (output (map (add (affine_bool_angle_change) (affine_bool_angle)))))\n"
     ]
    },
    {
     "name": "stderr",
     "output_type": "stream",
     "text": [
      "/home/asehgal/env/miniconda3/envs/neurosym-lib/lib/python3.10/site-packages/sklearn/metrics/_classification.py:1531: UndefinedMetricWarning: Precision is ill-defined and being set to 0.0 in labels with no predicted samples. Use `zero_division` parameter to control this behavior.\n",
      "  _warn_prf(average, modifier, f\"{metric.capitalize()} is\", len(result))\n",
      "/home/asehgal/env/miniconda3/envs/neurosym-lib/lib/python3.10/site-packages/sklearn/metrics/_classification.py:1531: UndefinedMetricWarning: Precision is ill-defined and being set to 0.0 in labels with no predicted samples. Use `zero_division` parameter to control this behavior.\n",
      "  _warn_prf(average, modifier, f\"{metric.capitalize()} is\", len(result))\n",
      "/home/asehgal/env/miniconda3/envs/neurosym-lib/lib/python3.10/site-packages/sklearn/metrics/_classification.py:1531: UndefinedMetricWarning: Precision is ill-defined and being set to 0.0 in labels with no predicted samples. Use `zero_division` parameter to control this behavior.\n",
      "  _warn_prf(average, modifier, f\"{metric.capitalize()} is\", len(result))\n"
     ]
    },
    {
     "name": "stdout",
     "output_type": "stream",
     "text": [
      "Training (mul (output (map (mul (affine_angle) (affine_bool_angle_change)))) (output (map (add (affine_bool_angle_change) (affine_angle_change)))))\n"
     ]
    },
    {
     "name": "stderr",
     "output_type": "stream",
     "text": [
      "/home/asehgal/env/miniconda3/envs/neurosym-lib/lib/python3.10/site-packages/sklearn/metrics/_classification.py:1531: UndefinedMetricWarning: Precision is ill-defined and being set to 0.0 in labels with no predicted samples. Use `zero_division` parameter to control this behavior.\n",
      "  _warn_prf(average, modifier, f\"{metric.capitalize()} is\", len(result))\n",
      "/home/asehgal/env/miniconda3/envs/neurosym-lib/lib/python3.10/site-packages/sklearn/metrics/_classification.py:1531: UndefinedMetricWarning: Precision is ill-defined and being set to 0.0 in labels with no predicted samples. Use `zero_division` parameter to control this behavior.\n",
      "  _warn_prf(average, modifier, f\"{metric.capitalize()} is\", len(result))\n",
      "/home/asehgal/env/miniconda3/envs/neurosym-lib/lib/python3.10/site-packages/sklearn/metrics/_classification.py:1531: UndefinedMetricWarning: Precision is ill-defined and being set to 0.0 in labels with no predicted samples. Use `zero_division` parameter to control this behavior.\n",
      "  _warn_prf(average, modifier, f\"{metric.capitalize()} is\", len(result))\n"
     ]
    },
    {
     "name": "stdout",
     "output_type": "stream",
     "text": [
      "Training (mul (output (map (mul (affine_angle) (affine_bool_angle_change)))) (output (map (add (affine_bool_angle_change) (affine_distance_change)))))\n"
     ]
    },
    {
     "name": "stderr",
     "output_type": "stream",
     "text": [
      "/home/asehgal/env/miniconda3/envs/neurosym-lib/lib/python3.10/site-packages/sklearn/metrics/_classification.py:1531: UndefinedMetricWarning: Precision is ill-defined and being set to 0.0 in labels with no predicted samples. Use `zero_division` parameter to control this behavior.\n",
      "  _warn_prf(average, modifier, f\"{metric.capitalize()} is\", len(result))\n",
      "/home/asehgal/env/miniconda3/envs/neurosym-lib/lib/python3.10/site-packages/sklearn/metrics/_classification.py:1531: UndefinedMetricWarning: Precision is ill-defined and being set to 0.0 in labels with no predicted samples. Use `zero_division` parameter to control this behavior.\n",
      "  _warn_prf(average, modifier, f\"{metric.capitalize()} is\", len(result))\n",
      "/home/asehgal/env/miniconda3/envs/neurosym-lib/lib/python3.10/site-packages/sklearn/metrics/_classification.py:1531: UndefinedMetricWarning: Precision is ill-defined and being set to 0.0 in labels with no predicted samples. Use `zero_division` parameter to control this behavior.\n",
      "  _warn_prf(average, modifier, f\"{metric.capitalize()} is\", len(result))\n"
     ]
    },
    {
     "name": "stdout",
     "output_type": "stream",
     "text": [
      "Training (mul (output (map (mul (affine_angle) (affine_bool_angle_change)))) (output (map (add (affine_bool_velocity) (affine_distance)))))\n"
     ]
    },
    {
     "name": "stderr",
     "output_type": "stream",
     "text": [
      "/home/asehgal/env/miniconda3/envs/neurosym-lib/lib/python3.10/site-packages/sklearn/metrics/_classification.py:1531: UndefinedMetricWarning: Precision is ill-defined and being set to 0.0 in labels with no predicted samples. Use `zero_division` parameter to control this behavior.\n",
      "  _warn_prf(average, modifier, f\"{metric.capitalize()} is\", len(result))\n",
      "/home/asehgal/env/miniconda3/envs/neurosym-lib/lib/python3.10/site-packages/sklearn/metrics/_classification.py:1531: UndefinedMetricWarning: Precision is ill-defined and being set to 0.0 in labels with no predicted samples. Use `zero_division` parameter to control this behavior.\n",
      "  _warn_prf(average, modifier, f\"{metric.capitalize()} is\", len(result))\n",
      "/home/asehgal/env/miniconda3/envs/neurosym-lib/lib/python3.10/site-packages/sklearn/metrics/_classification.py:1531: UndefinedMetricWarning: Precision is ill-defined and being set to 0.0 in labels with no predicted samples. Use `zero_division` parameter to control this behavior.\n",
      "  _warn_prf(average, modifier, f\"{metric.capitalize()} is\", len(result))\n"
     ]
    },
    {
     "name": "stdout",
     "output_type": "stream",
     "text": [
      "Training (mul (output (map (mul (affine_angle) (affine_bool_angle_change)))) (output (map (add (affine_bool_velocity) (affine_bool_position)))))\n"
     ]
    },
    {
     "name": "stderr",
     "output_type": "stream",
     "text": [
      "/home/asehgal/env/miniconda3/envs/neurosym-lib/lib/python3.10/site-packages/sklearn/metrics/_classification.py:1531: UndefinedMetricWarning: Precision is ill-defined and being set to 0.0 in labels with no predicted samples. Use `zero_division` parameter to control this behavior.\n",
      "  _warn_prf(average, modifier, f\"{metric.capitalize()} is\", len(result))\n",
      "/home/asehgal/env/miniconda3/envs/neurosym-lib/lib/python3.10/site-packages/sklearn/metrics/_classification.py:1531: UndefinedMetricWarning: Precision is ill-defined and being set to 0.0 in labels with no predicted samples. Use `zero_division` parameter to control this behavior.\n",
      "  _warn_prf(average, modifier, f\"{metric.capitalize()} is\", len(result))\n",
      "/home/asehgal/env/miniconda3/envs/neurosym-lib/lib/python3.10/site-packages/sklearn/metrics/_classification.py:1531: UndefinedMetricWarning: Precision is ill-defined and being set to 0.0 in labels with no predicted samples. Use `zero_division` parameter to control this behavior.\n",
      "  _warn_prf(average, modifier, f\"{metric.capitalize()} is\", len(result))\n"
     ]
    },
    {
     "name": "stdout",
     "output_type": "stream",
     "text": [
      "Training (mul (output (map (mul (affine_angle) (affine_bool_angle_change)))) (output (map (add (affine_bool_velocity) (affine_angle_change)))))\n"
     ]
    },
    {
     "name": "stderr",
     "output_type": "stream",
     "text": [
      "/home/asehgal/env/miniconda3/envs/neurosym-lib/lib/python3.10/site-packages/sklearn/metrics/_classification.py:1531: UndefinedMetricWarning: Precision is ill-defined and being set to 0.0 in labels with no predicted samples. Use `zero_division` parameter to control this behavior.\n",
      "  _warn_prf(average, modifier, f\"{metric.capitalize()} is\", len(result))\n",
      "/home/asehgal/env/miniconda3/envs/neurosym-lib/lib/python3.10/site-packages/sklearn/metrics/_classification.py:1531: UndefinedMetricWarning: Precision is ill-defined and being set to 0.0 in labels with no predicted samples. Use `zero_division` parameter to control this behavior.\n",
      "  _warn_prf(average, modifier, f\"{metric.capitalize()} is\", len(result))\n",
      "/home/asehgal/env/miniconda3/envs/neurosym-lib/lib/python3.10/site-packages/sklearn/metrics/_classification.py:1531: UndefinedMetricWarning: Precision is ill-defined and being set to 0.0 in labels with no predicted samples. Use `zero_division` parameter to control this behavior.\n",
      "  _warn_prf(average, modifier, f\"{metric.capitalize()} is\", len(result))\n"
     ]
    },
    {
     "name": "stdout",
     "output_type": "stream",
     "text": [
      "Training (mul (output (map (mul (affine_angle) (affine_bool_angle_change)))) (output (map (add (affine_velocity) (affine_distance)))))\n"
     ]
    },
    {
     "name": "stderr",
     "output_type": "stream",
     "text": [
      "/home/asehgal/env/miniconda3/envs/neurosym-lib/lib/python3.10/site-packages/sklearn/metrics/_classification.py:1531: UndefinedMetricWarning: Precision is ill-defined and being set to 0.0 in labels with no predicted samples. Use `zero_division` parameter to control this behavior.\n",
      "  _warn_prf(average, modifier, f\"{metric.capitalize()} is\", len(result))\n",
      "/home/asehgal/env/miniconda3/envs/neurosym-lib/lib/python3.10/site-packages/sklearn/metrics/_classification.py:1531: UndefinedMetricWarning: Precision is ill-defined and being set to 0.0 in labels with no predicted samples. Use `zero_division` parameter to control this behavior.\n",
      "  _warn_prf(average, modifier, f\"{metric.capitalize()} is\", len(result))\n",
      "/home/asehgal/env/miniconda3/envs/neurosym-lib/lib/python3.10/site-packages/sklearn/metrics/_classification.py:1531: UndefinedMetricWarning: Precision is ill-defined and being set to 0.0 in labels with no predicted samples. Use `zero_division` parameter to control this behavior.\n",
      "  _warn_prf(average, modifier, f\"{metric.capitalize()} is\", len(result))\n"
     ]
    },
    {
     "name": "stdout",
     "output_type": "stream",
     "text": [
      "Training (mul (output (map (mul (affine_angle) (affine_bool_angle_change)))) (output (map (add (affine_velocity) (affine_bool_velocity)))))\n"
     ]
    },
    {
     "name": "stderr",
     "output_type": "stream",
     "text": [
      "/home/asehgal/env/miniconda3/envs/neurosym-lib/lib/python3.10/site-packages/sklearn/metrics/_classification.py:1531: UndefinedMetricWarning: Precision is ill-defined and being set to 0.0 in labels with no predicted samples. Use `zero_division` parameter to control this behavior.\n",
      "  _warn_prf(average, modifier, f\"{metric.capitalize()} is\", len(result))\n",
      "/home/asehgal/env/miniconda3/envs/neurosym-lib/lib/python3.10/site-packages/sklearn/metrics/_classification.py:1531: UndefinedMetricWarning: Precision is ill-defined and being set to 0.0 in labels with no predicted samples. Use `zero_division` parameter to control this behavior.\n",
      "  _warn_prf(average, modifier, f\"{metric.capitalize()} is\", len(result))\n",
      "/home/asehgal/env/miniconda3/envs/neurosym-lib/lib/python3.10/site-packages/sklearn/metrics/_classification.py:1531: UndefinedMetricWarning: Precision is ill-defined and being set to 0.0 in labels with no predicted samples. Use `zero_division` parameter to control this behavior.\n",
      "  _warn_prf(average, modifier, f\"{metric.capitalize()} is\", len(result))\n"
     ]
    }
   ],
   "source": [
    "hidden_dim = 1\n",
    "datamodule = ns.datasets.crim13_data_example(train_seed=0, batch_size=1024)\n",
    "# _, output_dim = datamodule.train.get_io_dims(is_regression=True)\n",
    "output_dim = 1\n",
    "original_dsl = near.simple_crim13_dsl(num_classes=output_dim, hidden_dim=hidden_dim)\n",
    "\n",
    "# Trainer configuration\n",
    "trainer_cfg = near.NEARTrainerConfig(\n",
    "    n_epochs=30,\n",
    "    lr=1e-3,\n",
    "    loss_callback=bce_loss,\n",
    ")\n",
    "\n",
    "neural_dsl = near.NeuralDSL.from_dsl(\n",
    "    dsl=original_dsl,\n",
    "    neural_hole_filler=near.GenericMLPRNNNeuralHoleFiller(hidden_size=hidden_dim),\n",
    ")\n",
    "\n",
    "cost = near.default_near_cost(\n",
    "    trainer_cfg=trainer_cfg,\n",
    "    datamodule=datamodule,\n",
    "    structural_cost_weight=0.005,\n",
    ")\n",
    "# cost.validation_heuristic = DisjointValidationCost.from_validation_cost(cost.validation_heuristic)\n",
    "\n",
    "# Create the NEAR graph\n",
    "g = near.near_graph(\n",
    "    neural_dsl,\n",
    "    neural_dsl.valid_root_types[0],\n",
    "    is_goal=lambda _: True,\n",
    "    cost=cost,\n",
    ")\n",
    "\n",
    "\n",
    "with open(\"outputs/mice_results/crim13_results_3.pkl\", \"rb\") as f:\n",
    "    programs_list = pickle.load(f)\n",
    "\n",
    "for i, prog in enumerate(programs_list):\n",
    "    prog_str = prog['program']\n",
    "    initialized_program = neural_dsl.initialize(prog_str)\n",
    "    _ = cost.validation_heuristic.with_n_epochs(40).compute_cost(\n",
    "        neural_dsl, initialized_program, cost.embedding\n",
    "    )\n",
    "\n",
    "    feature_data = datamodule.test.inputs\n",
    "    labels = datamodule.test.outputs.flatten()\n",
    "\n",
    "    module = ns.examples.near.TorchProgramModule(neural_dsl, initialized_program)\n",
    "\n",
    "    # Evaluate the program\n",
    "    metrics, pred_vals = eval_program(\n",
    "        module,\n",
    "        feature_data,\n",
    "        labels\n",
    "    )\n",
    "\n",
    "    programs_list[i]['report'] = metrics\n",
    "    programs_list[i]['true_vals'] = labels.tolist()\n",
    "    programs_list[i]['pred_vals'] = pred_vals.tolist()\n",
    "\n"
   ]
  },
  {
   "cell_type": "code",
   "execution_count": 21,
   "metadata": {},
   "outputs": [
    {
     "name": "stderr",
     "output_type": "stream",
     "text": [
      "/home/asehgal/env/miniconda3/envs/neurosym-lib/lib/python3.10/site-packages/IPython/core/magics/osm.py:417: UserWarning: using dhist requires you to install the `pickleshare` library.\n",
      "  self.shell.db['dhist'] = compress_dhist(dhist)[-100:]\n",
      "/home/asehgal/neurosym-lib/neurosym/dsl/dsl_factory.py:139: DeprecationWarning: The method parameterized is deprecated. Use production instead.\n",
      "  warnings.warn(\n",
      "/home/asehgal/neurosym-lib/neurosym/dsl/dsl_factory.py:123: DeprecationWarning: The method concrete is deprecated. Use production instead.\n",
      "  warnings.warn(\n"
     ]
    },
    {
     "name": "stdout",
     "output_type": "stream",
     "text": [
      "/home/asehgal/neurosym-lib\n",
      "Programs list is too long\n",
      "Training (map (affine_bool_position))\n",
      "Error computing F1 scores: Classification metrics can't handle a mix of continuous and binary targets\n",
      "Error computing Hamming accuracy: Classification metrics can't handle a mix of binary and continuous targets\n",
      "Error computing classification report: Classification metrics can't handle a mix of binary and continuous targets\n",
      "Training (map (affine_bool_angle))\n",
      "Error computing F1 scores: Classification metrics can't handle a mix of continuous and binary targets\n",
      "Error computing Hamming accuracy: Classification metrics can't handle a mix of binary and continuous targets\n",
      "Error computing classification report: Classification metrics can't handle a mix of binary and continuous targets\n",
      "Training (map (affine_distance))\n",
      "Error computing F1 scores: Classification metrics can't handle a mix of continuous and binary targets\n",
      "Error computing Hamming accuracy: Classification metrics can't handle a mix of binary and continuous targets\n",
      "Error computing classification report: Classification metrics can't handle a mix of binary and continuous targets\n",
      "Training (map (affine_distance_change))\n",
      "Error computing F1 scores: Classification metrics can't handle a mix of continuous and binary targets\n",
      "Error computing Hamming accuracy: Classification metrics can't handle a mix of binary and continuous targets\n",
      "Error computing classification report: Classification metrics can't handle a mix of binary and continuous targets\n",
      "Training (map (affine_bool_distance_change))\n",
      "Error computing F1 scores: Classification metrics can't handle a mix of continuous and binary targets\n",
      "Error computing Hamming accuracy: Classification metrics can't handle a mix of binary and continuous targets\n",
      "Error computing classification report: Classification metrics can't handle a mix of binary and continuous targets\n",
      "Training (map (affine_bool_distance))\n",
      "Error computing F1 scores: Classification metrics can't handle a mix of continuous and binary targets\n",
      "Error computing Hamming accuracy: Classification metrics can't handle a mix of binary and continuous targets\n",
      "Error computing classification report: Classification metrics can't handle a mix of binary and continuous targets\n",
      "Training (output (map (affine_position)))\n"
     ]
    },
    {
     "name": "stderr",
     "output_type": "stream",
     "text": [
      "/home/asehgal/env/miniconda3/envs/neurosym-lib/lib/python3.10/site-packages/sklearn/metrics/_classification.py:1531: UndefinedMetricWarning: Precision is ill-defined and being set to 0.0 in labels with no predicted samples. Use `zero_division` parameter to control this behavior.\n",
      "  _warn_prf(average, modifier, f\"{metric.capitalize()} is\", len(result))\n",
      "/home/asehgal/env/miniconda3/envs/neurosym-lib/lib/python3.10/site-packages/sklearn/metrics/_classification.py:1531: UndefinedMetricWarning: Precision is ill-defined and being set to 0.0 in labels with no predicted samples. Use `zero_division` parameter to control this behavior.\n",
      "  _warn_prf(average, modifier, f\"{metric.capitalize()} is\", len(result))\n",
      "/home/asehgal/env/miniconda3/envs/neurosym-lib/lib/python3.10/site-packages/sklearn/metrics/_classification.py:1531: UndefinedMetricWarning: Precision is ill-defined and being set to 0.0 in labels with no predicted samples. Use `zero_division` parameter to control this behavior.\n",
      "  _warn_prf(average, modifier, f\"{metric.capitalize()} is\", len(result))\n"
     ]
    },
    {
     "name": "stdout",
     "output_type": "stream",
     "text": [
      "Training (output (map (affine_bool_position)))\n"
     ]
    },
    {
     "name": "stderr",
     "output_type": "stream",
     "text": [
      "/home/asehgal/env/miniconda3/envs/neurosym-lib/lib/python3.10/site-packages/sklearn/metrics/_classification.py:1531: UndefinedMetricWarning: Precision is ill-defined and being set to 0.0 in labels with no predicted samples. Use `zero_division` parameter to control this behavior.\n",
      "  _warn_prf(average, modifier, f\"{metric.capitalize()} is\", len(result))\n",
      "/home/asehgal/env/miniconda3/envs/neurosym-lib/lib/python3.10/site-packages/sklearn/metrics/_classification.py:1531: UndefinedMetricWarning: Precision is ill-defined and being set to 0.0 in labels with no predicted samples. Use `zero_division` parameter to control this behavior.\n",
      "  _warn_prf(average, modifier, f\"{metric.capitalize()} is\", len(result))\n",
      "/home/asehgal/env/miniconda3/envs/neurosym-lib/lib/python3.10/site-packages/sklearn/metrics/_classification.py:1531: UndefinedMetricWarning: Precision is ill-defined and being set to 0.0 in labels with no predicted samples. Use `zero_division` parameter to control this behavior.\n",
      "  _warn_prf(average, modifier, f\"{metric.capitalize()} is\", len(result))\n"
     ]
    },
    {
     "name": "stdout",
     "output_type": "stream",
     "text": [
      "Training (output (map (affine_distance)))\n"
     ]
    },
    {
     "name": "stderr",
     "output_type": "stream",
     "text": [
      "/home/asehgal/env/miniconda3/envs/neurosym-lib/lib/python3.10/site-packages/sklearn/metrics/_classification.py:1531: UndefinedMetricWarning: Precision is ill-defined and being set to 0.0 in labels with no predicted samples. Use `zero_division` parameter to control this behavior.\n",
      "  _warn_prf(average, modifier, f\"{metric.capitalize()} is\", len(result))\n",
      "/home/asehgal/env/miniconda3/envs/neurosym-lib/lib/python3.10/site-packages/sklearn/metrics/_classification.py:1531: UndefinedMetricWarning: Precision is ill-defined and being set to 0.0 in labels with no predicted samples. Use `zero_division` parameter to control this behavior.\n",
      "  _warn_prf(average, modifier, f\"{metric.capitalize()} is\", len(result))\n",
      "/home/asehgal/env/miniconda3/envs/neurosym-lib/lib/python3.10/site-packages/sklearn/metrics/_classification.py:1531: UndefinedMetricWarning: Precision is ill-defined and being set to 0.0 in labels with no predicted samples. Use `zero_division` parameter to control this behavior.\n",
      "  _warn_prf(average, modifier, f\"{metric.capitalize()} is\", len(result))\n"
     ]
    },
    {
     "name": "stdout",
     "output_type": "stream",
     "text": [
      "Training (output (map (affine_bool_distance)))\n"
     ]
    },
    {
     "name": "stderr",
     "output_type": "stream",
     "text": [
      "/home/asehgal/env/miniconda3/envs/neurosym-lib/lib/python3.10/site-packages/sklearn/metrics/_classification.py:1531: UndefinedMetricWarning: Precision is ill-defined and being set to 0.0 in labels with no predicted samples. Use `zero_division` parameter to control this behavior.\n",
      "  _warn_prf(average, modifier, f\"{metric.capitalize()} is\", len(result))\n",
      "/home/asehgal/env/miniconda3/envs/neurosym-lib/lib/python3.10/site-packages/sklearn/metrics/_classification.py:1531: UndefinedMetricWarning: Precision is ill-defined and being set to 0.0 in labels with no predicted samples. Use `zero_division` parameter to control this behavior.\n",
      "  _warn_prf(average, modifier, f\"{metric.capitalize()} is\", len(result))\n",
      "/home/asehgal/env/miniconda3/envs/neurosym-lib/lib/python3.10/site-packages/sklearn/metrics/_classification.py:1531: UndefinedMetricWarning: Precision is ill-defined and being set to 0.0 in labels with no predicted samples. Use `zero_division` parameter to control this behavior.\n",
      "  _warn_prf(average, modifier, f\"{metric.capitalize()} is\", len(result))\n"
     ]
    }
   ],
   "source": [
    "%cd /home/asehgal/neurosym-lib\n",
    "run_crim13_experiment(\"outputs/mice_results/crim13_results_4.pkl\")"
   ]
  },
  {
   "cell_type": "code",
   "execution_count": null,
   "metadata": {},
   "outputs": [
    {
     "name": "stderr",
     "output_type": "stream",
     "text": [
      "/home/asehgal/env/miniconda3/envs/neurosym-lib/lib/python3.10/site-packages/IPython/core/magics/osm.py:417: UserWarning: using dhist requires you to install the `pickleshare` library.\n",
      "  self.shell.db['dhist'] = compress_dhist(dhist)[-100:]\n",
      "/home/asehgal/neurosym-lib/neurosym/dsl/dsl_factory.py:139: DeprecationWarning: The method parameterized is deprecated. Use production instead.\n",
      "  warnings.warn(\n",
      "/home/asehgal/neurosym-lib/neurosym/dsl/dsl_factory.py:123: DeprecationWarning: The method concrete is deprecated. Use production instead.\n",
      "  warnings.warn(\n"
     ]
    },
    {
     "name": "stdout",
     "output_type": "stream",
     "text": [
      "/home/asehgal/neurosym-lib\n",
      "Training (map (ite (affine_bool_distance) (affine_acceleration) (affine_distance)))\n",
      "Error computing F1 scores: Classification metrics can't handle a mix of continuous and binary targets\n",
      "Error computing Hamming accuracy: Classification metrics can't handle a mix of binary and continuous targets\n",
      "Error computing classification report: Classification metrics can't handle a mix of binary and continuous targets\n"
     ]
    }
   ],
   "source": [
    "%cd /home/asehgal/neurosym-lib\n",
    "def bce_loss_flattened(predictions: torch.Tensor, targets: torch.Tensor) -> torch.Tensor:\n",
    "    \"\"\"\n",
    "    Compute the binary cross entropy loss with class weights for the Tiny CalMS21 dataset.\n",
    "    This is the same loss function used in the base NEAR implementation.\n",
    "\n",
    "    Args:\n",
    "        predictions (torch.Tensor): Model predictions with shape (B, T, O).\n",
    "        targets (torch.Tensor): Ground truth labels with shape (B, T, 1).\n",
    "\n",
    "    Returns:\n",
    "        torch.Tensor: The computed binary cross-entropy loss.\n",
    "    \"\"\"\n",
    "    # if predictions.shape[-1] == 1:\n",
    "    #     fpr, tpr, thresholds = roc_curve(targets.cpu().numpy(), predictions.cpu().numpy())\n",
    "    #     threshold = thresholds[np.argmax(tpr - fpr)]\n",
    "    #     predictions = (torch.sigmoid(predictions) < threshold).int()\n",
    "\n",
    "    targets = targets.squeeze(-1)  # (B, T, 1) -> (B, T)\n",
    "    predictions = predictions.squeeze(-1)\n",
    "    # pylint: disable=not-callable\n",
    "    # pylint: enable=not-callable\n",
    "    return torch.nn.functional.binary_cross_entropy_with_logits(\n",
    "        predictions.float(),\n",
    "        targets.float(),\n",
    "        weight=torch.tensor([1.5], device=predictions.device),\n",
    "    )\n",
    "\n",
    "weights = [\n",
    "    {\n",
    "        \"weight\" : torch.tensor([0.0217]),\n",
    "        \"bias\" : torch.tensor([-0.2785]),\n",
    "    },\n",
    "    {\n",
    "        \"weight\" : torch.tensor([-0.0007, 0.0055, 0.0051, -0.0025]),\n",
    "        \"bias\" : torch.tensor([3.7426]),\n",
    "    },\n",
    "    {\n",
    "        \"weight\" : torch.tensor([-0.2143]),\n",
    "        \"bias\" : torch.tensor([1.822]),\n",
    "    }\n",
    "]\n",
    "\n",
    "datamodule = ns.datasets.crim13_data_example(train_seed=0, batch_size=1024)\n",
    "_, output_dim = datamodule.train.get_io_dims()\n",
    "original_dsl = near.simple_crim13_dsl(num_classes=1, hidden_dim=1)\n",
    "neural_dsl = near.NeuralDSL.from_dsl(\n",
    "    dsl=original_dsl,\n",
    "    neural_hole_filler=near.GenericMLPRNNNeuralHoleFiller(hidden_size=1),\n",
    ")\n",
    "cost = near.default_near_cost(\n",
    "    trainer_cfg=near.NEARTrainerConfig(\n",
    "        n_epochs=15,\n",
    "        lr=1e-3,\n",
    "        loss_callback=bce_loss_flattened,\n",
    "    ),\n",
    "    datamodule=datamodule,\n",
    "    structural_cost_weight=0.005,\n",
    ")\n",
    "# cost.validation_heuristic = DisjointValidationCost.from_validation_cost(cost.validation_heuristic)\n",
    "\n",
    "program_str = \"(map (ite (affine_bool_distance) (affine_acceleration) (affine_distance)))\"\n",
    "program = ns.parse_s_expression(program_str)\n",
    "initialized_program = neural_dsl.initialize(program)\n",
    "# module = ns.examples.near.TorchProgramModule(original_dsl, initialized_program)\n",
    "_ = cost.validation_heuristic.with_n_epochs(40).compute_cost(\n",
    "    neural_dsl, initialized_program, cost.embedding\n",
    ")\n",
    "feature_data = datamodule.test.inputs\n",
    "labels = datamodule.test.outputs.flatten()\n",
    "\n",
    "module = ns.examples.near.TorchProgramModule(neural_dsl, initialized_program)\n",
    "_, raw_predictions = eval_program(\n",
    "    module,\n",
    "    feature_data,\n",
    "    labels\n",
    ")\n",
    "fpr, tpr, thresholds = roc_curve(labels, raw_predictions)\n",
    "threshold = thresholds[np.argmax(tpr - fpr)]\n",
    "pred_vals = (torch.sigmoid(torch.tensor(raw_predictions)) < threshold).int().tolist()\n",
    "\n",
    "reported_metrics = dict(\n",
    "    true_vals=labels.tolist(),\n",
    "    pred_vals=pred_vals,\n",
    "    report=compute_near_metrics(np.array(pred_vals), np.array(labels))\n",
    ")"
   ]
  },
  {
   "cell_type": "code",
   "execution_count": null,
   "metadata": {},
   "outputs": [
    {
     "name": "stdout",
     "output_type": "stream",
     "text": [
      "crim13_iddfs-near_010\n",
      "crim13_astar-near_010\n",
      "crim13_enumeration_010\n"
     ]
    }
   ],
   "source": [
    "def load_obj(file_path: str) -> object:\n",
    "    \"\"\"Load an object from a JSON or pickle file.\"\"\"\n",
    "    path = Path(file_path)\n",
    "    if path.suffix == \".json\":\n",
    "        with path.open(\"r\", encoding=\"utf-8\") as f:\n",
    "            return json.load(f)\n",
    "    elif path.suffix == \".pkl\":\n",
    "        with path.open(\"rb\") as f:\n",
    "            return pickle.load(f)\n",
    "    else:\n",
    "        raise ValueError(f\"Unsupported file extension: {path.suffix}\")\n",
    "\n",
    "\n",
    "def collect_baseline_results(results_dir=\"/home/asehgal/NEAR/near/near_code/results\", output_file=\"outputs/mice_results/baseline_results.json\"):\n",
    "    final_results = dict()\n",
    "    for expt_name in os.listdir(results_dir):\n",
    "        if 'crim' not in expt_name: continue\n",
    "        if '10' not in expt_name: continue\n",
    "        results_pth = os.path.join(results_dir, expt_name, \"test_results.json\")\n",
    "        if not os.path.exists(results_pth): continue\n",
    "        print(expt_name)\n",
    "        expt_results = load_obj(results_pth)\n",
    "        # save final_results to baseline_results.json\n",
    "        final_results[expt_name] = expt_results\n",
    "    with open(output_file, \"w\") as f:\n",
    "        json.dump(final_results, f, indent=4)\n",
    "\n",
    "collect_baseline_results(\n",
    "    results_dir=\"/home/asehgal/NEAR/near/near_code/results\",\n",
    "    output_file=\"outputs/mice_results/baseline_results.json\"\n",
    ")\n",
    "\n",
    "baseline_results = load_obj(\"outputs/mice_results/baseline_results.json\")\n"
   ]
  },
  {
   "cell_type": "code",
   "execution_count": 16,
   "metadata": {},
   "outputs": [],
   "source": [
    "# baseline_results['crim13_astar-near_010']['predicted_vals']"
   ]
  },
  {
   "cell_type": "code",
   "execution_count": 38,
   "metadata": {},
   "outputs": [
    {
     "name": "stderr",
     "output_type": "stream",
     "text": [
      "/home/asehgal/env/miniconda3/envs/neurosym-lib/lib/python3.10/site-packages/sklearn/metrics/_classification.py:1531: UndefinedMetricWarning: Precision is ill-defined and being set to 0.0 in labels with no predicted samples. Use `zero_division` parameter to control this behavior.\n",
      "  _warn_prf(average, modifier, f\"{metric.capitalize()} is\", len(result))\n",
      "/home/asehgal/env/miniconda3/envs/neurosym-lib/lib/python3.10/site-packages/sklearn/metrics/_classification.py:1531: UndefinedMetricWarning: Precision is ill-defined and being set to 0.0 in labels with no predicted samples. Use `zero_division` parameter to control this behavior.\n",
      "  _warn_prf(average, modifier, f\"{metric.capitalize()} is\", len(result))\n",
      "/home/asehgal/env/miniconda3/envs/neurosym-lib/lib/python3.10/site-packages/sklearn/metrics/_classification.py:1531: UndefinedMetricWarning: Precision is ill-defined and being set to 0.0 in labels with no predicted samples. Use `zero_division` parameter to control this behavior.\n",
      "  _warn_prf(average, modifier, f\"{metric.capitalize()} is\", len(result))\n",
      "/home/asehgal/env/miniconda3/envs/neurosym-lib/lib/python3.10/site-packages/sklearn/metrics/_classification.py:1531: UndefinedMetricWarning: Precision is ill-defined and being set to 0.0 in labels with no predicted samples. Use `zero_division` parameter to control this behavior.\n",
      "  _warn_prf(average, modifier, f\"{metric.capitalize()} is\", len(result))\n",
      "/home/asehgal/env/miniconda3/envs/neurosym-lib/lib/python3.10/site-packages/sklearn/metrics/_classification.py:1531: UndefinedMetricWarning: Precision is ill-defined and being set to 0.0 in labels with no predicted samples. Use `zero_division` parameter to control this behavior.\n",
      "  _warn_prf(average, modifier, f\"{metric.capitalize()} is\", len(result))\n",
      "/home/asehgal/env/miniconda3/envs/neurosym-lib/lib/python3.10/site-packages/sklearn/metrics/_classification.py:1531: UndefinedMetricWarning: Precision is ill-defined and being set to 0.0 in labels with no predicted samples. Use `zero_division` parameter to control this behavior.\n",
      "  _warn_prf(average, modifier, f\"{metric.capitalize()} is\", len(result))\n",
      "/home/asehgal/env/miniconda3/envs/neurosym-lib/lib/python3.10/site-packages/sklearn/metrics/_classification.py:1531: UndefinedMetricWarning: Precision is ill-defined and being set to 0.0 in labels with no predicted samples. Use `zero_division` parameter to control this behavior.\n",
      "  _warn_prf(average, modifier, f\"{metric.capitalize()} is\", len(result))\n",
      "/home/asehgal/env/miniconda3/envs/neurosym-lib/lib/python3.10/site-packages/sklearn/metrics/_classification.py:1531: UndefinedMetricWarning: Precision is ill-defined and being set to 0.0 in labels with no predicted samples. Use `zero_division` parameter to control this behavior.\n",
      "  _warn_prf(average, modifier, f\"{metric.capitalize()} is\", len(result))\n",
      "/home/asehgal/env/miniconda3/envs/neurosym-lib/lib/python3.10/site-packages/sklearn/metrics/_classification.py:1531: UndefinedMetricWarning: Precision is ill-defined and being set to 0.0 in labels with no predicted samples. Use `zero_division` parameter to control this behavior.\n",
      "  _warn_prf(average, modifier, f\"{metric.capitalize()} is\", len(result))\n"
     ]
    }
   ],
   "source": [
    "# correct baseline results\n",
    "def correct_baseline_results(results):\n",
    "    for i, (expt_name, expt_report) in enumerate(results.items()):\n",
    "        # flip the predictions\n",
    "        # d['pred_vals'] = [1 if x == 0 else 0 for x in d['pred_vals']]\n",
    "        # expt_report['pred_vals'] = [1 if x == 0 else 0 for x in expt_report['pred_vals']]\n",
    "        y_true = expt_report['true_vals']\n",
    "        y_scores = expt_report['predicted_vals']\n",
    "        fpr, tpr, thresholds = roc_curve(y_true, y_scores)\n",
    "        threshold = thresholds[np.argmax(tpr - fpr)]\n",
    "\n",
    "        expt_report['pred_vals'] = (torch.sigmoid(torch.tensor(expt_report['predicted_vals'])) < threshold).int().tolist()\n",
    "\n",
    "        expt_report['report'] = compute_near_metrics(\n",
    "            predictions=np.array(expt_report['pred_vals']),\n",
    "            ground_truth=np.array(expt_report['true_vals'])\n",
    "        )\n",
    "        expt_report['report']['time'] = expt_report['time']\n",
    "        # results[i] = d\n",
    "    return results\n",
    "\n",
    "\n",
    "baseline_results = correct_baseline_results(baseline_results)\n",
    "our_results = load_obj(\"outputs/mice_results/crim13_results_3.pkl\")\n",
    "# our_results = programs_list\n",
    "our_results = {f\"crim13_ours_astar-near_00{i}\": our_results[i] for i in range(len(our_results))}\n",
    "all_results = {**baseline_results, **our_results, **dict(reported_program=reported_metrics)}\n"
   ]
  },
  {
   "cell_type": "code",
   "execution_count": 19,
   "metadata": {},
   "outputs": [],
   "source": [
    "# Code is replicating the results from the paper.\n",
    "# what happens if we manually code in the particular thing in the paper and see if it gets the score if the paper reports for it.\n",
    "# What if the paper had something that was good, due to changing versions we are comparing against a worse baseline."
   ]
  },
  {
   "cell_type": "code",
   "execution_count": 20,
   "metadata": {},
   "outputs": [],
   "source": [
    "# k = \"reported_program\"\n",
    "# p = torch.sigmoid(outputs).detach().numpy()\n",
    "# t = np.array(all_results[k]['true_vals']).reshape(outputs.shape)\n",
    "# threshold = np.quantile(p, 1 - (t == 1).mean())\n",
    "# print(threshold) # -0.610755115272512\n",
    "# overlap = ((p > threshold) & (t == 1)).mean() / (t == 1).mean()\n",
    "# print(overlap) # 0.6761173584785448"
   ]
  },
  {
   "cell_type": "code",
   "execution_count": 21,
   "metadata": {},
   "outputs": [],
   "source": [
    "# print(\"{name:28} {overlap:>5} {t:>6} {p:>10} {total:>5}\".format(\n",
    "#     name=\"Program\",\n",
    "#     overlap=\"overlap\",\n",
    "#     t=\"true\",\n",
    "#     p=\"pred\",\n",
    "#     total=\"total\"\n",
    "# ))\n",
    "# for k in all_results.keys():\n",
    "#     t = np.array(all_results[k]['true_vals'])\n",
    "#     p = np.array(all_results[k]['pred_vals'])\n",
    "#     overlap = (t == 1) & (p == 1)\n",
    "    \n",
    "#     # use formatted string for this\n",
    "#     print(\"{name:30} {overlap:>5} {t:>6} {p:>10} {total:>5}\".format(\n",
    "#         name=k[-30:],\n",
    "#         overlap=overlap.sum(),\n",
    "#         t=t.sum(),\n",
    "#         p=p.sum(),\n",
    "#         total=p.shape[0]\n",
    "#     ))\n",
    "\n",
    "#     # top-k accuracy.\n",
    "#     # top-k random chance.\n",
    "#     # overlap.\n",
    "#     # print(overlap.sum() / t.sum(), overlap.sum() / p.sum())"
   ]
  },
  {
   "cell_type": "code",
   "execution_count": 22,
   "metadata": {},
   "outputs": [],
   "source": [
    "# # p < 0 # highest accuracy\n",
    "# Program                      overlap   true       pred total\n",
    "# reported_program                3868  31391      12542 295300\n",
    "\n",
    "\n",
    "# # p < 0.7 # lower accuracy\n",
    "# Program                      overlap   true       pred total\n",
    "# reported_program               14546  31391      42946 295300\n",
    "\n"
   ]
  },
  {
   "cell_type": "code",
   "execution_count": 23,
   "metadata": {},
   "outputs": [],
   "source": [
    "# print(\"{name:28} {overlap:>5} {t:>6} {p:>10} {total:>5}\".format(\n",
    "#     name=\"Program\",\n",
    "#     overlap=\"overlap\",\n",
    "#     t=\"true\",\n",
    "#     p=\"pred\",\n",
    "#     total=\"total\"\n",
    "# ))\n",
    "# for k in all_results.keys():\n",
    "#     t = np.array(all_results[k]['true_vals'])\n",
    "#     p = np.array(all_results[k]['pred_vals'])\n",
    "#     overlap = (t == 1) & (p == 1)\n",
    "    \n",
    "#     # use formatted string for this\n",
    "#     print(\"{name:30} {overlap:>5} {t:>6} {p:>10} {total:>5}\".format(\n",
    "#         name=k[-30:],\n",
    "#         overlap=overlap.sum(),\n",
    "#         t=t.sum(),\n",
    "#         p=p.sum(),\n",
    "#         total=p.shape[0]\n",
    "#     ))\n",
    "\n",
    "#     # top-k accuracy.\n",
    "#     # top-k random chance.\n",
    "#     # overlap.\n",
    "#     # print(overlap.sum() / t.sum(), overlap.sum() / p.sum())"
   ]
  },
  {
   "cell_type": "code",
   "execution_count": 39,
   "metadata": {},
   "outputs": [
    {
     "data": {
      "image/png": "[encoded data removed]",
      "text/plain": [
       "<Figure size 7000x1000 with 28 Axes>"
      ]
     },
     "metadata": {},
     "output_type": "display_data"
    }
   ],
   "source": [
    "# verify that all_results[k]['true_vals'] are the same\n",
    "# for k in all_results:\n",
    "#     assert all_results[k]['true_vals'] == all_results['crim13_iddfs-near_001']['true_vals']\n",
    "\n",
    "# construct N confusion matrices\n",
    "from sklearn.metrics import confusion_matrix\n",
    "\n",
    "confusion_matrices = {}\n",
    "for k in all_results:\n",
    "    confusion_matrices[k] = confusion_matrix(all_results[k]['true_vals'], all_results[k]['pred_vals'])\n",
    "\n",
    "# plot the confusion matrices\n",
    "\n",
    "import matplotlib.pyplot as plt\n",
    "\n",
    "fig, axs = plt.subplots(2, len(confusion_matrices), figsize=(5*len(confusion_matrices), 10))\n",
    "\n",
    "for i, k in enumerate(confusion_matrices):  \n",
    "    axs[0][i].imshow(confusion_matrices[k], cmap='viridis')\n",
    "    axs[0][i].set_title(k)\n",
    "    axs[0][i].set_xlabel('Predicted')\n",
    "    axs[0][i].set_ylabel('True')\n",
    "\n",
    "# on axs[1] plot the histogram of the predictions\n",
    "for i, k in enumerate(confusion_matrices):\n",
    "    axs[1][i].hist(all_results[k]['pred_vals'], bins=2)\n",
    "    axs[1][i].set_title(k)\n",
    "    axs[1][i].set_xlabel('Predicted')\n",
    "    axs[1][i].set_ylabel('Frequency')"
   ]
  },
  {
   "cell_type": "code",
   "execution_count": 33,
   "metadata": {},
   "outputs": [
    {
     "name": "stdout",
     "output_type": "stream",
     "text": [
      "|                            |   precision |   recall |   f1-score |   support |       time |      acc |\n",
      "|:---------------------------|------------:|---------:|-----------:|----------:|-----------:|---------:|\n",
      "| crim13_iddfs-near_010      |    0.446849 | 0.5      |  0.471933  |    295300 | 61754.9    | 0.893698 |\n",
      "| crim13_astar-near_010      |    0.446849 | 0.5      |  0.471933  |    295300 | 44204      | 0.893698 |\n",
      "| crim13_enumeration_010     |    0.446849 | 0.5      |  0.471933  |    295300 | 81125.3    | 0.893698 |\n",
      "| crim13_ours_astar-near_000 |    0.494009 | 0.496733 |  0.491333  |    295300 |    41.1074 | 0.849306 |\n",
      "| crim13_ours_astar-near_001 |    0.49967  | 0.499976 |  0.476864  |    295300 |    43.4796 | 0.888212 |\n",
      "| crim13_ours_astar-near_002 |    0.49967  | 0.499976 |  0.476864  |    295300 |    43.4797 | 0.888212 |\n",
      "| crim13_ours_astar-near_003 |    0.053151 | 0.5      |  0.0960877 |    295300 |    43.4797 | 0.106302 |\n",
      "| crim13_ours_astar-near_004 |    0.492839 | 0.499097 |  0.478559  |    295300 |    43.4797 | 0.883806 |\n",
      "| crim13_ours_astar-near_005 |    0.525263 | 0.507341 |  0.126161  |    295300 |    44.8306 | 0.131463 |\n",
      "| crim13_ours_astar-near_006 |    0.473906 | 0.431391 |  0.382497  |    295300 |    44.8306 | 0.485466 |\n",
      "| crim13_ours_astar-near_007 |    0.511585 | 0.506867 |  0.154254  |    295300 |    46.845  | 0.156075 |\n",
      "| crim13_ours_astar-near_008 |    0.522984 | 0.506995 |  0.127317  |    295300 |    48.1335 | 0.132425 |\n",
      "| crim13_ours_astar-near_009 |    0.500912 | 0.502356 |  0.433773  |    295300 |    48.1335 | 0.554541 |\n",
      "| reported_program           |    0.446849 | 0.5      |  0.471933  |    295300 |     0      | 0.893698 |\n"
     ]
    }
   ],
   "source": [
    "all_reports = {}\n",
    "for k in all_results:\n",
    "    all_reports[k] = all_results[k]['report']['report']    \n",
    "    all_reports[k]['macro avg']['time'] = all_results[k]['time'] if 'time' in all_results[k] else 0\n",
    "    all_reports[k]['macro avg']['acc'] = all_results[k]['report']['hamming_accuracy']\n",
    "\n",
    "\n",
    "all_reports = {k: all_reports[k]['macro avg'] for k in all_reports}\n",
    "df = pd.DataFrame(all_reports).T\n",
    "print(df.to_markdown())\n",
    "df.to_csv('outputs/mice_results/crim13_results.csv')\n"
   ]
  },
  {
   "cell_type": "code",
   "execution_count": null,
   "metadata": {},
   "outputs": [],
   "source": [
    "# In [31]: print_program(best_program, ignore_constants=False)                        \n",
    "# Out[31]: \"Start(MapPrefixes(Window5Avg(Multiply(DistanceSelect(params: dict_values([\n",
    "# Parameter containing:\\ntensor([[-0.2597]], device='cuda:0', requires_grad=True), Par\n",
    "# ameter containing:\\ntensor([0.7555], device='cuda:0', requires_grad=True)])), Simple\n",
    "# ITE(DistanceChangeSelect(params: dict_values([Parameter containing:\\ntensor([[-0.000\n",
    "# 7]], device='cuda:0', requires_grad=True), Parameter containing:\\ntensor([0.5469], d\n",
    "# evice='cuda:0', requires_grad=True)])), DistanceSelect(params: dict_values([Paramete\n",
    "# r containing:\\ntensor([[0.0007]], device='cuda:0', requires_grad=True), Parameter co\n",
    "# ntaining:\\ntensor([-0.2967], device='cuda:0', requires_grad=True)])), DistanceChange\n",
    "# Select(params: dict_values([Parameter containing:\\ntensor([[-0.0003]], device='cuda:\n",
    "# 0', requires_grad=True), Parameter containing:\\ntensor([0.4114], device='cuda:0', re\n",
    "# quires_grad=True)])))))))\"                                                          \n",
    "                                                                                    \n",
    "# In [32]: print_program(best_program, ignore_constants=True)                         \n",
    "# Out[32]: 'Start(MapPrefixes(Window5Avg(Multiply(DistanceSelect(), SimpleITE(Distance\n",
    "# ChangeSelect(), DistanceSelect(), DistanceChangeSelect())))))'                      "
   ]
  },
  {
   "cell_type": "code",
   "execution_count": 18,
   "metadata": {},
   "outputs": [
    {
     "data": {
      "text/html": [
       "<div>\n",
       "<style scoped>\n",
       "    .dataframe tbody tr th:only-of-type {\n",
       "        vertical-align: middle;\n",
       "    }\n",
       "\n",
       "    .dataframe tbody tr th {\n",
       "        vertical-align: top;\n",
       "    }\n",
       "\n",
       "    .dataframe thead th {\n",
       "        text-align: right;\n",
       "    }\n",
       "</style>\n",
       "<table border=\"1\" class=\"dataframe\">\n",
       "  <thead>\n",
       "    <tr style=\"text-align: right;\">\n",
       "      <th></th>\n",
       "      <th>precision</th>\n",
       "      <th>recall</th>\n",
       "      <th>f1-score</th>\n",
       "      <th>support</th>\n",
       "      <th>time</th>\n",
       "      <th>acc</th>\n",
       "    </tr>\n",
       "  </thead>\n",
       "  <tbody>\n",
       "    <tr>\n",
       "      <th>crim13_astar-near_003</th>\n",
       "      <td>0.615180</td>\n",
       "      <td>0.709285</td>\n",
       "      <td>0.632807</td>\n",
       "      <td>295300.0</td>\n",
       "      <td>15401.349342</td>\n",
       "      <td>0.798561</td>\n",
       "    </tr>\n",
       "    <tr>\n",
       "      <th>crim13_iddfs-near_003</th>\n",
       "      <td>0.616762</td>\n",
       "      <td>0.673433</td>\n",
       "      <td>0.634113</td>\n",
       "      <td>295300.0</td>\n",
       "      <td>61701.472831</td>\n",
       "      <td>0.825733</td>\n",
       "    </tr>\n",
       "    <tr>\n",
       "      <th>crim13_ours_astar-near_000</th>\n",
       "      <td>0.494009</td>\n",
       "      <td>0.496733</td>\n",
       "      <td>0.491333</td>\n",
       "      <td>295300.0</td>\n",
       "      <td>41.107355</td>\n",
       "      <td>0.849306</td>\n",
       "    </tr>\n",
       "    <tr>\n",
       "      <th>crim13_ours_astar-near_001</th>\n",
       "      <td>0.499670</td>\n",
       "      <td>0.499976</td>\n",
       "      <td>0.476864</td>\n",
       "      <td>295300.0</td>\n",
       "      <td>43.479608</td>\n",
       "      <td>0.888212</td>\n",
       "    </tr>\n",
       "    <tr>\n",
       "      <th>crim13_ours_astar-near_002</th>\n",
       "      <td>0.499670</td>\n",
       "      <td>0.499976</td>\n",
       "      <td>0.476864</td>\n",
       "      <td>295300.0</td>\n",
       "      <td>43.479672</td>\n",
       "      <td>0.888212</td>\n",
       "    </tr>\n",
       "    <tr>\n",
       "      <th>crim13_ours_astar-near_003</th>\n",
       "      <td>0.053151</td>\n",
       "      <td>0.500000</td>\n",
       "      <td>0.096088</td>\n",
       "      <td>295300.0</td>\n",
       "      <td>43.479706</td>\n",
       "      <td>0.106302</td>\n",
       "    </tr>\n",
       "    <tr>\n",
       "      <th>crim13_ours_astar-near_004</th>\n",
       "      <td>0.492839</td>\n",
       "      <td>0.499097</td>\n",
       "      <td>0.478559</td>\n",
       "      <td>295300.0</td>\n",
       "      <td>43.479746</td>\n",
       "      <td>0.883806</td>\n",
       "    </tr>\n",
       "    <tr>\n",
       "      <th>crim13_ours_astar-near_005</th>\n",
       "      <td>0.525263</td>\n",
       "      <td>0.507341</td>\n",
       "      <td>0.126161</td>\n",
       "      <td>295300.0</td>\n",
       "      <td>44.830552</td>\n",
       "      <td>0.131463</td>\n",
       "    </tr>\n",
       "    <tr>\n",
       "      <th>crim13_ours_astar-near_006</th>\n",
       "      <td>0.473906</td>\n",
       "      <td>0.431391</td>\n",
       "      <td>0.382497</td>\n",
       "      <td>295300.0</td>\n",
       "      <td>44.830594</td>\n",
       "      <td>0.485466</td>\n",
       "    </tr>\n",
       "    <tr>\n",
       "      <th>crim13_ours_astar-near_007</th>\n",
       "      <td>0.511585</td>\n",
       "      <td>0.506867</td>\n",
       "      <td>0.154254</td>\n",
       "      <td>295300.0</td>\n",
       "      <td>46.845002</td>\n",
       "      <td>0.156075</td>\n",
       "    </tr>\n",
       "    <tr>\n",
       "      <th>crim13_ours_astar-near_008</th>\n",
       "      <td>0.522984</td>\n",
       "      <td>0.506995</td>\n",
       "      <td>0.127317</td>\n",
       "      <td>295300.0</td>\n",
       "      <td>48.133458</td>\n",
       "      <td>0.132425</td>\n",
       "    </tr>\n",
       "    <tr>\n",
       "      <th>crim13_ours_astar-near_009</th>\n",
       "      <td>0.500912</td>\n",
       "      <td>0.502356</td>\n",
       "      <td>0.433773</td>\n",
       "      <td>295300.0</td>\n",
       "      <td>48.133495</td>\n",
       "      <td>0.554541</td>\n",
       "    </tr>\n",
       "    <tr>\n",
       "      <th>reported_program</th>\n",
       "      <td>0.605533</td>\n",
       "      <td>0.545176</td>\n",
       "      <td>0.554936</td>\n",
       "      <td>295300.0</td>\n",
       "      <td>0.000000</td>\n",
       "      <td>0.877423</td>\n",
       "    </tr>\n",
       "  </tbody>\n",
       "</table>\n",
       "</div>"
      ],
      "text/plain": [
       "                            precision    recall  f1-score   support  \\\n",
       "crim13_astar-near_003        0.615180  0.709285  0.632807  295300.0   \n",
       "crim13_iddfs-near_003        0.616762  0.673433  0.634113  295300.0   \n",
       "crim13_ours_astar-near_000   0.494009  0.496733  0.491333  295300.0   \n",
       "crim13_ours_astar-near_001   0.499670  0.499976  0.476864  295300.0   \n",
       "crim13_ours_astar-near_002   0.499670  0.499976  0.476864  295300.0   \n",
       "crim13_ours_astar-near_003   0.053151  0.500000  0.096088  295300.0   \n",
       "crim13_ours_astar-near_004   0.492839  0.499097  0.478559  295300.0   \n",
       "crim13_ours_astar-near_005   0.525263  0.507341  0.126161  295300.0   \n",
       "crim13_ours_astar-near_006   0.473906  0.431391  0.382497  295300.0   \n",
       "crim13_ours_astar-near_007   0.511585  0.506867  0.154254  295300.0   \n",
       "crim13_ours_astar-near_008   0.522984  0.506995  0.127317  295300.0   \n",
       "crim13_ours_astar-near_009   0.500912  0.502356  0.433773  295300.0   \n",
       "reported_program             0.605533  0.545176  0.554936  295300.0   \n",
       "\n",
       "                                    time       acc  \n",
       "crim13_astar-near_003       15401.349342  0.798561  \n",
       "crim13_iddfs-near_003       61701.472831  0.825733  \n",
       "crim13_ours_astar-near_000     41.107355  0.849306  \n",
       "crim13_ours_astar-near_001     43.479608  0.888212  \n",
       "crim13_ours_astar-near_002     43.479672  0.888212  \n",
       "crim13_ours_astar-near_003     43.479706  0.106302  \n",
       "crim13_ours_astar-near_004     43.479746  0.883806  \n",
       "crim13_ours_astar-near_005     44.830552  0.131463  \n",
       "crim13_ours_astar-near_006     44.830594  0.485466  \n",
       "crim13_ours_astar-near_007     46.845002  0.156075  \n",
       "crim13_ours_astar-near_008     48.133458  0.132425  \n",
       "crim13_ours_astar-near_009     48.133495  0.554541  \n",
       "reported_program                0.000000  0.877423  "
      ]
     },
     "execution_count": 18,
     "metadata": {},
     "output_type": "execute_result"
    }
   ],
   "source": [
    "df"
   ]
  },
  {
   "cell_type": "code",
   "execution_count": null,
   "metadata": {},
   "outputs": [],
   "source": [
    "#  - NEAR codebase rerun with correct prediction metrics.\n",
    "#  - Ask Jen if she still has her codebase / if they had a \"non-camera ready\" codebase.\n",
    "#       - How to setup the reported_program search problem?\n",
    "#  - Change training setup in neurosym-lib with (1) early stopping and (2) scheduler.\n",
    "# otherwise, try to give the same time budget while finding candidate programs with neurosym-lib. \n"
   ]
  },
  {
   "cell_type": "code",
   "execution_count": null,
   "metadata": {},
   "outputs": [],
   "source": [
    "# Calculate our own performance metrics.\n",
    "# Retrain the weights of the reported programs.\n",
    "\n",
    "# What metrics should we use for unbalanced datasets?\n",
    "# top-k accuracy.\n",
    "    # - Pick the smaller class and do top-k accuracy on that.\n",
    "    # - invariant to model calibration\n",
    "# Let's redo training with top-k accuracy.\n"
   ]
  }
 ],
 "metadata": {
  "kernelspec": {
   "display_name": "neurosym-lib",
   "language": "python",
   "name": "python3"
  },
  "language_info": {
   "codemirror_mode": {
    "name": "ipython",
    "version": 3
   },
   "file_extension": ".py",
   "mimetype": "text/x-python",
   "name": "python",
   "nbconvert_exporter": "python",
   "pygments_lexer": "ipython3",
   "version": "3.10.14"
  }
 },
 "nbformat": 4,
 "nbformat_minor": 2
}
