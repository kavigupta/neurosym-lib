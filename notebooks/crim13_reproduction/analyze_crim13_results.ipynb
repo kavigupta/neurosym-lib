{
 "cells": [
  {
   "cell_type": "markdown",
   "metadata": {},
   "source": [
    "# MICE-DSL NEAR Results Analysis\n",
    "\n",
    "This notebook analyzes and compares results from:\n",
    "- Baseline NEAR experiments (from baseline_results.json)\n",
    "- Neurosym-lib NEAR experiments (from various results pickle files)\n",
    "- Reported program from the NEAR paper\n",
    "\n",
    "## Step 0: Data collection.\n",
    "\n",
    "Compute results for all neurosym-lib experiments and the reported program\n",
    "```bash\n",
    "# Search for the top 40 programs on the CRIM-13 dataset\n",
    "$ CUDA_VISIBLE_DEVICES=0 python notebooks/near_reproduction/benchmark_mice.py\n",
    "# Evaluate the reported program from the MICE-DSL paper\n",
    "$ CUDA_VISIBLE_DEVICES=0 python notebooks/near_reproduction/benchmark_mice.py --evaluate-reported\n",
    "```"
   ]
  },
  {
   "cell_type": "code",
   "execution_count": 1,
   "metadata": {},
   "outputs": [
    {
     "name": "stderr",
     "output_type": "stream",
     "text": [
      "/home/asehgal/neurosym-lib/.venv/lib/python3.10/site-packages/IPython/core/magics/osm.py:417: UserWarning: This is now an optional IPython functionality, setting dhist requires you to install the `pickleshare` library.\n",
      "  self.shell.db['dhist'] = compress_dhist(dhist)[-100:]\n"
     ]
    },
    {
     "name": "stdout",
     "output_type": "stream",
     "text": [
      "/home/asehgal/neurosym-lib\n"
     ]
    },
    {
     "name": "stderr",
     "output_type": "stream",
     "text": [
      "/home/asehgal/neurosym-lib/.venv/lib/python3.10/site-packages/tqdm/auto.py:21: TqdmWarning: IProgress not found. Please update jupyter and ipywidgets. See https://ipywidgets.readthedocs.io/en/stable/user_install.html\n",
      "  from .autonotebook import tqdm as notebook_tqdm\n"
     ]
    }
   ],
   "source": [
    "%load_ext autoreload\n",
    "%autoreload 2\n",
    "%cd /home/asehgal/neurosym-lib\n",
    "\n",
    "import json\n",
    "import pickle\n",
    "from pathlib import Path\n",
    "\n",
    "import numpy as np\n",
    "import pandas as pd\n",
    "\n",
    "from neurosym.examples.near.metrics import compute_metrics"
   ]
  },
  {
   "cell_type": "markdown",
   "metadata": {},
   "source": [
    "## Load Baseline Results"
   ]
  },
  {
   "cell_type": "code",
   "execution_count": 4,
   "metadata": {},
   "outputs": [
    {
     "name": "stdout",
     "output_type": "stream",
     "text": [
      "Loading Baseline results from outputs/crim13_results/near_outputs/crim13_iddfs-near_010/test_results.json\n",
      "Loading Baseline results from outputs/crim13_results/near_outputs/crim13_astar-near_020/test_results.json\n",
      "Loading Baseline results from outputs/crim13_results/near_outputs/crim13_astar-near_010/test_results.json\n",
      "Loading Baseline results from outputs/crim13_results/near_outputs/crim13_astar-near_003/test_results.json\n",
      "Loading Baseline results from outputs/crim13_results/near_outputs/crim13_iddfs-near_020/test_results.json\n",
      "Loading Baseline results from outputs/crim13_results/near_outputs/crim13_enumeration_010/test_results.json\n",
      "Loading Baseline results from outputs/crim13_results/near_outputs/crim13_astar-near_011/test_results.json\n",
      "Loading Baseline results from outputs/crim13_results/near_outputs/crim13_enumeration_020/test_results.json\n",
      "Loading Baseline results from outputs/crim13_results/near_outputs/crim13_iddfs-near_003/test_results.json\n",
      "Loading Baseline results from outputs/crim13_results/near_outputs/crim13_astar-near_001/test_results.json\n"
     ]
    }
   ],
   "source": [
    "# Load best NEAR results\n",
    "near_results_pth = Path(\"outputs/crim13_results/near_outputs/\")\n",
    "\n",
    "baseline_results = {}\n",
    "for result_file in near_results_pth.rglob(\"test_results.json\"):\n",
    "    print(f\"Loading Baseline results from {result_file}\")\n",
    "    with open(result_file, \"r\") as f:\n",
    "        expt_report = json.load(f)\n",
    "        experiment_name = result_file.parent.name\n",
    "        y_true = np.array(expt_report[\"true_vals\"])\n",
    "        y_scores = np.array(expt_report[\"predicted_vals\"])\n",
    "        expt_report[\"report\"] = compute_metrics(y_scores, y_true)\n",
    "        baseline_results[experiment_name] = expt_report"
   ]
  },
  {
   "cell_type": "markdown",
   "metadata": {},
   "source": [
    "## Load Neurosym-lib Results"
   ]
  },
  {
   "cell_type": "code",
   "execution_count": 5,
   "metadata": {},
   "outputs": [
    {
     "name": "stdout",
     "output_type": "stream",
     "text": [
      "  Loaded 40 programs from reproduction_sniff\n"
     ]
    }
   ],
   "source": [
    "file_path = \"outputs/crim13_results/reproduction_sniff.pkl\"\n",
    "neurosym_results = {}\n",
    "if Path(file_path).exists():\n",
    "    with open(file_path, \"rb\") as f:\n",
    "        results = pickle.load(f)\n",
    "        file_name = Path(file_path).stem\n",
    "        for i, result in enumerate(results):\n",
    "            key = f\"neurosym_{file_name}_{i:03d}\"\n",
    "            neurosym_results[key] = result\n",
    "    print(f\"  Loaded {len(results)} programs from {file_name}\")\n",
    "else:\n",
    "    print(f\"Warning: {file_path} not found\")"
   ]
  },
  {
   "cell_type": "markdown",
   "metadata": {},
   "source": [
    "## Reported Program\n"
   ]
  },
  {
   "cell_type": "code",
   "execution_count": 8,
   "metadata": {},
   "outputs": [
    {
     "name": "stdout",
     "output_type": "stream",
     "text": [
      "Loaded reported program results from outputs/crim13_results/reported_program.pkl\n"
     ]
    }
   ],
   "source": [
    "reported_path = \"outputs/crim13_results/reported_program.pkl\"\n",
    "if Path(reported_path).exists():\n",
    "    with open(reported_path, \"rb\") as f:\n",
    "        reported_program_result = pickle.load(f)\n",
    "    print(f\"Loaded reported program results from {reported_path}\")\n",
    "else:\n",
    "    print(f\"Warning: {reported_path} not found\")\n",
    "    reported_program_result = None"
   ]
  },
  {
   "cell_type": "markdown",
   "metadata": {},
   "source": [
    "## Create Comparison Table"
   ]
  },
  {
   "cell_type": "code",
   "execution_count": 9,
   "metadata": {},
   "outputs": [
    {
     "name": "stdout",
     "output_type": "stream",
     "text": [
      "Total experiments: 51\n"
     ]
    }
   ],
   "source": [
    "# Combine all results\n",
    "all_results = {}\n",
    "all_results.update(baseline_results)\n",
    "all_results.update(neurosym_results)\n",
    "\n",
    "if reported_program_result is not None:\n",
    "    all_results[\"reported_program\"] = reported_program_result\n",
    "\n",
    "print(f\"Total experiments: {len(all_results)}\")"
   ]
  },
  {
   "cell_type": "code",
   "execution_count": 10,
   "metadata": {},
   "outputs": [
    {
     "name": "stdout",
     "output_type": "stream",
     "text": [
      "\n",
      "================================================================================\n",
      "RESULTS COMPARISON\n",
      "================================================================================\n",
      "                     experiment  precision   recall  f1_score  support  hamming_accuracy         time\n",
      "         crim13_enumeration_010   0.446849 0.500000  0.471933 295300.0          0.893698 81125.326581\n",
      "          crim13_astar-near_001   0.446849 0.500000  0.471933 295300.0          0.893698  1563.009056\n",
      "neurosym_reproduction_sniff_015   0.446849 0.500000  0.471933 295300.0          0.893698   137.301126\n",
      "neurosym_reproduction_sniff_017   0.446849 0.500000  0.471933 295300.0          0.893698   137.301244\n",
      "neurosym_reproduction_sniff_020   0.446849 0.500000  0.471933 295300.0          0.893698   227.052793\n",
      "neurosym_reproduction_sniff_022   0.446849 0.500000  0.471933 295300.0          0.893698   227.052911\n",
      "neurosym_reproduction_sniff_021   0.446849 0.500000  0.471933 295300.0          0.893698   227.052884\n",
      "neurosym_reproduction_sniff_016   0.446849 0.500000  0.471933 295300.0          0.893698   137.301217\n",
      "neurosym_reproduction_sniff_014   0.446849 0.500000  0.471933 295300.0          0.893698   116.912720\n",
      "neurosym_reproduction_sniff_018   0.446848 0.499989  0.471927 295300.0          0.893678   137.301266\n",
      "neurosym_reproduction_sniff_025   0.446846 0.499970  0.471918 295300.0          0.893644   247.956415\n",
      "neurosym_reproduction_sniff_026   0.498717 0.499973  0.473394 295300.0          0.892120   247.956444\n",
      "neurosym_reproduction_sniff_027   0.501421 0.500040  0.474014 295300.0          0.891612   247.956469\n",
      "neurosym_reproduction_sniff_019   0.486836 0.498995  0.475354 295300.0          0.887562   137.301305\n",
      "neurosym_reproduction_sniff_028   0.479229 0.497290  0.475739 295300.0          0.882784   247.956494\n",
      "               reported_program   0.521509 0.513395  0.513409 295300.0          0.849062     3.119306\n",
      "neurosym_reproduction_sniff_001   0.528231 0.535155  0.530137 295300.0          0.799109    25.754020\n",
      "neurosym_reproduction_sniff_038   0.472200 0.456795  0.227471 295300.0          0.231676   338.530164\n",
      "neurosym_reproduction_sniff_024   0.472681 0.457865  0.226693 295300.0          0.230704   247.956382\n",
      "neurosym_reproduction_sniff_039   0.472815 0.458192  0.226371 295300.0          0.230312   338.530194\n",
      "neurosym_reproduction_sniff_037   0.474172 0.460876  0.225081 295300.0          0.228662   338.530131\n",
      "neurosym_reproduction_sniff_036   0.481927 0.475826  0.213287 295300.0          0.214748   338.530097\n",
      "neurosym_reproduction_sniff_029   0.486703 0.483059  0.209851 295300.0          0.210796   317.788400\n",
      "neurosym_reproduction_sniff_035   0.484951 0.480807  0.209126 295300.0          0.210081   338.529987\n",
      "neurosym_reproduction_sniff_032   0.486402 0.482890  0.208253 295300.0          0.209089   317.788567\n",
      "neurosym_reproduction_sniff_023   0.486336 0.482891  0.207666 295300.0          0.208463   247.956280\n",
      "neurosym_reproduction_sniff_031   0.486258 0.482822  0.207433 295300.0          0.208215   317.788535\n",
      "neurosym_reproduction_sniff_033   0.486203 0.482782  0.207222 295300.0          0.207992   317.788595\n",
      "neurosym_reproduction_sniff_030   0.486250 0.482870  0.207043 295300.0          0.207799   317.788498\n",
      "neurosym_reproduction_sniff_034   0.486284 0.482951  0.206804 295300.0          0.207541   317.788622\n",
      "neurosym_reproduction_sniff_002   0.489396 0.487459  0.202698 295300.0          0.203109    25.754057\n",
      "          crim13_iddfs-near_003   0.374315 0.293300  0.174026 295300.0          0.180349 61701.472831\n",
      "neurosym_reproduction_sniff_003   0.526738 0.502464  0.105696 295300.0          0.114192    25.754076\n",
      "          crim13_iddfs-near_010   0.053151 0.500000  0.096088 295300.0          0.106302 61754.879084\n",
      "          crim13_astar-near_010   0.053151 0.500000  0.096088 295300.0          0.106302 44204.021820\n",
      "neurosym_reproduction_sniff_008   0.053151 0.500000  0.096088 295300.0          0.106302    73.220326\n",
      "neurosym_reproduction_sniff_007   0.053151 0.500000  0.096088 295300.0          0.106302    73.220238\n",
      "neurosym_reproduction_sniff_006   0.053151 0.500000  0.096088 295300.0          0.106302    25.754126\n",
      "neurosym_reproduction_sniff_005   0.053151 0.500000  0.096088 295300.0          0.106302    25.754109\n",
      "neurosym_reproduction_sniff_004   0.053151 0.500000  0.096088 295300.0          0.106302    25.754093\n",
      "          crim13_iddfs-near_020   0.053151 0.500000  0.096088 295300.0          0.106302   630.023532\n",
      "         crim13_enumeration_020   0.053151 0.500000  0.096088 295300.0          0.106302 32367.263788\n",
      "neurosym_reproduction_sniff_000   0.053151 0.500000  0.096088 295300.0          0.106302    25.753930\n",
      "          crim13_astar-near_003   0.053151 0.500000  0.096088 295300.0          0.106302 15401.349342\n",
      "          crim13_astar-near_011   0.053151 0.500000  0.096088 295300.0          0.106302   852.341060\n",
      "          crim13_astar-near_020   0.053151 0.500000  0.096088 295300.0          0.106302   628.960742\n",
      "neurosym_reproduction_sniff_012   0.053151 0.500000  0.096088 295300.0          0.106302    73.220420\n",
      "neurosym_reproduction_sniff_013   0.053151 0.500000  0.096088 295300.0          0.106302    73.220438\n",
      "neurosym_reproduction_sniff_011   0.053151 0.500000  0.096088 295300.0          0.106302    73.220402\n",
      "neurosym_reproduction_sniff_010   0.053151 0.500000  0.096088 295300.0          0.106302    73.220367\n",
      "neurosym_reproduction_sniff_009   0.053151 0.500000  0.096088 295300.0          0.106302    73.220347\n",
      "================================================================================\n"
     ]
    }
   ],
   "source": [
    "# Create comparison dataframe\n",
    "table_data = []\n",
    "\n",
    "for name, result in all_results.items():\n",
    "    # Extract metrics\n",
    "    report = result.get(\"report\", {})\n",
    "    \n",
    "    # Handle different report structures\n",
    "    if isinstance(report, dict):\n",
    "        if \"report\" in report:\n",
    "            macro_avg = report[\"report\"].get(\"macro avg\", {})\n",
    "            hamming_acc = report.get(\"hamming_accuracy\", 0.0)\n",
    "        elif \"macro avg\" in report:\n",
    "            macro_avg = report[\"macro avg\"]\n",
    "            hamming_acc = report.get(\"hamming_accuracy\", 0.0)\n",
    "        else:\n",
    "            # Need to compute metrics\n",
    "            if \"pred_vals\" in result and \"true_vals\" in result:\n",
    "                pred_vals = np.array(result[\"pred_vals\"])\n",
    "                true_vals = np.array(result[\"true_vals\"])\n",
    "                metrics = compute_metrics(pred_vals, true_vals)\n",
    "                macro_avg = metrics[\"report\"][\"macro avg\"]\n",
    "                hamming_acc = metrics[\"hamming_accuracy\"]\n",
    "            else:\n",
    "                continue\n",
    "    else:\n",
    "        continue\n",
    "    \n",
    "    row = {\n",
    "        \"experiment\": name,\n",
    "        \"precision\": macro_avg.get(\"precision\", 0.0),\n",
    "        \"recall\": macro_avg.get(\"recall\", 0.0),\n",
    "        \"f1_score\": macro_avg.get(\"f1-score\", 0.0),\n",
    "        \"support\": macro_avg.get(\"support\", 0),\n",
    "        \"hamming_accuracy\": hamming_acc,\n",
    "        \"time\": result.get(\"time\", 0.0),\n",
    "    }\n",
    "    table_data.append(row)\n",
    "\n",
    "df = pd.DataFrame(table_data)\n",
    "\n",
    "# Sort by f1_score descending\n",
    "df = df.sort_values(\"hamming_accuracy\", ascending=False)\n",
    "\n",
    "print(\"\\n\" + \"=\" * 80)\n",
    "print(\"RESULTS COMPARISON\")\n",
    "print(\"=\" * 80)\n",
    "print(df.to_string(index=False))\n",
    "print(\"=\" * 80)"
   ]
  },
  {
   "cell_type": "markdown",
   "metadata": {},
   "source": [
    "## Summary Statistics"
   ]
  },
  {
   "cell_type": "code",
   "execution_count": 11,
   "metadata": {},
   "outputs": [
    {
     "name": "stdout",
     "output_type": "stream",
     "text": [
      "\n",
      "SUMMARY STATISTICS\n",
      "================================================================================\n",
      "Total experiments: 51\n",
      "\n",
      "Best F1-score: 0.530137\n",
      "  Experiment: neurosym_reproduction_sniff_001\n",
      "\n",
      "Best Hamming accuracy: 0.893698\n",
      "  Experiment: crim13_enumeration_010\n",
      "\n",
      "Average F1-score: 0.257404\n",
      "Average Hamming accuracy: 0.397059\n",
      "Average training time: 6029.34 seconds\n",
      "\n",
      "Baseline experiments: 10\n",
      "  Avg F1: 0.179051\n",
      "  Avg Hamming Acc: 0.271186\n",
      "\n",
      "Neurosym-lib experiments: 40\n",
      "  Avg F1: 0.270592\n",
      "  Avg Hamming Acc: 0.417227\n",
      "\n",
      "Reported Program:\n",
      "  F1: 0.513409\n",
      "  Hamming Acc: 0.849062\n",
      "  Time: 3.12s\n",
      "================================================================================\n"
     ]
    }
   ],
   "source": [
    "print(\"\\nSUMMARY STATISTICS\")\n",
    "print(\"=\" * 80)\n",
    "print(f\"Total experiments: {len(df)}\")\n",
    "print(f\"\\nBest F1-score: {df['f1_score'].max():.6f}\")\n",
    "print(f\"  Experiment: {df.loc[df['f1_score'].idxmax(), 'experiment']}\")\n",
    "print(f\"\\nBest Hamming accuracy: {df['hamming_accuracy'].max():.6f}\")\n",
    "print(f\"  Experiment: {df.loc[df['hamming_accuracy'].idxmax(), 'experiment']}\")\n",
    "print(f\"\\nAverage F1-score: {df['f1_score'].mean():.6f}\")\n",
    "print(f\"Average Hamming accuracy: {df['hamming_accuracy'].mean():.6f}\")\n",
    "print(f\"Average training time: {df['time'].mean():.2f} seconds\")\n",
    "\n",
    "# Baseline vs Neurosym comparison\n",
    "baseline_df = df[df['experiment'].str.contains('baseline|crim13_astar|crim13_iddfs|enumeration', case=False, na=False)]\n",
    "neurosym_df = df[df['experiment'].str.contains('neurosym|reproduction', case=False, na=False)]\n",
    "\n",
    "if not baseline_df.empty:\n",
    "    print(f\"\\nBaseline experiments: {len(baseline_df)}\")\n",
    "    print(f\"  Avg F1: {baseline_df['f1_score'].mean():.6f}\")\n",
    "    print(f\"  Avg Hamming Acc: {baseline_df['hamming_accuracy'].mean():.6f}\")\n",
    "    \n",
    "if not neurosym_df.empty:\n",
    "    print(f\"\\nNeurosym-lib experiments: {len(neurosym_df)}\")\n",
    "    print(f\"  Avg F1: {neurosym_df['f1_score'].mean():.6f}\")\n",
    "    print(f\"  Avg Hamming Acc: {neurosym_df['hamming_accuracy'].mean():.6f}\")\n",
    "\n",
    "# Reported program\n",
    "reported_df = df[df['experiment'] == 'reported_program']\n",
    "if not reported_df.empty:\n",
    "    print(\"\\nReported Program:\")\n",
    "    print(f\"  F1: {reported_df['f1_score'].values[0]:.6f}\")\n",
    "    print(f\"  Hamming Acc: {reported_df['hamming_accuracy'].values[0]:.6f}\")\n",
    "    print(f\"  Time: {reported_df['time'].values[0]:.2f}s\")\n",
    "\n",
    "print(\"=\" * 80)"
   ]
  },
  {
   "cell_type": "markdown",
   "metadata": {},
   "source": [
    "## Save Results"
   ]
  },
  {
   "cell_type": "code",
   "execution_count": 12,
   "metadata": {},
   "outputs": [
    {
     "name": "stdout",
     "output_type": "stream",
     "text": [
      "Saved CSV to: outputs/crim13_results/comparison.csv\n",
      "Saved Markdown to: outputs/crim13_results/comparison.md\n"
     ]
    }
   ],
   "source": [
    "# Save CSV\n",
    "csv_path = \"outputs/crim13_results/comparison.csv\"\n",
    "Path(csv_path).parent.mkdir(parents=True, exist_ok=True)\n",
    "df.to_csv(csv_path, index=False)\n",
    "print(f\"Saved CSV to: {csv_path}\")\n",
    "\n",
    "# Save Markdown\n",
    "md_path = \"outputs/crim13_results/comparison.md\"\n",
    "with open(md_path, \"w\") as f:\n",
    "    f.write(\"# MICE-DSL NEAR Results Comparison\\n\\n\")\n",
    "    f.write(df.to_markdown(index=False))\n",
    "    f.write(\"\\n\")\n",
    "print(f\"Saved Markdown to: {md_path}\")"
   ]
  },
  {
   "cell_type": "markdown",
   "metadata": {},
   "source": [
    "## Display Top Programs"
   ]
  },
  {
   "cell_type": "code",
   "execution_count": 13,
   "metadata": {},
   "outputs": [
    {
     "name": "stdout",
     "output_type": "stream",
     "text": [
      "\n",
      "Top 10 Programs by F1-score:\n",
      "================================================================================\n",
      "                     experiment  precision   recall  f1_score  support  hamming_accuracy         time\n",
      "         crim13_enumeration_010   0.446849 0.500000  0.471933 295300.0          0.893698 81125.326581\n",
      "          crim13_astar-near_001   0.446849 0.500000  0.471933 295300.0          0.893698  1563.009056\n",
      "neurosym_reproduction_sniff_015   0.446849 0.500000  0.471933 295300.0          0.893698   137.301126\n",
      "neurosym_reproduction_sniff_017   0.446849 0.500000  0.471933 295300.0          0.893698   137.301244\n",
      "neurosym_reproduction_sniff_020   0.446849 0.500000  0.471933 295300.0          0.893698   227.052793\n",
      "neurosym_reproduction_sniff_022   0.446849 0.500000  0.471933 295300.0          0.893698   227.052911\n",
      "neurosym_reproduction_sniff_021   0.446849 0.500000  0.471933 295300.0          0.893698   227.052884\n",
      "neurosym_reproduction_sniff_016   0.446849 0.500000  0.471933 295300.0          0.893698   137.301217\n",
      "neurosym_reproduction_sniff_014   0.446849 0.500000  0.471933 295300.0          0.893698   116.912720\n",
      "neurosym_reproduction_sniff_018   0.446848 0.499989  0.471927 295300.0          0.893678   137.301266\n",
      "\n",
      "Program Details:\n",
      "================================================================================\n",
      "\n",
      "crim13_enumeration_010:\n",
      "  Program: Start(Map(SimpleITE(DistanceSelect(), AccelerationSelect(), DistanceSelect())))\n",
      "  F1: 0.471933, Hamming Acc: 0.893698, Time: 81125.33s\n",
      "\n",
      "crim13_astar-near_001:\n",
      "  Program: Start(Map(PositionSelect()))\n",
      "  F1: 0.471933, Hamming Acc: 0.893698, Time: 1563.01s\n",
      "\n",
      "neurosym_reproduction_sniff_015:\n",
      "  Program: SExpression(symbol='map', children=(SExpression(symbol='mul', children=(SExpression(symbol='affine_bool_angle_change', children=()), SExpression(symbol='affine_bool_position', children=()))),))\n",
      "  F1: 0.471933, Hamming Acc: 0.893698, Time: 137.30s\n",
      "\n",
      "neurosym_reproduction_sniff_017:\n",
      "  Program: SExpression(symbol='map', children=(SExpression(symbol='mul', children=(SExpression(symbol='affine_bool_angle_change', children=()), SExpression(symbol='affine_bool_angle_change', children=()))),))\n",
      "  F1: 0.471933, Hamming Acc: 0.893698, Time: 137.30s\n",
      "\n",
      "neurosym_reproduction_sniff_020:\n",
      "  Program: SExpression(symbol='map', children=(SExpression(symbol='mul', children=(SExpression(symbol='affine_bool_angle_change', children=()), SExpression(symbol='mul', children=(SExpression(symbol='affine_bool_position', children=()), SExpression(symbol='affine_bool_position', children=()))))),))\n",
      "  F1: 0.471933, Hamming Acc: 0.893698, Time: 227.05s\n",
      "\n",
      "neurosym_reproduction_sniff_022:\n",
      "  Program: SExpression(symbol='map', children=(SExpression(symbol='mul', children=(SExpression(symbol='affine_bool_angle_change', children=()), SExpression(symbol='mul', children=(SExpression(symbol='affine_bool_position', children=()), SExpression(symbol='affine_bool_angle_change', children=()))))),))\n",
      "  F1: 0.471933, Hamming Acc: 0.893698, Time: 227.05s\n",
      "\n",
      "neurosym_reproduction_sniff_021:\n",
      "  Program: SExpression(symbol='map', children=(SExpression(symbol='mul', children=(SExpression(symbol='affine_bool_angle_change', children=()), SExpression(symbol='mul', children=(SExpression(symbol='affine_bool_position', children=()), SExpression(symbol='affine_bool_distance', children=()))))),))\n",
      "  F1: 0.471933, Hamming Acc: 0.893698, Time: 227.05s\n",
      "\n",
      "neurosym_reproduction_sniff_016:\n",
      "  Program: SExpression(symbol='map', children=(SExpression(symbol='mul', children=(SExpression(symbol='affine_bool_angle_change', children=()), SExpression(symbol='affine_bool_distance', children=()))),))\n",
      "  F1: 0.471933, Hamming Acc: 0.893698, Time: 137.30s\n",
      "\n",
      "neurosym_reproduction_sniff_014:\n",
      "  Program: SExpression(symbol='map', children=(SExpression(symbol='mul', children=(SExpression(symbol='affine_bool_position', children=()), SExpression(symbol='affine_bool_angle_change', children=()))),))\n",
      "  F1: 0.471933, Hamming Acc: 0.893698, Time: 116.91s\n",
      "\n",
      "neurosym_reproduction_sniff_018:\n",
      "  Program: SExpression(symbol='map', children=(SExpression(symbol='mul', children=(SExpression(symbol='affine_bool_angle_change', children=()), SExpression(symbol='affine_bool_acceleration', children=()))),))\n",
      "  F1: 0.471927, Hamming Acc: 0.893678, Time: 137.30s\n"
     ]
    }
   ],
   "source": [
    "# Show top 10 programs by F1 score\n",
    "print(\"\\nTop 10 Programs by F1-score:\")\n",
    "print(\"=\" * 80)\n",
    "top_10 = df.head(10)\n",
    "print(top_10.to_string(index=False))\n",
    "\n",
    "# Show program strings for top results if available\n",
    "print(\"\\nProgram Details:\")\n",
    "print(\"=\" * 80)\n",
    "for idx, row in top_10.iterrows():\n",
    "    exp_name = row['experiment']\n",
    "    if exp_name in all_results:\n",
    "        result = all_results[exp_name]\n",
    "        program_str = result.get('program_str', str(result.get('program', 'N/A')))\n",
    "        print(f\"\\n{exp_name}:\")\n",
    "        print(f\"  Program: {program_str}\")\n",
    "        print(f\"  F1: {row['f1_score']:.6f}, Hamming Acc: {row['hamming_accuracy']:.6f}, Time: {row['time']:.2f}s\")"
   ]
  },
  {
   "cell_type": "code",
   "execution_count": null,
   "metadata": {},
   "outputs": [],
   "source": []
  }
 ],
 "metadata": {
  "kernelspec": {
   "display_name": ".venv",
   "language": "python",
   "name": "python3"
  },
  "language_info": {
   "codemirror_mode": {
    "name": "ipython",
    "version": 3
   },
   "file_extension": ".py",
   "mimetype": "text/x-python",
   "name": "python",
   "nbconvert_exporter": "python",
   "pygments_lexer": "ipython3",
   "version": "3.10.12"
  }
 },
 "nbformat": 4,
 "nbformat_minor": 4
}
