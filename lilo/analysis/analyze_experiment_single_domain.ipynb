{
 "cells": [
  {
   "cell_type": "code",
   "execution_count": null,
   "id": "a5285f8b-7b08-4c03-a5dc-bf08293c7b39",
   "metadata": {},
   "outputs": [],
   "source": [
    "import sys\n",
    "\n",
    "sys.path.append(\"../\")"
   ]
  },
  {
   "cell_type": "code",
   "execution_count": null,
   "id": "73bad25f-b75e-4290-8c74-1ed7deb48c54",
   "metadata": {},
   "outputs": [],
   "source": [
    "%load_ext autoreload\n",
    "%autoreload 2"
   ]
  },
  {
   "cell_type": "code",
   "execution_count": null,
   "id": "cf378b7d-2e23-4346-a245-033274dd5e3a",
   "metadata": {},
   "outputs": [],
   "source": [
    "import os\n",
    "\n",
    "import data.drawings.make_tasks as drawing_tasks\n",
    "import pandas as pd\n",
    "import seaborn as sns\n",
    "from matplotlib import pyplot as plt\n",
    "from src.analysis_utilities import IterativeExperimentAnalyzer\n",
    "from src.config_builder import ExperimentType"
   ]
  },
  {
   "cell_type": "code",
   "execution_count": null,
   "id": "bdd76c88-a723-46bb-9734-519173f33fad",
   "metadata": {},
   "outputs": [],
   "source": [
    "%config InlineBackend.figure_format = 'retina'"
   ]
  },
  {
   "cell_type": "code",
   "execution_count": null,
   "id": "4140e8d3-f934-4fc8-8215-c9496293e01e",
   "metadata": {},
   "outputs": [],
   "source": [
    "sns.set_theme(style=\"whitegrid\", font_scale=1.25)"
   ]
  },
  {
   "cell_type": "markdown",
   "id": "a5e08b79-0f74-4ef5-b03f-6a1df0f69270",
   "metadata": {},
   "source": [
    "# Single-domain analysis"
   ]
  },
  {
   "cell_type": "code",
   "execution_count": null,
   "id": "93918c9f-c182-4257-b280-69b5b97059ba",
   "metadata": {},
   "outputs": [],
   "source": [
    "# EXPERIMENT_NAME = \"gg_drawings\"\n",
    "# DOMAIN = \"drawings_nuts_bolts\"\n",
    "# DOMAIN = \"drawings_furniture\"\n",
    "# DOMAIN = \"drawings_dials\"\n",
    "# DOMAIN = \"drawings_wheels\"\n",
    "\n",
    "EXPERIMENT_NAME = \"gg_laps_domains_dsl_descriptions\"\n",
    "DOMAIN = \"clevr\"\n",
    "# DOMAIN = \"re2\"\n",
    "\n",
    "COMPUTE_LIKELIHOODS = False\n",
    "\n",
    "FIGURES_DIR = os.path.join(\"figures\", EXPERIMENT_NAME)\n",
    "FIGURES_DOMAIN_DIR = os.path.join(\"figures\", EXPERIMENT_NAME, DOMAIN)\n",
    "os.makedirs(FIGURES_DOMAIN_DIR, exist_ok=True)\n",
    "\n",
    "analyzer = IterativeExperimentAnalyzer(\n",
    "    experiment_name=EXPERIMENT_NAME,\n",
    "    allow_incomplete_results=True,\n",
    "    compute_likelihoods=COMPUTE_LIKELIHOODS,\n",
    ")"
   ]
  },
  {
   "cell_type": "code",
   "execution_count": null,
   "id": "46edb16d-52d8-48b4-9dc8-f64304119d49",
   "metadata": {},
   "outputs": [],
   "source": [
    "analyzer.get_available_experiment_types(domain=DOMAIN)"
   ]
  },
  {
   "cell_type": "code",
   "execution_count": null,
   "id": "b3952ccd-98ec-4538-8388-fdfc2a466488",
   "metadata": {},
   "outputs": [],
   "source": [
    "# experiment_types = [\n",
    "#     ExperimentType.ORACLE.value,\n",
    "#     ExperimentType.ORACLE_TRAIN_TEST.value,\n",
    "#     ExperimentType.STITCH.value,\n",
    "#     ExperimentType.STITCH_CODEX.value,\n",
    "#     ExperimentType.STITCH_CODEX_LANGUAGE.value,\n",
    "#     ExperimentType.STITCH_CODEX_LANGUAGE_ORIGIN_RANDOM_TEST.value,\n",
    "# ]\n",
    "\n",
    "experiment_types = None\n",
    "\n",
    "df = analyzer.get_results_for_domain(domain=DOMAIN, experiment_types=experiment_types)"
   ]
  },
  {
   "cell_type": "code",
   "execution_count": null,
   "id": "f992a82a-e4c6-487e-9948-c5e24ef96950",
   "metadata": {},
   "outputs": [],
   "source": [
    "analyzer.plot_description_length(domain=DOMAIN, df=df)\n",
    "plt.savefig(os.path.join(FIGURES_DOMAIN_DIR, f\"description_length.png\"), dpi=300)"
   ]
  },
  {
   "cell_type": "code",
   "execution_count": null,
   "id": "b06da0c3-f561-4f69-89cf-2ac39030f6b2",
   "metadata": {},
   "outputs": [],
   "source": [
    "analyzer.plot_description_length(\n",
    "    domain=DOMAIN, df=df, plot_type=\"lineplot\", logscale=True\n",
    ")"
   ]
  },
  {
   "cell_type": "code",
   "execution_count": null,
   "id": "e05781e6-25e6-418c-a3b2-6852145ab15b",
   "metadata": {},
   "outputs": [],
   "source": [
    "analyzer.plot_n_frontiers(domain=DOMAIN, df=df)"
   ]
  },
  {
   "cell_type": "markdown",
   "id": "18b9b5f0-2108-4eb6-a3c7-6327df7b6235",
   "metadata": {},
   "source": [
    "## What programs does Codex generate?"
   ]
  },
  {
   "cell_type": "code",
   "execution_count": null,
   "id": "960d7807-6483-47dc-be0a-825f2f7ec366",
   "metadata": {},
   "outputs": [],
   "source": [
    "df_codex = analyzer.get_codex_programs_for_domain(DOMAIN, use_results_by_query=True)"
   ]
  },
  {
   "cell_type": "code",
   "execution_count": null,
   "id": "60c0b6d0-c4bc-473d-9111-2629309b1397",
   "metadata": {},
   "outputs": [],
   "source": [
    "df_codex[(df_codex.experiment_type == \"stitch_codex\") & (df_codex.batch_size == 5) & (df_codex.seed == 111) & (df_codex.origin != \"train\") & (df_codex.valid)][\"program\"].nunique()"
   ]
  },
  {
   "cell_type": "code",
   "execution_count": null,
   "id": "94641b31-4402-4258-afe9-a784db2b2bf9",
   "metadata": {},
   "outputs": [],
   "source": [
    "df_unique_counts = df_codex.query(\"origin == 'codex'\").drop_duplicates(subset=[\"program\"]).groupby([\"experiment_type\", \"batch_size\", \"seed\"]).sum().reset_index()\n",
    "df_unique_counts"
   ]
  },
  {
   "cell_type": "code",
   "execution_count": null,
   "id": "4e33dfa8-8c74-4f88-aa64-29e4c27dbce4",
   "metadata": {},
   "outputs": [],
   "source": [
    "# Darken each color in the palette by 25%\n",
    "from PIL import ImageColor\n",
    "DARKEN_RATIO = 0.75\n",
    "PALLETE_DARKENED = {k: tuple(r * DARKEN_RATIO * 1/256 for r in ImageColor.getcolor(hex_str, \"RGB\")) for k, hex_str in analyzer.EXPERIMENT_TYPES_PALETTE.items()}\n",
    "\n",
    "g = sns.barplot(data=analyzer.format_dataframe_camera(df_unique_counts), x=analyzer.COL_NAMES_CAMERA[\"batch_size\"], y=\"valid\", hue=analyzer.COL_NAMES_CAMERA[\"experiment_type\"], palette=analyzer.EXPERIMENT_TYPES_PALETTE)\n",
    "g = sns.barplot(data=analyzer.format_dataframe_camera(df_unique_counts), x=analyzer.COL_NAMES_CAMERA[\"batch_size\"], y=\"match_train\", hue=analyzer.COL_NAMES_CAMERA[\"experiment_type\"], palette=PALLETE_DARKENED)\n",
    "\n",
    "g.legend_.remove()"
   ]
  },
  {
   "cell_type": "code",
   "execution_count": null,
   "id": "09198cbd-df3f-4880-a977-4938c85526f4",
   "metadata": {},
   "outputs": [],
   "source": [
    "# plt.title(\"Percentage of valid programs\")\n",
    "sns.barplot(\n",
    "    data=analyzer.format_dataframe_camera(df_codex).query(\"origin != 'train'\"),\n",
    "    x=analyzer.COL_NAMES_CAMERA[\"batch_size\"],\n",
    "    y=\"valid\",\n",
    "    hue=analyzer.COL_NAMES_CAMERA[\"experiment_type\"],\n",
    "    palette=analyzer.EXPERIMENT_TYPES_PALETTE,\n",
    ");"
   ]
  },
  {
   "cell_type": "code",
   "execution_count": null,
   "id": "fc4e78aa-9e2d-4f5f-98aa-0a133332d809",
   "metadata": {},
   "outputs": [],
   "source": [
    "# plt.title(\"Percentage of valid programs\")\n",
    "sns.pointplot(\n",
    "    data=analyzer.format_dataframe_camera(df_codex).query(\"origin != 'train'\"),\n",
    "    x=analyzer.COL_NAMES_CAMERA[\"batch_size\"],\n",
    "    y=\"valid\",\n",
    "    hue=analyzer.COL_NAMES_CAMERA[\"experiment_type\"],\n",
    "    palette=analyzer.EXPERIMENT_TYPES_PALETTE,\n",
    ");"
   ]
  },
  {
   "cell_type": "code",
   "execution_count": null,
   "id": "6c0845f4-70af-4090-bed3-04ddb24aacf3",
   "metadata": {},
   "outputs": [],
   "source": [
    "plt.title(\"Count of unique programs\")\n",
    "\n",
    "df_tmp1 = (\n",
    "    df_codex.query(\"origin == 'train'\")\n",
    "    .groupby([\"experiment_type\", \"batch_size\", \"seed\"])\n",
    "    .nunique()\n",
    "    .reset_index()\n",
    ")\n",
    "df_tmp2 = (\n",
    "    df_codex.query(f\"origin == 'codex'\")\n",
    "    .groupby([\"experiment_type\", \"batch_size\", \"seed\"])\n",
    "    .nunique()\n",
    "    .reset_index()\n",
    ")\n",
    "df_tmp3 = (\n",
    "    df_codex.query(f\"origin == 'codex' & match_train\")\n",
    "    .groupby([\"experiment_type\", \"batch_size\", \"seed\"])\n",
    "    .nunique()\n",
    "    .reset_index()\n",
    ")\n",
    "df_tmp4 = (\n",
    "    df_codex.query(f\"origin == 'codex' & ~match_train\")\n",
    "    .groupby([\"experiment_type\", \"batch_size\", \"seed\"])\n",
    "    .nunique()\n",
    "    .reset_index()\n",
    ")\n",
    "df_tmp1[\"origin\"] = \"train\"\n",
    "df_tmp2[\"origin\"] = \"codex (overall)\"\n",
    "df_tmp3[\"origin\"] = \"codex (copied from train)\"\n",
    "df_tmp4[\"origin\"] = \"codex (original)\"\n",
    "\n",
    "df_tmp = pd.concat([df_tmp2, df_tmp3, df_tmp4], axis=0).reset_index()\n",
    "\n",
    "sns.lineplot(data=df_tmp, x=\"batch_size\", y=\"program\", style=\"origin\", hue=\"experiment_type\");\n",
    "# sns.barplot(data=df_tmp, x=\"batch_size\", y=\"program\", hue=\"experiment_type\");\n",
    "\n",
    "\n",
    "# fig = sns.catplot(data=df_tmp, kind=\"point\", x=\"batch_size\", y=\"program\", hue=\"origin\", col=\"experiment_type\");\n",
    "# fig.set(xscale=\"log\")"
   ]
  },
  {
   "cell_type": "code",
   "execution_count": null,
   "id": "26ad72cf-0ec3-4569-89d4-b181a41ff2ee",
   "metadata": {},
   "outputs": [],
   "source": [
    "df_codex"
   ]
  },
  {
   "cell_type": "code",
   "execution_count": null,
   "id": "0fd3c770-d731-4b8d-b322-ab843ae1e7ff",
   "metadata": {},
   "outputs": [],
   "source": [
    "df_codex.query(\"origin == 'codex'\").groupby([\"experiment_type\", \"batch_size\", \"seed\"]).sum()"
   ]
  },
  {
   "cell_type": "code",
   "execution_count": null,
   "id": "d9ad0b2a-a2e3-402c-ac80-c6d13fe4ed4b",
   "metadata": {},
   "outputs": [],
   "source": [
    "df_codex = analyzer.get_codex_programs_for_domain(DOMAIN, use_results_by_query=True)"
   ]
  },
  {
   "cell_type": "code",
   "execution_count": null,
   "id": "17b18e15-cf0a-4da8-8173-c34dbfe2ba00",
   "metadata": {},
   "outputs": [],
   "source": [
    "df_codex.loc[df_codex[\"origin\"] == \"train\", \"experiment_type\"] = \"train\""
   ]
  },
  {
   "cell_type": "code",
   "execution_count": null,
   "id": "805bfe00-3389-4891-a68d-d2babbd0c232",
   "metadata": {},
   "outputs": [],
   "source": [
    "sns.violinplot(\n",
    "    data=analyzer.format_dataframe_camera(df_codex),\n",
    "    x=analyzer.COL_NAMES_CAMERA[\"batch_size\"],\n",
    "    y=\"program_str_len\",\n",
    "    hue=analyzer.COL_NAMES_CAMERA[\"experiment_type\"],\n",
    ");"
   ]
  },
  {
   "cell_type": "code",
   "execution_count": null,
   "id": "d4094419-13bb-4021-8b30-31aa1dfd36c3",
   "metadata": {},
   "outputs": [],
   "source": [
    "sns.catplot(\n",
    "    kind=\"violin\",\n",
    "    col=analyzer.COL_NAMES_CAMERA[\"experiment_type\"],\n",
    "    data=analyzer.format_dataframe_camera(df_codex),\n",
    "    x=analyzer.COL_NAMES_CAMERA[\"batch_size\"],\n",
    "    y=\"program_str_len\",\n",
    "    hue=\"origin\",\n",
    ");"
   ]
  },
  {
   "cell_type": "code",
   "execution_count": null,
   "id": "3a2bfe4d-8660-47bd-93c6-bb66596f79cb",
   "metadata": {},
   "outputs": [],
   "source": [
    "plt.title(f\"{DOMAIN}: Count of programs per prompt\")\n",
    "sns.pointplot(\n",
    "    data=analyzer.format_dataframe_camera(df_codex)\n",
    "    .query(\"origin == 'train'\")\n",
    "    .groupby(\n",
    "        [\n",
    "            analyzer.COL_NAMES_CAMERA[\"batch_size\"],\n",
    "            analyzer.COL_NAMES_CAMERA[\"experiment_type\"],\n",
    "            \"seed\",\n",
    "            \"query_id\",\n",
    "        ]\n",
    "    )\n",
    "    .count()\n",
    "    .reset_index(),\n",
    "    x=analyzer.COL_NAMES_CAMERA[\"batch_size\"],\n",
    "    y=\"program\",\n",
    "    hue=analyzer.COL_NAMES_CAMERA[\"experiment_type\"],\n",
    "    palette=analyzer.EXPERIMENT_TYPES_PALETTE,\n",
    ")"
   ]
  },
  {
   "cell_type": "markdown",
   "id": "c98662eb-4587-4537-8f46-fb887c55ed1a",
   "metadata": {},
   "source": [
    "# Invention analysis"
   ]
  },
  {
   "cell_type": "code",
   "execution_count": null,
   "id": "80bda061-5030-4a0b-a5e7-310ddd052d5e",
   "metadata": {},
   "outputs": [],
   "source": [
    "df_libraries = analyzer.get_library_inventions(DOMAIN)\n",
    "df_libraries"
   ]
  },
  {
   "cell_type": "code",
   "execution_count": null,
   "id": "ea355b74-d7f8-4608-b78e-b05fbe7a384c",
   "metadata": {},
   "outputs": [],
   "source": [
    "def compute_overlap_metrics(\n",
    "    df_libraries, experiment_type_a, experiment_type_b, random_seed_a, random_seed_b, batch_size_a = None, batch_size_b = None\n",
    "):\n",
    "    batch_sizes = sorted(\n",
    "        df_libraries[\n",
    "            (df_libraries[\"experiment_type\"] == experiment_type_a)\n",
    "            & (df_libraries[\"random_seed\"] == random_seed_a)\n",
    "        ][\"batch_size\"].unique()\n",
    "    )\n",
    "\n",
    "    data = []\n",
    "\n",
    "    for batch_size in batch_sizes:\n",
    "        set_a = set(\n",
    "            df_libraries[\n",
    "                (df_libraries[\"experiment_type\"] == experiment_type_a)\n",
    "                & (df_libraries[\"random_seed\"] == random_seed_a)\n",
    "                & (df_libraries[\"batch_size\"] == (batch_size_a if batch_size_a else batch_size))\n",
    "            ][\"dreamcoder\"]\n",
    "        )\n",
    "\n",
    "        set_b = set(\n",
    "            df_libraries[\n",
    "                (df_libraries[\"experiment_type\"] == experiment_type_b)\n",
    "                & (df_libraries[\"random_seed\"] == random_seed_b)\n",
    "                & (df_libraries[\"batch_size\"] == (batch_size_b if batch_size_b else batch_size))\n",
    "            ][\"dreamcoder\"]\n",
    "        )\n",
    "\n",
    "        data.append(\n",
    "            {\n",
    "                \"batch_size\": batch_size,\n",
    "                f\"{experiment_type_a}_only\": len(set_a - set_b),\n",
    "                f\"{experiment_type_b}_only\": len(set_b - set_a),\n",
    "                f\"overlap\": len(set_a.intersection(set_b)),\n",
    "            }\n",
    "        )\n",
    "\n",
    "    return data"
   ]
  },
  {
   "cell_type": "code",
   "execution_count": null,
   "id": "9b98edf2-cef3-4251-a327-69e5364d45ad",
   "metadata": {},
   "outputs": [],
   "source": [
    "# overlap_metrics = compute_overlap_metrics(\n",
    "#     df_libraries, ExperimentType.ORACLE, ExperimentType.STITCH, 111, 111\n",
    "# )\n",
    "\n",
    "overlap_metrics = compute_overlap_metrics(\n",
    "    df_libraries, ExperimentType.STITCH, ExperimentType.STITCH, 111, 111, batch_size_a = 200,\n",
    ")"
   ]
  },
  {
   "cell_type": "code",
   "execution_count": null,
   "id": "e6220f2c-aec4-451a-86e0-5660e3b01afb",
   "metadata": {},
   "outputs": [],
   "source": [
    "overlap_metrics"
   ]
  },
  {
   "cell_type": "code",
   "execution_count": null,
   "id": "9942d7b3-3609-4a1f-aaea-3c03b90714b9",
   "metadata": {},
   "outputs": [],
   "source": [
    "def get_df_overlap(df_libraries, experiment_type_base = ExperimentType.ORACLE_TRAIN_TEST, random_seed_base = 111, batch_size_base = None):\n",
    "    data = []\n",
    "    for experiment_type in [\n",
    "        ExperimentType.ORACLE,\n",
    "        ExperimentType.ORACLE_TRAIN_TEST,\n",
    "        ExperimentType.STITCH,\n",
    "        ExperimentType.STITCH_CODEX,\n",
    "        ExperimentType.STITCH_CODEX_LANGUAGE,\n",
    "        ExperimentType.STITCH_CODEX_LANGUAGE_ORIGIN_RANDOM_TEST,\n",
    "    ]:\n",
    "\n",
    "        for seed in df_libraries[df_libraries[\"experiment_type\"] == experiment_type][\n",
    "            \"random_seed\"\n",
    "        ].unique():\n",
    "            overlap_metrics = compute_overlap_metrics(\n",
    "                df_libraries,\n",
    "                experiment_type_a=experiment_type_base,\n",
    "                experiment_type_b=experiment_type,\n",
    "                random_seed_a=random_seed_base,\n",
    "                random_seed_b=seed,\n",
    "                batch_size_a=batch_size_base,\n",
    "            )\n",
    "            for result in overlap_metrics:\n",
    "                data.append(\n",
    "                    {\n",
    "                        \"experiment_type\": experiment_type.value,\n",
    "                        \"random_seed\": seed,\n",
    "                        \"batch_size\": result[\"batch_size\"],\n",
    "                        \"overlap\": result[\"overlap\"],\n",
    "                        \"baseline\": experiment_type != ExperimentType.STITCH,\n",
    "                    }\n",
    "                )\n",
    "    df_overlap = pd.DataFrame(data)\n",
    "    return df_overlap"
   ]
  },
  {
   "cell_type": "code",
   "execution_count": null,
   "id": "200aa992-a1d7-4cf7-b425-f835991067fb",
   "metadata": {},
   "outputs": [],
   "source": [
    "df_overlap = get_df_overlap(df_libraries, experiment_type_base = ExperimentType.ORACLE)\n",
    "\n",
    "fig = sns.barplot(\n",
    "    data=analyzer.format_dataframe_camera(df_overlap[df_overlap.experiment_type == ExperimentType.ORACLE]),\n",
    "    x=analyzer.COL_NAMES_CAMERA[\"batch_size\"],\n",
    "    y=\"overlap\",\n",
    "    hue=analyzer.COL_NAMES_CAMERA[\"experiment_type\"],\n",
    "    palette=analyzer.EXPERIMENT_TYPES_PALETTE,\n",
    ")\n",
    "\n",
    "fig = sns.barplot(\n",
    "    data=analyzer.format_dataframe_camera(df_overlap[df_overlap.experiment_type != ExperimentType.ORACLE]),\n",
    "    x=analyzer.COL_NAMES_CAMERA[\"batch_size\"],\n",
    "    y=\"overlap\",\n",
    "    hue=analyzer.COL_NAMES_CAMERA[\"experiment_type\"],\n",
    "    palette=analyzer.EXPERIMENT_TYPES_PALETTE,\n",
    ")\n",
    "sns.despine()\n",
    "\n",
    "fig.set_ylabel(\"Oracle inventions discovered\")\n",
    "\n",
    "lgd = plt.legend(bbox_to_anchor=(1.0, 1.0), loc=\"upper left\")\n",
    "# plt.savefig(os.path.join(FIGURES_DOMAIN_DIR, \"oracle_discovery_barplot.pdf\"), dpi=300, bbox_inches=\"tight\")"
   ]
  },
  {
   "cell_type": "code",
   "execution_count": null,
   "id": "0ef3de05-d1b9-4b5d-8c91-edb9c42ce0a9",
   "metadata": {},
   "outputs": [],
   "source": [
    "df_overlap = get_df_overlap(df_libraries, experiment_type_base = ExperimentType.STITCH, batch_size_base = 200)\n",
    "\n",
    "fig = sns.barplot(\n",
    "    data=analyzer.format_dataframe_camera(df_overlap),\n",
    "    x=analyzer.COL_NAMES_CAMERA[\"batch_size\"],\n",
    "    y=\"overlap\",\n",
    "    hue=analyzer.COL_NAMES_CAMERA[\"experiment_type\"],\n",
    "    palette=analyzer.EXPERIMENT_TYPES_PALETTE,\n",
    ")\n",
    "\n",
    "# fig = sns.barplot(\n",
    "#     data=analyzer.format_dataframe_camera(df_overlap[df_overlap.experiment_type != ExperimentType.STITCH]),\n",
    "#     x=analyzer.COL_NAMES_CAMERA[\"batch_size\"],\n",
    "#     y=\"overlap\",\n",
    "#     hue=analyzer.COL_NAMES_CAMERA[\"experiment_type\"],\n",
    "#     palette=analyzer.EXPERIMENT_TYPES_PALETTE,\n",
    "# )\n",
    "sns.despine()\n",
    "\n",
    "fig.set_ylabel(\"Stitch@200 inventions discovered\")\n",
    "\n",
    "lgd = plt.legend(bbox_to_anchor=(1.0, 1.0), loc=\"upper left\")\n",
    "plt.savefig(os.path.join(FIGURES_DOMAIN_DIR, \"oracle_discovery_barplot.pdf\"), dpi=300, bbox_inches=\"tight\")"
   ]
  },
  {
   "cell_type": "code",
   "execution_count": null,
   "id": "f06e66be-a334-44a7-bfff-aad0f61a778c",
   "metadata": {},
   "outputs": [],
   "source": [
    "fig = sns.lineplot(\n",
    "    data=analyzer.format_dataframe_camera(df_overlap),\n",
    "    x=analyzer.COL_NAMES_CAMERA[\"batch_size\"],\n",
    "    y=\"overlap\",\n",
    "    size=\"baseline\",\n",
    "    style=\"baseline\",\n",
    "    hue=analyzer.COL_NAMES_CAMERA[\"experiment_type\"],\n",
    "    palette=analyzer.EXPERIMENT_TYPES_PALETTE,\n",
    "    legend=True,\n",
    ")\n",
    "# fig.set(xscale=\"log\")\n",
    "plt.ylabel(\"Number of Oracle inventions discovered\")\n",
    "lgd = plt.legend(bbox_to_anchor=(1.0, 1.0), loc=\"upper left\", fontsize=14)\n",
    "plt.savefig(os.path.join(FIGURES_DOMAIN_DIR, \"oracle_discovery_rate.pdf\"), dpi=300, bbox_inches=\"tight\")"
   ]
  },
  {
   "cell_type": "code",
   "execution_count": null,
   "id": "66304dce-c517-44fc-8cec-92b926a3ecdf",
   "metadata": {},
   "outputs": [],
   "source": [
    "df_overlap = get_df_overlap(df_libraries, experiment_type_base = ExperimentType.ORACLE_TRAIN_TEST)\n",
    "\n",
    "fig = sns.barplot(\n",
    "    data=analyzer.format_dataframe_camera(df_overlap[df_overlap.experiment_type == ExperimentType.ORACLE_TRAIN_TEST]),\n",
    "    x=analyzer.COL_NAMES_CAMERA[\"batch_size\"],\n",
    "    y=\"overlap\",\n",
    "    hue=analyzer.COL_NAMES_CAMERA[\"experiment_type\"],\n",
    "    palette=analyzer.EXPERIMENT_TYPES_PALETTE,\n",
    ")\n",
    "\n",
    "fig = sns.barplot(\n",
    "    data=analyzer.format_dataframe_camera(df_overlap[~df_overlap.experiment_type.isin([ExperimentType.ORACLE_TRAIN_TEST, ExperimentType.ORACLE])]),\n",
    "    x=analyzer.COL_NAMES_CAMERA[\"batch_size\"],\n",
    "    y=\"overlap\",\n",
    "    hue=analyzer.COL_NAMES_CAMERA[\"experiment_type\"],\n",
    "    palette=analyzer.EXPERIMENT_TYPES_PALETTE,\n",
    ")\n",
    "sns.despine()\n",
    "\n",
    "fig.set_ylabel(\"Oracle inventions discovered\")\n",
    "\n",
    "lgd = plt.legend(bbox_to_anchor=(1.0, 1.0), loc=\"upper left\")\n",
    "plt.savefig(os.path.join(FIGURES_DOMAIN_DIR, \"oracle_discovery_barplot.pdf\"), dpi=300, bbox_inches=\"tight\")"
   ]
  },
  {
   "cell_type": "code",
   "execution_count": null,
   "id": "6ed6b0fc-6f69-450e-9b90-d5def6b87b05",
   "metadata": {},
   "outputs": [],
   "source": [
    "from matplotlib_venn import venn3"
   ]
  },
  {
   "cell_type": "code",
   "execution_count": null,
   "id": "70ede965-4800-4451-84df-e1f58c6e3a9e",
   "metadata": {},
   "outputs": [],
   "source": [
    "def make_venn3(\n",
    "    df_libraries,\n",
    "    codex_type=ExperimentType.STITCH_CODEX,\n",
    "    codex_seed=111,\n",
    "    stitch_type=ExperimentType.STITCH,\n",
    "    oracle_type=ExperimentType.ORACLE_TRAIN_TEST,\n",
    "):\n",
    "    fig = plt.figure(figsize=(20, 8))\n",
    "    i = 1\n",
    "    for batch_size, group in df_libraries.groupby(\"batch_size\"):\n",
    "        fns_stitch = set(group[group.experiment_type == stitch_type].dreamcoder)\n",
    "        fns_codex = set(\n",
    "            group[\n",
    "                (group.experiment_type == codex_type)\n",
    "                & (group.random_seed == codex_seed)\n",
    "            ].dreamcoder\n",
    "        )\n",
    "        fns_oracle = set(group[group.experiment_type == oracle_type].dreamcoder)\n",
    "        ax = fig.add_subplot(2, 4, i)\n",
    "        c = venn3(\n",
    "            [fns_stitch, fns_codex, fns_oracle],\n",
    "            # set_labels=(stitch_type.value, codex_type.value, oracle_type.value),\n",
    "            set_labels=(\"\", \"\", \"\"),\n",
    "        )\n",
    "        plt.title(\"Batch size: \" + str(batch_size), fontweight=\"bold\")\n",
    "        # plt.savefig(f\"library_venn_diagrams/venn3/batch_{int(batch_size):03d}.png\", dpi=144)\n",
    "\n",
    "        try:\n",
    "            c.get_patch_by_id(\"100\").set_color(analyzer.EXPERIMENT_TYPES_PALETTE[analyzer.EXPERIMENT_TYPES_CAMERA[stitch_type]])\n",
    "            c.get_patch_by_id(\"010\").set_color(analyzer.EXPERIMENT_TYPES_PALETTE[analyzer.EXPERIMENT_TYPES_CAMERA[codex_type]])\n",
    "            c.get_patch_by_id(\"001\").set_color(analyzer.EXPERIMENT_TYPES_PALETTE[analyzer.EXPERIMENT_TYPES_CAMERA[oracle_type]])\n",
    "        except:\n",
    "            pass\n",
    "\n",
    "        if i == 1:\n",
    "            plt.legend(\n",
    "                handles=[\n",
    "                    c.get_patch_by_id(\"100\"),\n",
    "                    c.get_patch_by_id(\"010\"),\n",
    "                    c.get_patch_by_id(\"001\"),\n",
    "                ],\n",
    "                labels=[analyzer.EXPERIMENT_TYPES_CAMERA[t] for t in [stitch_type.value, codex_type.value, oracle_type.value]],\n",
    "                fontsize=16,\n",
    "                bbox_to_anchor=(0.0, 1.5),\n",
    "                loc=\"lower left\",\n",
    "                ncol=3,\n",
    "            )\n",
    "\n",
    "        i += 1"
   ]
  },
  {
   "cell_type": "code",
   "execution_count": null,
   "id": "e790d913-c439-42bc-95e5-978260ca297c",
   "metadata": {},
   "outputs": [],
   "source": [
    "# make_venn3(df_libraries, codex_type=ExperimentType.STITCH_CODEX, codex_seed=111)\n",
    "make_venn3(df_libraries, codex_type=ExperimentType.STITCH_CODEX, codex_seed=111)\n",
    "plt.savefig(os.path.join(FIGURES_DOMAIN_DIR, \"invention_venn3.pdf\"), dpi=300, bbox_inches=\"tight\")"
   ]
  },
  {
   "cell_type": "code",
   "execution_count": null,
   "id": "de9fd2b6-86f9-4cb8-ad0a-2c9ef4e1258a",
   "metadata": {},
   "outputs": [],
   "source": []
  }
 ],
 "metadata": {
  "kernelspec": {
   "display_name": "Python 3 (ipykernel)",
   "language": "python",
   "name": "python3"
  },
  "language_info": {
   "codemirror_mode": {
    "name": "ipython",
    "version": 3
   },
   "file_extension": ".py",
   "mimetype": "text/x-python",
   "name": "python",
   "nbconvert_exporter": "python",
   "pygments_lexer": "ipython3",
   "version": "3.7.12"
  }
 },
 "nbformat": 4,
 "nbformat_minor": 5
}
