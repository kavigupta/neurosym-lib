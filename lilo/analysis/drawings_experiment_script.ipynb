{
 "cells": [
  {
   "cell_type": "code",
   "execution_count": null,
   "id": "d704e2c4-49ca-4380-9d0e-155170c9e1f7",
   "metadata": {},
   "outputs": [],
   "source": [
    "import sys\n",
    "\n",
    "sys.path.append(\"../\")"
   ]
  },
  {
   "cell_type": "code",
   "execution_count": null,
   "id": "a3196692-3f0e-41b8-bcd7-f161574d6284",
   "metadata": {},
   "outputs": [],
   "source": [
    "import json\n",
    "\n",
    "import data.drawings.make_tasks as drawing_tasks"
   ]
  },
  {
   "cell_type": "code",
   "execution_count": null,
   "id": "507d19f4-00ab-4ff1-8eac-4341840ba968",
   "metadata": {},
   "outputs": [],
   "source": [
    "RANDOM_SEEDS = [\"111\"]\n",
    "# RANDOM_SEEDS = [\"111\", \"222\", \"333\"]\n",
    "\n",
    "# EXPERIMENT_NAME = \"gg2_drawings\"\n",
    "# DOMAINS = [f\"drawings_{domain}\" for domain in drawing_tasks.TASK_DOMAINS]\n",
    "# DOMAINS = [DOMAINS[3]]\n",
    "\n",
    "EXPERIMENT_NAME = \"gg_laps_domains_dsl_descriptions\"\n",
    "DOMAINS = [\"re2\"]\n",
    "# DOMAINS = [\"clevr\"]\n",
    "\n",
    "FILENAME = f\"{EXPERIMENT_NAME}_{DOMAINS[0]}\" if (len(DOMAINS) == 1) else EXPERIMENT_NAME\n",
    "BASH_FILE = f\"../scripts/{FILENAME}.sh\"\n",
    "\n",
    "print(DOMAINS)\n",
    "print(BASH_FILE)"
   ]
  },
  {
   "cell_type": "code",
   "execution_count": null,
   "id": "bcb7a845-ea06-4d2b-90b0-edb366f93492",
   "metadata": {},
   "outputs": [],
   "source": [
    "EXPERIMENT_TYPES = [\n",
    "    \"stitch\",\n",
    "    \"oracle\",\n",
    "    # \"oracle_train_test\",\n",
    "    # \"stitch_codex\",\n",
    "    # \"stitch_codex_language\",\n",
    "    \"stitch_codex_language_origin_random_test\",\n",
    "    \"stitch_codex_dsl_description\",\n",
    "]\n",
    "print(EXPERIMENT_TYPES)"
   ]
  },
  {
   "cell_type": "code",
   "execution_count": null,
   "id": "34aa4020-c922-40fc-8935-d04f1c8b1930",
   "metadata": {},
   "outputs": [],
   "source": [
    "cmds = []\n",
    "for domain in DOMAINS:\n",
    "    for experiment_type in EXPERIMENT_TYPES:\n",
    "        cmd = (\n",
    "            f\"python run_iterative_experiment.py --experiment_name {EXPERIMENT_NAME} --domain {domain} --experiment_type {experiment_type} \"\n",
    "            + \"--stitch_params '{\\\"iterations\\\": 10}' \"\n",
    "        )\n",
    "        if \"codex\" in experiment_type:\n",
    "            seeds = RANDOM_SEEDS\n",
    "\n",
    "            codex_params = {\n",
    "                \"n_samples\": 50,\n",
    "                \"n_samples_per_query\": 5,\n",
    "                \"temperature\": 0.40,\n",
    "                \"max_tokens_completion_beta\": 4.0,\n",
    "            }\n",
    "\n",
    "            cmd += f\"--codex_params '{json.dumps(codex_params)}' \"\n",
    "            cmd += \"--use_cached \"\n",
    "        else:\n",
    "            seeds = [RANDOM_SEEDS[0]]\n",
    "\n",
    "        cmd += \"--no_likelihood \"\n",
    "        cmd += f\"--random_seeds {' '.join(seeds)} \"\n",
    "        cmd += \"\\n\"\n",
    "        cmds.append(cmd)\n",
    "\n",
    "print(cmds[0])"
   ]
  },
  {
   "cell_type": "code",
   "execution_count": null,
   "id": "b6d02405-0540-4911-8fac-27cd8acbdc0e",
   "metadata": {},
   "outputs": [],
   "source": [
    "with open(BASH_FILE, \"w\") as f:\n",
    "    f.writelines(cmds)"
   ]
  },
  {
   "cell_type": "code",
   "execution_count": null,
   "id": "bc0e0319-ebd7-4e7b-8fa0-d077fdf9790c",
   "metadata": {},
   "outputs": [],
   "source": []
  }
 ],
 "metadata": {
  "kernelspec": {
   "display_name": "Python 3 (ipykernel)",
   "language": "python",
   "name": "python3"
  },
  "language_info": {
   "codemirror_mode": {
    "name": "ipython",
    "version": 3
   },
   "file_extension": ".py",
   "mimetype": "text/x-python",
   "name": "python",
   "nbconvert_exporter": "python",
   "pygments_lexer": "ipython3",
   "version": "3.7.7"
  }
 },
 "nbformat": 4,
 "nbformat_minor": 5
}
