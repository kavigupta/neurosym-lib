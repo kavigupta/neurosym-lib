{
 "cells": [
  {
   "cell_type": "code",
   "execution_count": null,
   "id": "a5285f8b-7b08-4c03-a5dc-bf08293c7b39",
   "metadata": {},
   "outputs": [],
   "source": [
    "import sys\n",
    "\n",
    "sys.path.append(\"../\")"
   ]
  },
  {
   "cell_type": "code",
   "execution_count": null,
   "id": "73bad25f-b75e-4290-8c74-1ed7deb48c54",
   "metadata": {},
   "outputs": [],
   "source": [
    "%load_ext autoreload\n",
    "%autoreload 2"
   ]
  },
  {
   "cell_type": "code",
   "execution_count": null,
   "id": "cf378b7d-2e23-4346-a245-033274dd5e3a",
   "metadata": {},
   "outputs": [],
   "source": [
    "import os\n",
    "\n",
    "import data.drawings.make_tasks as drawing_tasks\n",
    "import pandas as pd\n",
    "import seaborn as sns\n",
    "from matplotlib import pyplot as plt\n",
    "from src.analysis_utilities import IterativeExperimentAnalyzer\n",
    "from src.config_builder import ExperimentType"
   ]
  },
  {
   "cell_type": "code",
   "execution_count": null,
   "id": "bdd76c88-a723-46bb-9734-519173f33fad",
   "metadata": {},
   "outputs": [],
   "source": [
    "%config InlineBackend.figure_format = 'retina'\n",
    "\n",
    "sns.set_theme(style=\"whitegrid\", font_scale=1.25)"
   ]
  },
  {
   "cell_type": "code",
   "execution_count": null,
   "id": "5a4f3795-b5fb-42e3-b019-a3afb92fef5d",
   "metadata": {},
   "outputs": [],
   "source": [
    "# EXPERIMENT_NAME = \"gg_drawings\"\n",
    "\n",
    "# DOMAIN_NAMES_CAMERA = {\n",
    "#     \"drawings_nuts_bolts\": \"nuts & bolts\",\n",
    "#     \"drawings_wheels\": \"vehicles\",\n",
    "#     \"drawings_dials\": \"gadgets\",\n",
    "#     \"drawings_furniture\": \"furniture\",\n",
    "# }"
   ]
  },
  {
   "cell_type": "code",
   "execution_count": null,
   "id": "fc0dc386-e54c-4271-88af-c4280cb26c43",
   "metadata": {},
   "outputs": [],
   "source": [
    "EXPERIMENT_NAME = \"gg_laps_domains\"\n",
    "\n",
    "DOMAIN_NAMES_CAMERA = {\n",
    "    # \"re2_no_other_util\": \"REGEX (--no-other-util)\",\n",
    "    \"re2\": \"REGEX\",\n",
    "    \"clevr\": \"CLEVR\",\n",
    "}"
   ]
  },
  {
   "cell_type": "code",
   "execution_count": null,
   "id": "fc8a4ab3-c00b-4892-8713-a5c4c8fd969d",
   "metadata": {},
   "outputs": [],
   "source": [
    "FIGURES_DIR = os.path.join(\"figures\", EXPERIMENT_NAME)\n",
    "os.makedirs(FIGURES_DIR, exist_ok=True)"
   ]
  },
  {
   "cell_type": "markdown",
   "id": "82d33715-5fd3-4570-89e7-681319490289",
   "metadata": {},
   "source": [
    "# Multi-domain analysis"
   ]
  },
  {
   "cell_type": "code",
   "execution_count": null,
   "id": "08207aeb-8829-43fb-93b6-c1367822846d",
   "metadata": {},
   "outputs": [],
   "source": [
    "analyzer = IterativeExperimentAnalyzer(\n",
    "    experiment_name=EXPERIMENT_NAME,\n",
    "    allow_incomplete_results=False,\n",
    ")"
   ]
  },
  {
   "cell_type": "code",
   "execution_count": null,
   "id": "567dbdd3-e9e8-4698-9b2f-274c0e875e24",
   "metadata": {},
   "outputs": [],
   "source": [
    "df_list = []\n",
    "for domain in DOMAIN_NAMES_CAMERA:\n",
    "    df = analyzer.get_results_for_domain(domain=domain)\n",
    "    df[\"domain\"] = DOMAIN_NAMES_CAMERA[domain]\n",
    "    df_list.append(df)\n",
    "df_domains = pd.concat(df_list, axis=0).reset_index(drop=True)"
   ]
  },
  {
   "cell_type": "code",
   "execution_count": null,
   "id": "be0e97d7-0f4e-48c8-ac6f-4fcac99f4cf7",
   "metadata": {},
   "outputs": [],
   "source": [
    "df_domains = analyzer.format_dataframe_camera(df_domains)\n",
    "\n",
    "g = sns.catplot(\n",
    "    data=df_domains,\n",
    "    x=analyzer.COL_NAMES_CAMERA[\"batch_size\"],\n",
    "    y=analyzer.COL_NAMES_CAMERA[\"description_length\"],\n",
    "    hue=analyzer.COL_NAMES_CAMERA[\"experiment_type\"],\n",
    "    col=\"domain\",\n",
    "    col_wrap=2,\n",
    "    kind=\"point\",\n",
    "    sharex=False,\n",
    "    sharey=False,\n",
    "    legend=False,\n",
    "    aspect=1.5,\n",
    "    palette=analyzer.EXPERIMENT_TYPES_PALETTE,\n",
    ")\n",
    "\n",
    "g.set_axis_labels(\n",
    "    analyzer.COL_NAMES_CAMERA[\"batch_size\"],\n",
    "    analyzer.COL_NAMES_CAMERA[\"description_length\"],\n",
    "    fontsize=14,\n",
    ")\n",
    "g.set_xticklabels(size=12)\n",
    "g.set_yticklabels(size=12)\n",
    "g.set_titles(col_template=\"{col_name}\", size=18)\n",
    "\n",
    "# lgd = plt.legend(bbox_to_anchor=(1.02, df_domains[\"domain\"].nunique() // 2 + 0.35), loc=\"upper left\", fontsize=20)\n",
    "lgd = plt.legend(bbox_to_anchor=(-1.3, -0.2), loc=\"upper left\", fontsize=20, ncol=3)\n",
    "\n",
    "\n",
    "plt.savefig(\n",
    "    os.path.join(FIGURES_DIR, f\"{EXPERIMENT_NAME}_results_camera.pdf\"),\n",
    "    dpi=300,\n",
    "    # bbox_extra_artists=(lgd,),\n",
    "    bbox_inches=\"tight\",\n",
    ")"
   ]
  },
  {
   "cell_type": "markdown",
   "id": "98754877-820f-4546-a886-67f18c76c2e9",
   "metadata": {},
   "source": [
    "# Programs"
   ]
  },
  {
   "cell_type": "code",
   "execution_count": null,
   "id": "0bf0aa1c-5e8d-4f4f-bc92-923ad1dc88fb",
   "metadata": {},
   "outputs": [],
   "source": [
    "df_codex_by_query = analyzer.get_codex_programs(use_results_by_query=True)"
   ]
  },
  {
   "cell_type": "code",
   "execution_count": null,
   "id": "4666ae04-58cb-4fb1-a220-4c1543d74954",
   "metadata": {},
   "outputs": [],
   "source": [
    "g = sns.catplot(\n",
    "    data=analyzer.format_dataframe_camera(df_codex_by_query).query(\"origin != 'train'\"),\n",
    "    kind=\"bar\",\n",
    "    col=\"domain\",\n",
    "    col_wrap=2,\n",
    "    x=analyzer.COL_NAMES_CAMERA[\"batch_size\"],\n",
    "    y=\"valid\",\n",
    "    hue=analyzer.COL_NAMES_CAMERA[\"experiment_type\"],\n",
    "    palette=analyzer.EXPERIMENT_TYPES_PALETTE,\n",
    "    sharex=False,\n",
    "    # sharey=False,\n",
    "    legend=False,\n",
    ")\n",
    "\n",
    "# g.set_xticklabels(size=12)\n",
    "# g.set_yticklabels(size=12)\n",
    "g.set_axis_labels(\n",
    "    analyzer.COL_NAMES_CAMERA[\"batch_size\"],\n",
    "    \"Valid sampled programs (%)\",\n",
    "    fontsize=14,\n",
    ")\n",
    "g.set_titles(col_template=\"{col_name}\", size=18)\n",
    "\n",
    "plt.ylim([0, 1])\n",
    "\n",
    "lgd = plt.legend(bbox_to_anchor=(-1.2, -0.2), loc=\"upper left\", fontsize=12, ncol=3)\n",
    "\n",
    "plt.savefig(\n",
    "    os.path.join(FIGURES_DIR, f\"{EXPERIMENT_NAME}_valid_camera.pdf\"),\n",
    "    dpi=300,\n",
    "    bbox_extra_artists=(lgd,),\n",
    "    bbox_inches=\"tight\",\n",
    ")"
   ]
  },
  {
   "cell_type": "code",
   "execution_count": null,
   "id": "d9ad0b2a-a2e3-402c-ac80-c6d13fe4ed4b",
   "metadata": {},
   "outputs": [],
   "source": [
    "df_codex = analyzer.get_codex_programs(use_results_by_query=True)\n",
    "df_codex.loc[df_codex[\"origin\"] == \"train\", \"experiment_type\"] = \"train\""
   ]
  },
  {
   "cell_type": "code",
   "execution_count": null,
   "id": "17b18e15-cf0a-4da8-8173-c34dbfe2ba00",
   "metadata": {},
   "outputs": [],
   "source": [
    "analyzer.EXPERIMENT_TYPES_PALETTE[\"train\"] = analyzer.EXPERIMENT_TYPES_PALETTE[ExperimentType.STITCH]\n",
    "\n",
    "g = sns.catplot(\n",
    "    kind=\"violin\",\n",
    "    col=\"domain\",\n",
    "    data=analyzer.format_dataframe_camera(df_codex),\n",
    "    x=analyzer.COL_NAMES_CAMERA[\"batch_size\"],\n",
    "    y=\"program_str_len\",\n",
    "    hue=analyzer.COL_NAMES_CAMERA[\"experiment_type\"],\n",
    "    palette=analyzer.EXPERIMENT_TYPES_PALETTE,\n",
    "    col_wrap=1,\n",
    "    aspect=4,\n",
    "    sharey=False,\n",
    "    sharex=False, # For laps_domains\n",
    "    legend=False,\n",
    "    scale=\"width\"\n",
    ");\n",
    "\n",
    "g.set_axis_labels(\n",
    "    analyzer.COL_NAMES_CAMERA[\"batch_size\"],\n",
    "    \"Program string length\",\n",
    "    fontsize=18,\n",
    ")\n",
    "g.set_titles(col_template=\"{col_name}\", size=24)\n",
    "\n",
    "lgd = plt.legend(bbox_to_anchor=(0, -0.2), loc=\"upper left\", fontsize=20, ncol=4)\n",
    "\n",
    "plt.savefig(\n",
    "    os.path.join(FIGURES_DIR, f\"{EXPERIMENT_NAME}_string_length_camera.pdf\"),\n",
    "    dpi=300,\n",
    "    bbox_extra_artists=(lgd,),\n",
    "    bbox_inches=\"tight\",\n",
    ")"
   ]
  },
  {
   "cell_type": "code",
   "execution_count": null,
   "id": "b8f658c6-2568-4ea5-8eeb-f353ecb36239",
   "metadata": {},
   "outputs": [],
   "source": [
    "# NOTE(gg): Not sure why, but using data from the results_by_query produces numbers that do not track with \n",
    "# the actual results. I think this has something to do with how we dedup. In any case, the correct version\n",
    "# of this plot is below, using the OVERALL results.\n",
    "\n",
    "# # Darken each color in the palette\n",
    "# from PIL import ImageColor\n",
    "\n",
    "# DARKEN_RATIO = 0.6\n",
    "# PALLETE_DARKENED = {\n",
    "#     \"_\" + k: tuple(r * DARKEN_RATIO * 1 / 256 for r in ImageColor.getcolor(hex_str, \"RGB\"))\n",
    "#     for k, hex_str in analyzer.EXPERIMENT_TYPES_PALETTE.items()\n",
    "# }\n",
    "\n",
    "# fig, ax = plt.subplots(2, 2, figsize=(12, 8))\n",
    "# ax = ax.flatten()\n",
    "\n",
    "# for i, domain in enumerate(DOMAIN_NAMES_CAMERA):\n",
    "#     df_unique_counts = (\n",
    "#         df_codex_by_query[(df_codex_by_query[\"domain\"] == domain) & (df_codex_by_query[\"origin\"] == \"codex\")]\n",
    "#         .drop_duplicates(subset=[\"program\"])\n",
    "#         .groupby([\"experiment_type\", \"batch_size\", \"seed\"])\n",
    "#         .sum()\n",
    "#         .reset_index()\n",
    "#     )\n",
    "\n",
    "#     g1 = sns.barplot(\n",
    "#         ax=ax[i],\n",
    "#         data=analyzer.format_dataframe_camera(df_unique_counts),\n",
    "#         x=analyzer.COL_NAMES_CAMERA[\"batch_size\"],\n",
    "#         y=\"valid\",\n",
    "#         hue=analyzer.COL_NAMES_CAMERA[\"experiment_type\"],\n",
    "#         palette=analyzer.EXPERIMENT_TYPES_PALETTE,\n",
    "#     )\n",
    "#     sns.despine()\n",
    "#     g1.legend_.remove()\n",
    "\n",
    "#     df_unique_counts2 = analyzer.format_dataframe_camera(df_unique_counts)\n",
    "#     df_unique_counts2[analyzer.COL_NAMES_CAMERA[\"experiment_type\"]] = \"_\" + df_unique_counts2[analyzer.COL_NAMES_CAMERA[\"experiment_type\"]]\n",
    "    \n",
    "#     g2 = sns.barplot(\n",
    "#         ax=ax[i],\n",
    "#         data=df_unique_counts2,\n",
    "#         x=analyzer.COL_NAMES_CAMERA[\"batch_size\"],\n",
    "#         y=\"match_train\",\n",
    "#         hue=analyzer.COL_NAMES_CAMERA[\"experiment_type\"],\n",
    "#         palette=PALLETE_DARKENED,\n",
    "#         errwidth=2,\n",
    "#     )\n",
    "#     sns.despine()\n",
    "#     g2.legend_.remove()\n",
    "\n",
    "#     g1.set_title(analyzer.DOMAIN_NAMES_CAMERA[domain])\n",
    "#     g1.set_ylabel(\"Unique programs sampled\")\n",
    "    \n",
    "#     # g1.set_ylim([0, 50])\n",
    "#     # g2.set_ylim([0, 50])\n",
    "\n",
    "# plt.subplots_adjust(hspace=0.4)\n",
    "# lgd = g1.legend(bbox_to_anchor=(-1.3, -0.3), loc=\"upper left\", fontsize=12, ncol=3)"
   ]
  },
  {
   "cell_type": "markdown",
   "id": "09735116-ed5f-4db7-b6aa-02a7747c7919",
   "metadata": {},
   "source": [
    "# Using the OVERALL results"
   ]
  },
  {
   "cell_type": "code",
   "execution_count": null,
   "id": "6c454677-d862-448e-952b-ff4011d24a44",
   "metadata": {},
   "outputs": [],
   "source": [
    "df_codex = analyzer.get_codex_programs(use_results_by_query=False)"
   ]
  },
  {
   "cell_type": "code",
   "execution_count": null,
   "id": "7a8d2a70-acfa-440d-93c1-6073e37b98ca",
   "metadata": {},
   "outputs": [],
   "source": [
    "df_codex"
   ]
  },
  {
   "cell_type": "code",
   "execution_count": null,
   "id": "166f1e93-37a0-413e-9927-6d5fee77b4e5",
   "metadata": {},
   "outputs": [],
   "source": [
    "df_codex.valid.isnull().any()"
   ]
  },
  {
   "cell_type": "code",
   "execution_count": null,
   "id": "307a080a-b84b-4596-9fb5-33bf0cbc9739",
   "metadata": {},
   "outputs": [],
   "source": [
    "df_codex[\"match_prompt\"].value_counts()"
   ]
  },
  {
   "cell_type": "code",
   "execution_count": null,
   "id": "0b43e3bb-57b0-4349-9be2-ef58e977c81b",
   "metadata": {},
   "outputs": [],
   "source": [
    "for info, df_group in df_codex.groupby([\"domain\", \"experiment_type\", \"batch_size\", \"random_seed\"]):\n",
    "    if df_group.duplicated(subset=[\"hash\"]).any():\n",
    "        raise ValueError(info)"
   ]
  },
  {
   "cell_type": "code",
   "execution_count": null,
   "id": "aeb003da-deca-4ad9-987e-4bf32ac1f966",
   "metadata": {},
   "outputs": [],
   "source": [
    "# Darken each color in the palette\n",
    "from PIL import ImageColor\n",
    "\n",
    "DARKEN_RATIO = 0.6\n",
    "PALLETE_DARKENED = {\n",
    "    \"_\" + k: tuple(r * DARKEN_RATIO * 1 / 256 for r in ImageColor.getcolor(hex_str, \"RGB\"))\n",
    "    for k, hex_str in analyzer.EXPERIMENT_TYPES_PALETTE.items()\n",
    "}\n",
    "\n",
    "fig, ax = plt.subplots(len(DOMAIN_NAMES_CAMERA) // 2, 2, figsize=(12, 2 * len(DOMAIN_NAMES_CAMERA)))\n",
    "ax = ax.flatten()\n",
    "\n",
    "for i, domain in enumerate(DOMAIN_NAMES_CAMERA):\n",
    "    df_unique_counts = (\n",
    "        df_codex[(df_codex[\"domain\"] == domain)]\n",
    "        .groupby([\"experiment_type\", \"batch_size\", \"random_seed\"])\n",
    "        [[\"valid\", \"match_prompt\"]]\n",
    "        .sum()\n",
    "        .reset_index()\n",
    "    )\n",
    "\n",
    "    g1 = sns.barplot(\n",
    "        ax=ax[i],\n",
    "        data=analyzer.format_dataframe_camera(df_unique_counts),\n",
    "        x=analyzer.COL_NAMES_CAMERA[\"batch_size\"],\n",
    "        y=\"valid\",\n",
    "        hue=analyzer.COL_NAMES_CAMERA[\"experiment_type\"],\n",
    "        palette=analyzer.EXPERIMENT_TYPES_PALETTE,\n",
    "    )\n",
    "    sns.despine()\n",
    "    g1.legend_.remove()\n",
    "\n",
    "    df_unique_counts2 = analyzer.format_dataframe_camera(df_unique_counts)\n",
    "    df_unique_counts2[analyzer.COL_NAMES_CAMERA[\"experiment_type\"]] = \"_\" + df_unique_counts2[analyzer.COL_NAMES_CAMERA[\"experiment_type\"]]\n",
    "    \n",
    "    g2 = sns.barplot(\n",
    "        ax=ax[i],\n",
    "        data=df_unique_counts2,\n",
    "        x=analyzer.COL_NAMES_CAMERA[\"batch_size\"],\n",
    "        y=\"match_prompt\",\n",
    "        hue=analyzer.COL_NAMES_CAMERA[\"experiment_type\"],\n",
    "        palette=PALLETE_DARKENED,\n",
    "        errwidth=2,\n",
    "    )\n",
    "    sns.despine()\n",
    "    g2.legend_.remove()\n",
    "\n",
    "    g1.set_title(analyzer.DOMAIN_NAMES_CAMERA[domain])\n",
    "    g1.set_ylabel(\"Number of unique programs\")\n",
    "    \n",
    "    g1.set_ylim([0, 50])\n",
    "    g2.set_ylim([0, 50])\n",
    "\n",
    "plt.subplots_adjust(hspace=0.4)\n",
    "lgd = g1.legend(bbox_to_anchor=(-1.3, -0.3), loc=\"upper left\", fontsize=12, ncol=3)\n",
    "\n",
    "plt.savefig(\n",
    "    os.path.join(FIGURES_DIR, f\"{EXPERIMENT_NAME}_unique_camera.pdf\"),\n",
    "    dpi=300,\n",
    "    bbox_extra_artists=(lgd,),\n",
    "    bbox_inches=\"tight\",\n",
    ")"
   ]
  },
  {
   "cell_type": "code",
   "execution_count": null,
   "id": "1057eb3a-ffaa-42cd-a68c-db0f8b471450",
   "metadata": {},
   "outputs": [],
   "source": [
    "df_unique_counts"
   ]
  },
  {
   "cell_type": "code",
   "execution_count": null,
   "id": "7d752695-f671-4637-8590-1916fc442f3e",
   "metadata": {},
   "outputs": [],
   "source": []
  },
  {
   "cell_type": "code",
   "execution_count": null,
   "id": "1ab075b3-2344-407b-83ac-928cb72f3673",
   "metadata": {},
   "outputs": [],
   "source": []
  },
  {
   "cell_type": "code",
   "execution_count": null,
   "id": "55c1dfad-ec6e-4739-8c16-34e5a9716cb8",
   "metadata": {},
   "outputs": [],
   "source": []
  }
 ],
 "metadata": {
  "kernelspec": {
   "display_name": "Python 3 (ipykernel)",
   "language": "python",
   "name": "python3"
  },
  "language_info": {
   "codemirror_mode": {
    "name": "ipython",
    "version": 3
   },
   "file_extension": ".py",
   "mimetype": "text/x-python",
   "name": "python",
   "nbconvert_exporter": "python",
   "pygments_lexer": "ipython3",
   "version": "3.7.12"
  }
 },
 "nbformat": 4,
 "nbformat_minor": 5
}
