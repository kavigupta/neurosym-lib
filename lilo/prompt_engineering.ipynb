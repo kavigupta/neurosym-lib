{
 "cells": [
  {
   "cell_type": "code",
   "execution_count": 1,
   "id": "f7ebbe5c-e2f0-4c6f-9ac5-3a05a8c72c95",
   "metadata": {
    "tags": []
   },
   "outputs": [],
   "source": [
    "import sys\n",
    "\n",
    "sys.path.append(\"../\")"
   ]
  },
  {
   "cell_type": "code",
   "execution_count": 2,
   "id": "8cff7288-a884-4778-849e-6a7512613b8e",
   "metadata": {
    "tags": []
   },
   "outputs": [],
   "source": [
    "%load_ext autoreload\n",
    "%autoreload 2"
   ]
  },
  {
   "cell_type": "code",
   "execution_count": 3,
   "id": "8d16aadc-e364-448c-94a5-ad0c410e1935",
   "metadata": {},
   "outputs": [
    {
     "name": "stderr",
     "output_type": "stream",
     "text": [
      "/opt/conda/envs/laps/lib/python3.7/site-packages/tqdm/auto.py:21: TqdmWarning: IProgress not found. Please update jupyter and ipywidgets. See https://ipywidgets.readthedocs.io/en/stable/user_install.html\n",
      "  from .autonotebook import tqdm as notebook_tqdm\n"
     ]
    }
   ],
   "source": [
    "import os\n",
    "\n",
    "import pandas as pd\n",
    "import seaborn as sns\n",
    "from matplotlib import pyplot as plt\n",
    "\n",
    "from src.models.gpt_base import Prompt, BasePrompt\n",
    "from src.models.test_sample_generator import get_sample_generator_and_state, get_train_task_ids\n",
    "\n",
    "from src.task_loaders import *"
   ]
  },
  {
   "cell_type": "code",
   "execution_count": 4,
   "id": "16143a42-b7dd-4e1a-b61a-a25c5502794b",
   "metadata": {
    "tags": []
   },
   "outputs": [],
   "source": [
    "sample_generator, experiment_state = get_sample_generator_and_state()\n",
    "task_ids = get_train_task_ids(experiment_state, n_task_ids=20)\n",
    "n_samples_per_query = 10\n",
    "prompt = Prompt(\n",
    "    experiment_state=experiment_state,\n",
    "    body_task_ids=task_ids[TRAIN][:-1],\n",
    "    final_task_id=task_ids[TRAIN][-1],\n",
    "    prepend_dsl_description=True,\n",
    ")"
   ]
  },
  {
   "cell_type": "code",
   "execution_count": 18,
   "id": "cf7dcbdc-a3de-4818-914e-69e4187d726c",
   "metadata": {
    "tags": []
   },
   "outputs": [],
   "source": [
    "experiment_state.models[\"grammar\"].set_function_description(\"logo_UA\", \"foo\")"
   ]
  },
  {
   "cell_type": "code",
   "execution_count": 19,
   "id": "35504e58-f9f7-4275-b72f-addccddd473a",
   "metadata": {
    "tags": []
   },
   "outputs": [
    {
     "name": "stdout",
     "output_type": "stream",
     "text": [
      "Write programs using the available functions:\n",
      "\n",
      "logo_unit_angle :: tangle\n",
      "description: foo\n",
      "\n",
      "logo_unit_line :: tlength\n",
      "\n",
      "logo_zero_angle :: tangle\n",
      "\n",
      "logo_zero_line :: tlength\n",
      "\n",
      "logo_divide_angle :: tangle -> int -> tangle\n",
      "\n",
      "logo_multiply_angle :: tangle -> int -> tangle\n",
      "\n",
      "logo_divide_line :: tlength -> int -> tlength\n",
      "\n",
      "logo_multiply_line :: tlength -> int -> tlength\n",
      "\n",
      "logo_add_angles :: tangle -> tangle -> tangle\n",
      "\n",
      "logo_subtract_angles :: tangle -> tangle -> tangle\n",
      "\n",
      "logo_lift_pen :: (turtle -> turtle) -> turtle -> turtle\n",
      "\n",
      "logo_move_pen_forward_rotate :: tlength -> tangle -> turtle -> turtle\n",
      "\n",
      "logo_get_set_function_pen :: (turtle -> turtle) -> turtle -> turtle\n",
      "\n",
      "logo_IFTY :: int\n",
      "\n",
      "logo_epsilon_angle :: tangle\n",
      "\n",
      "logo_epsilon_line :: tlength\n",
      "\n",
      "logo_for_loop :: int -> (int -> turtle -> turtle) -> turtle -> turtle\n",
      "\n",
      "0 :: int\n",
      "\n",
      "1 :: int\n",
      "\n",
      "2 :: int\n",
      "\n",
      "3 :: int\n",
      "\n",
      "4 :: int\n",
      "\n",
      "5 :: int\n",
      "\n",
      "6 :: int\n",
      "\n",
      "7 :: int\n",
      "\n",
      "8 :: int\n",
      "\n",
      "9 :: int\n",
      "\n",
      "\n"
     ]
    }
   ],
   "source": [
    "print(prompt._get_dsl_description())"
   ]
  },
  {
   "cell_type": "code",
   "execution_count": 20,
   "id": "eca12e03-34cb-40f5-9e1e-1c3365982d1c",
   "metadata": {
    "tags": []
   },
   "outputs": [
    {
     "data": {
      "text/plain": [
       "[{'role': 'user',\n",
       "  'content': 'Write programs using the available functions:\\n- 0\\n- 1\\n- 2\\n- 3\\n- 4\\n- 5\\n- 6\\n- 7\\n- 8\\n- 9\\n- logo_IFTY\\n- logo_for_loop\\n- logo_lift_pen\\n- logo_unit_line\\n- logo_zero_line\\n- logo_add_angles\\n- logo_unit_angle\\n- logo_zero_angle\\n- logo_divide_line\\n- logo_divide_angle\\n- logo_epsilon_line\\n- logo_epsilon_angle\\n- logo_multiply_line\\n- logo_multiply_angle\\n- logo_subtract_angles\\n- logo_get_set_function_pen\\n- logo_move_pen_forward_rotate\\n'},\n",
       " {'role': 'user', 'content': 'Here are some example programs:'},\n",
       " {'role': 'user', 'content': '-- small triangle'},\n",
       " {'role': 'assistant',\n",
       "  'content': '(lambda (logo_for_loop 3 (lambda (lambda (logo_move_pen_forward_rotate (logo_multiply_line logo_unit_line 1) (logo_divide_angle logo_unit_angle 3) $0))) $0))'},\n",
       " {'role': 'user', 'content': '-- triangles'},\n",
       " {'role': 'assistant',\n",
       "  'content': '(lambda (logo_for_loop 3 (lambda (lambda (logo_move_pen_forward_rotate (logo_multiply_line logo_unit_line 2) (logo_divide_angle logo_unit_angle 3) $0))) $0))'},\n",
       " {'role': 'user', 'content': '-- 1 large 8 gon in center of page'},\n",
       " {'role': 'assistant',\n",
       "  'content': '(lambda (logo_for_loop 8 (lambda (lambda (logo_move_pen_forward_rotate (logo_multiply_line logo_unit_line 1) (logo_divide_angle logo_unit_angle 8) $0))) $0))'},\n",
       " {'role': 'user', 'content': '-- a large nonagon next to a medium square'},\n",
       " {'role': 'assistant',\n",
       "  'content': '(lambda (logo_for_loop 9 (lambda (lambda (logo_move_pen_forward_rotate (logo_multiply_line logo_unit_line 1) (logo_divide_angle logo_unit_angle 9) $0))) (logo_lift_pen (lambda (logo_move_pen_forward_rotate (logo_multiply_line logo_unit_line 2) logo_zero_angle $0)) (logo_for_loop 4 (lambda (lambda (logo_move_pen_forward_rotate (logo_multiply_line logo_unit_line 2) (logo_divide_angle logo_unit_angle 4) $0))) $0))))'},\n",
       " {'role': 'user', 'content': '-- nested square'},\n",
       " {'role': 'assistant',\n",
       "  'content': '(lambda (logo_for_loop 5 (lambda (lambda (logo_get_set_function_pen (lambda (logo_for_loop 4 (lambda (lambda (logo_move_pen_forward_rotate (logo_multiply_line logo_unit_line $4) (logo_divide_angle logo_unit_angle 4) $0))) $0)) $0))) $0))'},\n",
       " {'role': 'user', 'content': '-- 4 nested small square s'},\n",
       " {'role': 'assistant',\n",
       "  'content': '(lambda (logo_for_loop 5 (lambda (lambda (logo_get_set_function_pen (lambda (logo_for_loop 4 (lambda (lambda (logo_move_pen_forward_rotate (logo_multiply_line logo_unit_line $4) (logo_divide_angle logo_unit_angle 4) $0))) $0)) $0))) $0))'},\n",
       " {'role': 'user',\n",
       "  'content': '-- ring of 7 overlapped circle s surrounded by 7 5 gon s'},\n",
       " {'role': 'assistant',\n",
       "  'content': '(lambda (logo_for_loop 7 (lambda (lambda (logo_get_set_function_pen (lambda (logo_lift_pen (lambda (logo_move_pen_forward_rotate logo_unit_line logo_zero_angle $0)) (logo_for_loop logo_IFTY (lambda (lambda (logo_move_pen_forward_rotate (logo_multiply_line logo_epsilon_line 2) logo_epsilon_angle $0))) (logo_for_loop logo_IFTY (lambda (lambda (logo_move_pen_forward_rotate (logo_multiply_line logo_epsilon_line 2) logo_epsilon_angle $0))) (logo_lift_pen (lambda (logo_move_pen_forward_rotate logo_unit_line logo_zero_angle $0)) (logo_for_loop 5 (lambda (lambda (logo_move_pen_forward_rotate (logo_multiply_line logo_unit_line 1) (logo_divide_angle logo_unit_angle 5) $0))) $0)))))) (logo_move_pen_forward_rotate logo_zero_line (logo_divide_angle logo_unit_angle 7) $0)))) $0))'},\n",
       " {'role': 'user', 'content': '-- a small dash and a medium 6 gon'},\n",
       " {'role': 'assistant',\n",
       "  'content': '(lambda (logo_move_pen_forward_rotate logo_unit_line logo_zero_angle (logo_lift_pen (lambda (logo_move_pen_forward_rotate (logo_multiply_line logo_unit_line 2) logo_zero_angle $0)) (logo_for_loop 6 (lambda (lambda (logo_move_pen_forward_rotate (logo_multiply_line logo_unit_line 1) (logo_divide_angle logo_unit_angle 6) $0))) $0))))'},\n",
       " {'role': 'user', 'content': '-- line art'},\n",
       " {'role': 'assistant',\n",
       "  'content': '(lambda (logo_for_loop 6 (lambda (lambda (logo_get_set_function_pen (lambda (logo_move_pen_forward_rotate (logo_multiply_line logo_unit_line 1) logo_zero_angle (logo_for_loop logo_IFTY (lambda (lambda (logo_move_pen_forward_rotate (logo_multiply_line logo_epsilon_line 1) logo_epsilon_angle $0))) $0))) (logo_move_pen_forward_rotate logo_zero_line (logo_divide_angle logo_unit_angle 6) $0)))) $0))'},\n",
       " {'role': 'user', 'content': '-- 6 pentagon s in a row'},\n",
       " {'role': 'assistant',\n",
       "  'content': '(lambda (logo_for_loop 6 (lambda (lambda (logo_get_set_function_pen (lambda (logo_for_loop 5 (lambda (lambda (logo_move_pen_forward_rotate (logo_multiply_line logo_unit_line 1) (logo_divide_angle logo_unit_angle 5) $0))) $0)) (logo_lift_pen (lambda (logo_move_pen_forward_rotate logo_unit_line logo_zero_angle $0)) $0)))) $0))'},\n",
       " {'role': 'user',\n",
       "  'content': '-- 3 lined snowflake pattern connected at a point in center 3 smallmedium square s on each line at ends'},\n",
       " {'role': 'assistant',\n",
       "  'content': '(lambda (logo_for_loop 3 (lambda (lambda (logo_get_set_function_pen (lambda (logo_move_pen_forward_rotate (logo_multiply_line logo_unit_line 1) logo_zero_angle (logo_for_loop 4 (lambda (lambda (logo_move_pen_forward_rotate (logo_multiply_line logo_unit_line 1) (logo_divide_angle logo_unit_angle 4) $0))) $0))) (logo_move_pen_forward_rotate logo_zero_line (logo_divide_angle logo_unit_angle 3) $0)))) $0))'},\n",
       " {'role': 'user', 'content': '-- flower with hexagon s'},\n",
       " {'role': 'assistant',\n",
       "  'content': '(lambda (logo_for_loop 6 (lambda (lambda (logo_get_set_function_pen (lambda (logo_lift_pen (lambda (logo_move_pen_forward_rotate logo_unit_line logo_zero_angle $0)) (logo_for_loop 5 (lambda (lambda (logo_move_pen_forward_rotate (logo_multiply_line logo_unit_line 1) (logo_divide_angle logo_unit_angle 5) $0))) (logo_lift_pen (lambda (logo_move_pen_forward_rotate logo_unit_line logo_zero_angle $0)) (logo_move_pen_forward_rotate logo_unit_line logo_zero_angle $0))))) (logo_move_pen_forward_rotate logo_zero_line (logo_divide_angle logo_unit_angle 6) $0)))) $0))'},\n",
       " {'role': 'user', 'content': '-- 3 disjoint lines'},\n",
       " {'role': 'assistant',\n",
       "  'content': '(lambda (logo_for_loop 3 (lambda (lambda (logo_get_set_function_pen (lambda (logo_lift_pen (lambda (logo_move_pen_forward_rotate logo_unit_line logo_zero_angle $0)) (logo_move_pen_forward_rotate logo_unit_line logo_zero_angle (logo_lift_pen (lambda (logo_move_pen_forward_rotate logo_unit_line logo_zero_angle $0)) (logo_move_pen_forward_rotate logo_unit_line logo_zero_angle $0))))) (logo_move_pen_forward_rotate logo_zero_line (logo_divide_angle logo_unit_angle 3) $0)))) $0))'},\n",
       " {'role': 'user', 'content': '-- octogon'},\n",
       " {'role': 'assistant',\n",
       "  'content': '(lambda (logo_for_loop 8 (lambda (lambda (logo_move_pen_forward_rotate (logo_multiply_line logo_unit_line 2) (logo_divide_angle logo_unit_angle 8) $0))) $0))'},\n",
       " {'role': 'user', 'content': '-- 4 medium semicircle s in a row'},\n",
       " {'role': 'assistant',\n",
       "  'content': '(lambda (logo_for_loop 4 (lambda (lambda (logo_get_set_function_pen (lambda (logo_for_loop logo_IFTY (lambda (lambda (logo_move_pen_forward_rotate (logo_multiply_line logo_epsilon_line 2) logo_epsilon_angle $0))) $0)) (logo_lift_pen (lambda (logo_move_pen_forward_rotate logo_unit_line logo_zero_angle $0)) $0)))) $0))'},\n",
       " {'role': 'user',\n",
       "  'content': '-- a small circle connected at the bottom to a line connected to a small semi circle'},\n",
       " {'role': 'assistant',\n",
       "  'content': '(lambda (logo_for_loop logo_IFTY (lambda (lambda (logo_move_pen_forward_rotate (logo_multiply_line logo_epsilon_line 1) logo_epsilon_angle $0))) (logo_for_loop logo_IFTY (lambda (lambda (logo_move_pen_forward_rotate (logo_multiply_line logo_epsilon_line 1) logo_epsilon_angle $0))) (logo_move_pen_forward_rotate (logo_multiply_line logo_unit_line 5) logo_zero_angle (logo_for_loop logo_IFTY (lambda (lambda (logo_move_pen_forward_rotate (logo_multiply_line logo_epsilon_line 1) logo_epsilon_angle $0))) $0)))))'},\n",
       " {'role': 'user', 'content': '-- i big pentagon and 1 small pentagon inside'},\n",
       " {'role': 'assistant',\n",
       "  'content': '(lambda (logo_for_loop 5 (lambda (lambda (logo_move_pen_forward_rotate (logo_multiply_line logo_unit_line 2) (logo_divide_angle logo_unit_angle 5) $0))) (logo_lift_pen (lambda (logo_move_pen_forward_rotate (logo_multiply_line logo_unit_line 2) logo_zero_angle $0)) (logo_for_loop 5 (lambda (lambda (logo_move_pen_forward_rotate (logo_multiply_line logo_unit_line 1) (logo_divide_angle logo_unit_angle 5) $0))) $0))))'},\n",
       " {'role': 'user',\n",
       "  'content': '-- a 6 sided gon that is divided into 6 triangles on the inside'},\n",
       " {'role': 'assistant',\n",
       "  'content': '(lambda (logo_for_loop 6 (lambda (lambda (logo_get_set_function_pen (lambda (logo_for_loop 3 (lambda (lambda (logo_move_pen_forward_rotate (logo_multiply_line logo_unit_line 1) (logo_divide_angle logo_unit_angle 3) $0))) $0)) (logo_move_pen_forward_rotate logo_zero_line (logo_divide_angle logo_unit_angle 6) $0)))) $0))'},\n",
       " {'role': 'user', 'content': '-- octagon fiolled with 9 balck sied'},\n",
       " {'role': 'assistant',\n",
       "  'content': '(lambda (logo_for_loop 8 (lambda (lambda (logo_get_set_function_pen (lambda (logo_for_loop 3 (lambda (lambda (logo_move_pen_forward_rotate (logo_multiply_line logo_unit_line 1) (logo_divide_angle logo_unit_angle 3) $0))) $0)) (logo_move_pen_forward_rotate logo_zero_line (logo_divide_angle logo_unit_angle 8) $0)))) $0))'},\n",
       " {'role': 'user', 'content': '-- 7 slices forming a circular formation'}]"
      ]
     },
     "execution_count": 20,
     "metadata": {},
     "output_type": "execute_result"
    }
   ],
   "source": [
    "prompt.to_message_list()"
   ]
  },
  {
   "cell_type": "code",
   "execution_count": 6,
   "id": "48250e2a-e905-4f1f-aace-75f7413d274f",
   "metadata": {},
   "outputs": [
    {
     "name": "stdout",
     "output_type": "stream",
     "text": [
      "Write programs using the available functions:\n",
      "- 0\n",
      "- 1\n",
      "- 2\n",
      "- 3\n",
      "- 4\n",
      "- 5\n",
      "- 6\n",
      "- 7\n",
      "- 8\n",
      "- 9\n",
      "- logo_PT\n",
      "- logo_UA\n",
      "- logo_UL\n",
      "- logo_ZA\n",
      "- logo_ZL\n",
      "- logo_ADDA\n",
      "- logo_DIVA\n",
      "- logo_DIVL\n",
      "- logo_FWRT\n",
      "- logo_IFTY\n",
      "- logo_MULA\n",
      "- logo_MULL\n",
      "- logo_SUBA\n",
      "- logo_epsA\n",
      "- logo_epsL\n",
      "- logo_GETSET\n",
      "- logo_forLoop\n",
      "\n",
      "Here are some example programs:\n",
      "-- small triangle\n",
      "(lambda (logo_forLoop 3 (lambda (lambda (logo_FWRT (logo_MULL logo_UL 1) (logo_DIVA logo_UA 3) $0))) $0))\n",
      "-- triangles\n",
      "(lambda (logo_forLoop 3 (lambda (lambda (logo_FWRT (logo_MULL logo_UL 2) (logo_DIVA logo_UA 3) $0))) $0))\n",
      "-- 1 large 8 gon in center of page\n",
      "(lambda (logo_forLoop 8 (lambda (lambda (logo_FWRT (logo_MULL logo_UL 1) (logo_DIVA logo_UA 8) $0))) $0))\n",
      "-- a large nonagon next to a medium square\n",
      "(lambda (logo_forLoop 9 (lambda (lambda (logo_FWRT (logo_MULL logo_UL 1) (logo_DIVA logo_UA 9) $0))) (logo_PT (lambda (logo_FWRT (logo_MULL logo_UL 2) logo_ZA $0)) (logo_forLoop 4 (lambda (lambda (logo_FWRT (logo_MULL logo_UL 2) (logo_DIVA logo_UA 4) $0))) $0))))\n",
      "-- nested square\n",
      "(lambda (logo_forLoop 5 (lambda (lambda (logo_GETSET (lambda (logo_forLoop 4 (lambda (lambda (logo_FWRT (logo_MULL logo_UL $4) (logo_DIVA logo_UA 4) $0))) $0)) $0))) $0))\n",
      "-- 4 nested small square s\n",
      "(lambda (logo_forLoop 5 (lambda (lambda (logo_GETSET (lambda (logo_forLoop 4 (lambda (lambda (logo_FWRT (logo_MULL logo_UL $4) (logo_DIVA logo_UA 4) $0))) $0)) $0))) $0))\n",
      "-- ring of 7 overlapped circle s surrounded by 7 5 gon s\n",
      "(lambda (logo_forLoop 7 (lambda (lambda (logo_GETSET (lambda (logo_PT (lambda (logo_FWRT logo_UL logo_ZA $0)) (logo_forLoop logo_IFTY (lambda (lambda (logo_FWRT (logo_MULL logo_epsL 2) logo_epsA $0))) (logo_forLoop logo_IFTY (lambda (lambda (logo_FWRT (logo_MULL logo_epsL 2) logo_epsA $0))) (logo_PT (lambda (logo_FWRT logo_UL logo_ZA $0)) (logo_forLoop 5 (lambda (lambda (logo_FWRT (logo_MULL logo_UL 1) (logo_DIVA logo_UA 5) $0))) $0)))))) (logo_FWRT logo_ZL (logo_DIVA logo_UA 7) $0)))) $0))\n",
      "-- a small dash and a medium 6 gon\n",
      "(lambda (logo_FWRT logo_UL logo_ZA (logo_PT (lambda (logo_FWRT (logo_MULL logo_UL 2) logo_ZA $0)) (logo_forLoop 6 (lambda (lambda (logo_FWRT (logo_MULL logo_UL 1) (logo_DIVA logo_UA 6) $0))) $0))))\n",
      "-- line art\n",
      "(lambda (logo_forLoop 6 (lambda (lambda (logo_GETSET (lambda (logo_FWRT (logo_MULL logo_UL 1) logo_ZA (logo_forLoop logo_IFTY (lambda (lambda (logo_FWRT (logo_MULL logo_epsL 1) logo_epsA $0))) $0))) (logo_FWRT logo_ZL (logo_DIVA logo_UA 6) $0)))) $0))\n",
      "-- 6 pentagon s in a row\n",
      "(lambda (logo_forLoop 6 (lambda (lambda (logo_GETSET (lambda (logo_forLoop 5 (lambda (lambda (logo_FWRT (logo_MULL logo_UL 1) (logo_DIVA logo_UA 5) $0))) $0)) (logo_PT (lambda (logo_FWRT logo_UL logo_ZA $0)) $0)))) $0))\n",
      "-- 3 lined snowflake pattern connected at a point in center 3 smallmedium square s on each line at ends\n",
      "(lambda (logo_forLoop 3 (lambda (lambda (logo_GETSET (lambda (logo_FWRT (logo_MULL logo_UL 1) logo_ZA (logo_forLoop 4 (lambda (lambda (logo_FWRT (logo_MULL logo_UL 1) (logo_DIVA logo_UA 4) $0))) $0))) (logo_FWRT logo_ZL (logo_DIVA logo_UA 3) $0)))) $0))\n",
      "-- flower with hexagon s\n",
      "(lambda (logo_forLoop 6 (lambda (lambda (logo_GETSET (lambda (logo_PT (lambda (logo_FWRT logo_UL logo_ZA $0)) (logo_forLoop 5 (lambda (lambda (logo_FWRT (logo_MULL logo_UL 1) (logo_DIVA logo_UA 5) $0))) (logo_PT (lambda (logo_FWRT logo_UL logo_ZA $0)) (logo_FWRT logo_UL logo_ZA $0))))) (logo_FWRT logo_ZL (logo_DIVA logo_UA 6) $0)))) $0))\n",
      "-- 3 disjoint lines\n",
      "(lambda (logo_forLoop 3 (lambda (lambda (logo_GETSET (lambda (logo_PT (lambda (logo_FWRT logo_UL logo_ZA $0)) (logo_FWRT logo_UL logo_ZA (logo_PT (lambda (logo_FWRT logo_UL logo_ZA $0)) (logo_FWRT logo_UL logo_ZA $0))))) (logo_FWRT logo_ZL (logo_DIVA logo_UA 3) $0)))) $0))\n",
      "-- octogon\n",
      "(lambda (logo_forLoop 8 (lambda (lambda (logo_FWRT (logo_MULL logo_UL 2) (logo_DIVA logo_UA 8) $0))) $0))\n",
      "-- 4 medium semicircle s in a row\n",
      "(lambda (logo_forLoop 4 (lambda (lambda (logo_GETSET (lambda (logo_forLoop logo_IFTY (lambda (lambda (logo_FWRT (logo_MULL logo_epsL 2) logo_epsA $0))) $0)) (logo_PT (lambda (logo_FWRT logo_UL logo_ZA $0)) $0)))) $0))\n",
      "-- a small circle connected at the bottom to a line connected to a small semi circle\n",
      "(lambda (logo_forLoop logo_IFTY (lambda (lambda (logo_FWRT (logo_MULL logo_epsL 1) logo_epsA $0))) (logo_forLoop logo_IFTY (lambda (lambda (logo_FWRT (logo_MULL logo_epsL 1) logo_epsA $0))) (logo_FWRT (logo_MULL logo_UL 5) logo_ZA (logo_forLoop logo_IFTY (lambda (lambda (logo_FWRT (logo_MULL logo_epsL 1) logo_epsA $0))) $0)))))\n",
      "-- i big pentagon and 1 small pentagon inside\n",
      "(lambda (logo_forLoop 5 (lambda (lambda (logo_FWRT (logo_MULL logo_UL 2) (logo_DIVA logo_UA 5) $0))) (logo_PT (lambda (logo_FWRT (logo_MULL logo_UL 2) logo_ZA $0)) (logo_forLoop 5 (lambda (lambda (logo_FWRT (logo_MULL logo_UL 1) (logo_DIVA logo_UA 5) $0))) $0))))\n",
      "-- a 6 sided gon that is divided into 6 triangles on the inside\n",
      "(lambda (logo_forLoop 6 (lambda (lambda (logo_GETSET (lambda (logo_forLoop 3 (lambda (lambda (logo_FWRT (logo_MULL logo_UL 1) (logo_DIVA logo_UA 3) $0))) $0)) (logo_FWRT logo_ZL (logo_DIVA logo_UA 6) $0)))) $0))\n",
      "-- octagon fiolled with 9 balck sied\n",
      "(lambda (logo_forLoop 8 (lambda (lambda (logo_GETSET (lambda (logo_forLoop 3 (lambda (lambda (logo_FWRT (logo_MULL logo_UL 1) (logo_DIVA logo_UA 3) $0))) $0)) (logo_FWRT logo_ZL (logo_DIVA logo_UA 8) $0)))) $0))\n",
      "-- 7 slices forming a circular formation\n",
      "\n"
     ]
    }
   ],
   "source": [
    "print(prompt)"
   ]
  },
  {
   "cell_type": "code",
   "execution_count": null,
   "id": "e7988d2a-cef5-4b50-97ee-38eba0a5536a",
   "metadata": {},
   "outputs": [],
   "source": []
  },
  {
   "cell_type": "code",
   "execution_count": null,
   "id": "1fad82a1-6137-4152-9058-a441b997d743",
   "metadata": {},
   "outputs": [],
   "source": []
  }
 ],
 "metadata": {
  "kernelspec": {
   "display_name": "Python 3 (ipykernel)",
   "language": "python",
   "name": "python3"
  },
  "language_info": {
   "codemirror_mode": {
    "name": "ipython",
    "version": 3
   },
   "file_extension": ".py",
   "mimetype": "text/x-python",
   "name": "python",
   "nbconvert_exporter": "python",
   "pygments_lexer": "ipython3",
   "version": "3.7.12"
  }
 },
 "nbformat": 4,
 "nbformat_minor": 5
}
