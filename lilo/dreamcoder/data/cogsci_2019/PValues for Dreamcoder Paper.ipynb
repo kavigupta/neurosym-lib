{
 "cells": [
  {
   "cell_type": "code",
   "execution_count": 3,
   "metadata": {},
   "outputs": [],
   "source": [
    "import numpy as np\n",
    "import scipy as scipy\n",
    "from scipy.stats import ttest_ind, f_oneway\n",
    "import pandas as pd"
   ]
  },
  {
   "cell_type": "code",
   "execution_count": 2,
   "metadata": {},
   "outputs": [
    {
     "name": "stdout",
     "output_type": "stream",
     "text": [
      "Domain          object\n",
      "Metric          object\n",
      "Expertise       object\n",
      "Correlation    float64\n",
      "dtype: object\n",
      "   Domain      Metric Expertise  Correlation\n",
      "0    Text  embeddings    Novice     0.234264\n",
      "1    Text  embeddings    Novice     0.295957\n",
      "2    Text  embeddings    Novice     0.352927\n",
      "3    Text  embeddings    Novice     0.311403\n",
      "4    Text  embeddings    Novice     0.383802\n",
      "5    Text  embeddings    Expert     0.449876\n",
      "6    Text  embeddings    Expert     0.659829\n",
      "7    Text  embeddings    Expert     0.420126\n",
      "8    Text  embeddings    Expert     0.415363\n",
      "9    Text  embeddings    Expert     0.362667\n",
      "10   List  embeddings    Novice     0.044027\n",
      "11   List  embeddings    Novice     0.120915\n",
      "12   List  embeddings    Novice     0.038308\n",
      "13   List  embeddings    Novice     0.158708\n",
      "14   List  embeddings    Novice     0.104545\n",
      "15   List  embeddings    Expert     0.221276\n",
      "16   List  embeddings    Expert     0.215433\n",
      "17   List  embeddings    Expert     0.310650\n",
      "18   List  embeddings    Expert     0.221015\n",
      "19   List  embeddings    Expert     0.303261\n",
      "20   Logo  embeddings    Novice     0.143467\n",
      "21   Logo  embeddings    Novice     0.054404\n",
      "22   Logo  embeddings    Novice     0.260389\n",
      "23   Logo  embeddings    Novice     0.238740\n",
      "24   Logo  embeddings    Expert     0.322498\n",
      "25   Logo  embeddings    Expert     0.490150\n",
      "26   Logo  embeddings    Expert     0.383702\n",
      "27   Logo  embeddings    Expert     0.420425\n",
      "28  Tower  embeddings    Novice     0.339430\n",
      "29  Tower  embeddings    Novice     0.306094\n",
      "30  Tower  embeddings    Novice     0.376641\n",
      "31  Tower  embeddings    Novice     0.277219\n",
      "32  Tower  embeddings    Novice     0.217116\n",
      "33  Tower  embeddings    Expert     0.392578\n",
      "34  Tower  embeddings    Expert     0.359330\n",
      "35  Tower  embeddings    Expert     0.357821\n",
      "36  Tower  embeddings    Expert     0.404585\n",
      "37  Tower  embeddings    Expert     0.340521\n"
     ]
    }
   ],
   "source": [
    "\tsims = []\n",
    "\tmetric_to_plot = ['unigrams', 'bigrams', 'embeddings'][2]\n",
    "\twith(open('sims.txt')) as f:\n",
    "\t\tfor line in f:\n",
    "\t\t\tline = line.strip()\n",
    "\t\t\tdomain, metric, expertise = line.split()[0].split(\",\")\n",
    "\t\t\tif metric == metric_to_plot:\n",
    "\t\t\t\tfor correlation in line.split()[1].split(\",\"):\n",
    "\t\t\t\t\tsims.append([str(domain),str(metric),str(expertise),float(correlation)])\n",
    "\t\n",
    "\t\n",
    "\tsims = pd.DataFrame(sims, columns=['Domain', \"Metric\", \"Expertise\", \"Correlation\"])\n",
    "\tsims.Domain = sims.Domain.astype(str)\n",
    "\tsims.Metric = sims.Metric.astype(str)\n",
    "\tsims.Expertise = sims.Expertise.astype(str)\n",
    "\tprint(sims.dtypes)\n",
    "\n",
    "\t# Make a grouped barplot\n",
    "\tprint(sims)"
   ]
  },
  {
   "cell_type": "code",
   "execution_count": 7,
   "metadata": {},
   "outputs": [
    {
     "name": "stdout",
     "output_type": "stream",
     "text": [
      "Logo Expert\n",
      "[0.32249803 0.49014966 0.38370211 0.4204246 ]\n",
      "Logo Novice\n",
      "[0.1434666  0.05440446 0.26038937 0.23873982]\n",
      "Domain t-test ind Logo\n",
      "3.903733504039721 0.00794964565664826\n",
      "Tower Expert\n",
      "[0.39257758 0.35932962 0.35782114 0.40458462 0.3405212 ]\n",
      "Tower Novice\n",
      "[0.33942967 0.30609356 0.37664109 0.27721878 0.21711648]\n",
      "Domain t-test ind Tower\n",
      "2.2789641431247936 0.052155582647982125\n",
      "List Expert\n",
      "[0.22127555 0.2154325  0.31064976 0.22101491 0.30326127]\n",
      "List Novice\n",
      "[0.04402692 0.12091454 0.03830804 0.15870838 0.10454505]\n",
      "Domain t-test ind List\n",
      "5.104756928028637 0.0009244050261512192\n",
      "Text Expert\n",
      "[0.44987594 0.65982916 0.42012576 0.41536291 0.36266738]\n",
      "Text Novice\n",
      "[0.23426417 0.29595741 0.35292732 0.31140265 0.38380173]\n",
      "Domain t-test ind Text\n",
      "2.537099545086011 0.0348678678023194\n",
      "(36.26140357167559, 1.5727010804749426e-05)\n"
     ]
    }
   ],
   "source": [
    "p_vals = []\n",
    "for d in set(sims['Domain']):\n",
    "    vals = []\n",
    "    for e in set(sims['Expertise']):\n",
    "        print(d,e)\n",
    "        corrs = sims[(sims['Domain'] == d) & (sims['Expertise'] == e)]['Correlation'].to_numpy()\n",
    "        print(corrs)\n",
    "        vals.append(corrs)\n",
    "    novice, expert = vals\n",
    "    print('Domain t-test ind %s' % d)\n",
    "    statistic, p_value = ttest_ind(novice, expert, equal_var=True)\n",
    "    print(statistic, p_value)\n",
    "    p_vals.append(p_value)\n",
    "\n",
    "from scipy.stats import combine_pvalues\n",
    "print(combine_pvalues(p_vals))"
   ]
  },
  {
   "cell_type": "code",
   "execution_count": null,
   "metadata": {},
   "outputs": [],
   "source": [
    "# Two way ANOVA\n",
    "\n"
   ]
  },
  {
   "cell_type": "code",
   "execution_count": 6,
   "metadata": {},
   "outputs": [
    {
     "name": "stdout",
     "output_type": "stream",
     "text": [
      "Tower Expert\n",
      "[0.39257758 0.35932962 0.35782114 0.40458462 0.3405212 ]\n",
      "Tower Novice\n",
      "[0.33942967 0.30609356 0.37664109 0.27721878 0.21711648]\n",
      "Domain t-test ind Tower\n",
      "Ttest_indResult(statistic=2.2789641431247936, pvalue=0.052155582647982125)\n",
      "Logo Expert\n",
      "[0.32249803 0.49014966 0.38370211 0.4204246 ]\n",
      "Logo Novice\n",
      "[0.1434666  0.05440446 0.26038937 0.23873982]\n",
      "Domain t-test ind Logo\n",
      "Ttest_indResult(statistic=3.903733504039721, pvalue=0.00794964565664826)\n",
      "Text Expert\n",
      "[0.44987594 0.65982916 0.42012576 0.41536291 0.36266738]\n",
      "Text Novice\n",
      "[0.23426417 0.29595741 0.35292732 0.31140265 0.38380173]\n",
      "Domain t-test ind Text\n",
      "Ttest_indResult(statistic=2.537099545086011, pvalue=0.0348678678023194)\n",
      "List Expert\n",
      "[0.22127555 0.2154325  0.31064976 0.22101491 0.30326127]\n",
      "List Novice\n",
      "[0.04402692 0.12091454 0.03830804 0.15870838 0.10454505]\n",
      "Domain t-test ind List\n",
      "Ttest_indResult(statistic=5.104756928028637, pvalue=0.0009244050261512192)\n",
      "[0.39257758192608067, 0.35932961728341883, 0.35782114290397443, 0.4045846176094767, 0.3405211990178242, 0.3224980289481586, 0.49014966215865, 0.38370210947232336, 0.42042459694001827, 0.44987594467233855, 0.6598291591415306, 0.42012576182031713, 0.4153629072939633, 0.3626673801374231, 0.2212755515758747, 0.2154325005283274, 0.3106497560793832, 0.2210149128628062, 0.30326126659193786]\n",
      "[0.33942966646283346, 0.3060935643061028, 0.37664108666079504, 0.2772187833297182, 0.21711647587911184, 0.1434666049322267, 0.054404455050405996, 0.26038936505690014, 0.23873982426647503, 0.23426416500089228, 0.29595740584072977, 0.35292731598929744, 0.3114026490405855, 0.38380172683734914, 0.04402691896101889, 0.12091453873129572, 0.038308042140182894, 0.15870838339918963, 0.10454505135087352]\n",
      "Ttest_indResult(statistic=4.157078420900425, pvalue=0.00019013665400581517)\n"
     ]
    }
   ],
   "source": [
    "all_novice, all_expert = [], []\n",
    "for d in set(sims['Domain']):\n",
    "    vals = []\n",
    "    for e in set(sims['Expertise']):\n",
    "        print(d,e)\n",
    "        corrs = sims[(sims['Domain'] == d) & (sims['Expertise'] == e)]['Correlation'].to_numpy()\n",
    "        print(corrs)\n",
    "        vals.append(corrs)\n",
    "    novice, expert = vals\n",
    "    all_novice += list(novice)\n",
    "    all_expert += list(expert)\n",
    "    print('Domain t-test ind %s' % d)\n",
    "    print(ttest_ind(novice, expert, equal_var=True))\n",
    "print(all_novice)\n",
    "print(all_expert)\n",
    "print(ttest_ind(all_novice, all_expert, equal_var=True))"
   ]
  },
  {
   "cell_type": "code",
   "execution_count": null,
   "metadata": {},
   "outputs": [],
   "source": []
  }
 ],
 "metadata": {
  "kernelspec": {
   "display_name": "Python 3",
   "language": "python",
   "name": "python3"
  },
  "language_info": {
   "codemirror_mode": {
    "name": "ipython",
    "version": 3
   },
   "file_extension": ".py",
   "mimetype": "text/x-python",
   "name": "python",
   "nbconvert_exporter": "python",
   "pygments_lexer": "ipython3",
   "version": "3.7.5"
  }
 },
 "nbformat": 4,
 "nbformat_minor": 2
}
