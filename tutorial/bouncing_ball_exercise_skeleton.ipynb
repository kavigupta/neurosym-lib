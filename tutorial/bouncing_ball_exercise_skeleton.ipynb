{
 "cells": [
  {
   "cell_type": "markdown",
   "metadata": {},
   "source": [
    "# Neurosymbolic Software Tutorial - NEAR Bouncing Ball\n",
    "\n",
    "<a target=\"_blank\" href=\"https://colab.research.google.com/github/kavigupta/neurosym-lib/blob/main/tutorial/bouncing_ball_exercise_skeleton.ipynb\">\n",
    "  <img src=\"https://colab.research.google.com/assets/colab-badge.svg\" alt=\"Open In Colab\"/>\n",
    "</a>\n",
    "\n",
    "## Instruction\n",
    "- Navigating this notebook on Google Colab: There will be text blocks and code blocks throughout the notebook. The text blocks, such as this one, will contain instructions and questions for you to consider. The code blocks, such as the one below, will contain executible code. Sometimes you will have to modify the code blocks following the instructions in the text blocks. You can run the code block by either pressing control/cmd + enter or by clicking the arrow on left-hand side.\n",
    "- Saving Work: If you wish to save your work in this .ipynb, we recommend downloading the compressed repository from GitHub, unzipping it, uploading it to Google Drive, and opening this notebook from within Google Drive.\n",
    "\n",
    "## Notebook\n",
    "\n",
    "In this notebook, you will construct a DSL to simulate a bouncing ball"
   ]
  },
  {
   "cell_type": "code",
   "execution_count": 1,
   "metadata": {},
   "outputs": [],
   "source": [
    "%load_ext autoreload\n",
    "%autoreload 2\n",
    "%matplotlib inline\n",
    "\n",
    "import logging\n",
    "import os\n",
    "\n",
    "import numpy as np\n",
    "import matplotlib.pyplot as plt\n",
    "import torch\n",
    "import torch.nn as nn\n",
    "\n",
    "import neurosym as ns\n",
    "from neurosym.examples import near\n",
    "\n",
    "pl = ns.import_pytorch_lightning()\n"
   ]
  },
  {
   "cell_type": "code",
   "execution_count": 2,
   "metadata": {},
   "outputs": [],
   "source": [
    "torch.manual_seed(0)\n",
    "np.random.seed(0)"
   ]
  },
  {
   "cell_type": "markdown",
   "metadata": {},
   "source": [
    "## Data\n",
    "\n",
    "We then load and plot some bouncing ball trajectories. Note that these trajectories are represented as a list `[x, y, vx, vy]`"
   ]
  },
  {
   "cell_type": "code",
   "execution_count": 3,
   "metadata": {},
   "outputs": [],
   "source": [
    "dataset_factory = lambda train_seed: ns.DatasetWrapper(\n",
    "    ns.DatasetFromNpy(\n",
    "        f\"bouncing_ball_exercise/data/bounce_example/train_ex_data.npy\",\n",
    "        f\"bouncing_ball_exercise/data/bounce_example/train_ex_labels.npy\",\n",
    "        train_seed,\n",
    "    ),\n",
    "    ns.DatasetFromNpy(\n",
    "        f\"bouncing_ball_exercise/data/bounce_example/test_ex_data.npy\",\n",
    "        f\"bouncing_ball_exercise/data/bounce_example/test_ex_labels.npy\",\n",
    "        None,\n",
    "    ),\n",
    "    batch_size=200,\n",
    ")\n",
    "datamodule = dataset_factory(42)"
   ]
  },
  {
   "cell_type": "code",
   "execution_count": 4,
   "metadata": {},
   "outputs": [],
   "source": [
    "def plot_trajectory(trajectory, color):\n",
    "    plt.scatter(trajectory[:, 0], trajectory[:, 1], marker=\"o\", color=color)\n",
    "    plt.plot(trajectory[:, 0], trajectory[:, 1], alpha=0.2, color=color)\n",
    "    plt.xlim(-5, 10)\n",
    "    plt.ylim(-5, 7)\n",
    "    plt.grid(True)"
   ]
  },
  {
   "cell_type": "code",
   "execution_count": 5,
   "metadata": {},
   "outputs": [],
   "source": [
    "for i in range(3):\n",
    "    plot_trajectory(datamodule.train.inputs[i], f\"C{i}\")"
   ]
  },
  {
   "cell_type": "code",
   "execution_count": 6,
   "metadata": {},
   "outputs": [],
   "source": [
    "print(\"input[0] :\", datamodule.train.inputs[i, 0])\n",
    "print(\"output[0]:\", datamodule.train.outputs[i, 0])"
   ]
  },
  {
   "cell_type": "markdown",
   "metadata": {},
   "source": [
    "## Exercise: DSL\n",
    "\n",
    "Fill in the `bounce_dsl` to parameterize the space of functions that could represent the trajectories of bouncing balls."
   ]
  },
  {
   "cell_type": "code",
   "execution_count": 7,
   "metadata": {},
   "outputs": [],
   "source": [
    "def bounce_dsl():\n",
    "    L = 4\n",
    "    O = 4\n",
    "    dslf = ns.DSLFactory(L=L, O=O, max_overall_depth=5)\n",
    "    \"YOUR CODE HERE\"\n",
    "    dslf.prune_to(\"[$fL] -> [$fL]\")\n",
    "    return dslf.finalize()"
   ]
  },
  {
   "cell_type": "code",
   "execution_count": 8,
   "metadata": {},
   "outputs": [],
   "source": [
    "dsl = bounce_dsl()"
   ]
  },
  {
   "cell_type": "markdown",
   "metadata": {},
   "source": [
    "### DSL Printout\n",
    "\n",
    "See your DSL printed below, and ensure it is what you would expect"
   ]
  },
  {
   "cell_type": "code",
   "execution_count": 9,
   "metadata": {},
   "outputs": [],
   "source": [
    "print(dsl.render())"
   ]
  },
  {
   "cell_type": "markdown",
   "metadata": {},
   "source": [
    "### Setting up Neural DSL"
   ]
  },
  {
   "cell_type": "code",
   "execution_count": 10,
   "metadata": {},
   "outputs": [],
   "source": [
    "input_dim, output_dim = 4, 4\n",
    "max_depth = 16"
   ]
  },
  {
   "cell_type": "code",
   "execution_count": 11,
   "metadata": {},
   "outputs": [],
   "source": [
    "t = ns.TypeDefiner(L=input_dim, O=output_dim)\n",
    "t.typedef(\"fL\", \"{f, $L}\")\n",
    "neural_modules = {\n",
    "        **near.create_modules(\n",
    "            \"mlp\",\n",
    "            [t(\"($fL) -> $fL\")],\n",
    "            near.mlp_factory(hidden_size=10),\n",
    "        ),\n",
    "        **near.create_modules(\n",
    "            \"rnn_seq2seq\",\n",
    "            [t(\"([$fL]) -> [$fL]\")],\n",
    "            near.rnn_factory_seq2seq(hidden_size=10),\n",
    "        ),\n",
    "    }"
   ]
  },
  {
   "cell_type": "code",
   "execution_count": 12,
   "metadata": {},
   "outputs": [],
   "source": [
    "interface = near.NEAR(\n",
    "    input_dim=input_dim,\n",
    "    output_dim=output_dim,\n",
    "    max_depth=max_depth,\n",
    "    lr=5e-3,\n",
    "    max_seq_len=300,\n",
    "    n_epochs=100,\n",
    "    accelerator=\"cpu\",\n",
    ")\n",
    "interface.register_search_params(\n",
    "    dsl=dsl,\n",
    "    type_env=t,\n",
    "    neural_modules=neural_modules,\n",
    "    search_strategy=ns.search.bounded_astar,\n",
    "    loss_callback=torch.nn.functional.mse_loss,\n",
    "    validation_params=dict(\n",
    "        enable_progress_bar=False,\n",
    "        enable_model_summary=False,\n",
    "        progress_by_epoch=True,\n",
    "    )\n",
    ")"
   ]
  },
  {
   "cell_type": "markdown",
   "metadata": {},
   "source": [
    "### Run NEAR"
   ]
  },
  {
   "cell_type": "code",
   "execution_count": 13,
   "metadata": {
    "scrolled": true
   },
   "outputs": [],
   "source": [
    "best_programs = interface.fit(\n",
    "    datamodule=datamodule,\n",
    "    program_signature=\"([{f, $L}]) -> [{f, $O}]\",\n",
    "    n_programs=4\n",
    ")"
   ]
  },
  {
   "cell_type": "markdown",
   "metadata": {},
   "source": [
    "### Top 3 Programs\n",
    "\n",
    "The code below assumes you found some top 3 programs and stored them in the best_program_nodes variable."
   ]
  },
  {
   "cell_type": "markdown",
   "metadata": {},
   "source": [
    "The function below is set up to further fine tune the program, test it, and return a set of values produced by it."
   ]
  },
  {
   "cell_type": "code",
   "execution_count": 14,
   "metadata": {},
   "outputs": [],
   "source": [
    "best_program_nodes = [(p, None) for p in best_programs]"
   ]
  },
  {
   "cell_type": "code",
   "execution_count": 15,
   "metadata": {},
   "outputs": [],
   "source": [
    "def testProgram(best_program_node):\n",
    "    module = interface.train_program(\n",
    "        best_program_node[0].program,\n",
    "        datamodule,\n",
    "        max_epochs=4000,\n",
    "        callbacks=[\n",
    "            pl.callbacks.EarlyStopping(monitor=\"val_loss\", min_delta=1e-4, patience=5)\n",
    "        ],\n",
    "        enable_progress_bar=False,\n",
    "    )\n",
    "    T = 100\n",
    "    path = np.zeros((T, 4))\n",
    "    X = torch.tensor(\n",
    "        np.array([0.21413583, 4.4062634, 3.4344807, 0.12440437]), dtype=torch.float32\n",
    "    )\n",
    "    for t in range(T):\n",
    "        path[t, :] = X.detach().numpy()\n",
    "        Y = best_program(X.unsqueeze(0)).squeeze(0)\n",
    "        X = Y\n",
    "    return path"
   ]
  },
  {
   "cell_type": "code",
   "execution_count": 16,
   "metadata": {},
   "outputs": [],
   "source": [
    "trajectories = [program_to_trajectory(prog) for prog in best_programs]"
   ]
  },
  {
   "cell_type": "markdown",
   "metadata": {},
   "source": [
    "## Plotting Trajectories"
   ]
  },
  {
   "cell_type": "code",
   "execution_count": 17,
   "metadata": {},
   "outputs": [],
   "source": [
    "plt.figure(figsize=(8, 8))\n",
    "\n",
    "for i, trajectory in enumerate(trajectories):\n",
    "    plot_trajectory(trajectory, f\"C{i}\")\n",
    "plot_trajectory(datamodule.train.inputs[0], \"black\")\n",
    "\n",
    "plt.title(\"Bouncing ball (ground truth in black)\")\n",
    "plt.show()\n"
   ]
  }
 ],
 "metadata": {
  "kernelspec": {
   "display_name": "Python 3",
   "language": "python",
   "name": "python3"
  },
  "language_info": {
   "codemirror_mode": {
    "name": "ipython",
    "version": 3
   },
   "file_extension": ".py",
   "mimetype": "text/x-python",
   "name": "python",
   "nbconvert_exporter": "python",
   "pygments_lexer": "ipython3",
   "version": "3.11.7"
  }
 },
 "nbformat": 4,
 "nbformat_minor": 4
}
